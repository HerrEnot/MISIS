{
 "cells": [
  {
   "cell_type": "markdown",
   "id": "ordered-bristol",
   "metadata": {},
   "source": [
    "# Урок 4"
   ]
  },
  {
   "cell_type": "markdown",
   "id": "monetary-harris",
   "metadata": {},
   "source": [
    "### 1 Функции. Введение\n",
    "### 2 Базовые коллекции\n",
    "### 3 Словари"
   ]
  },
  {
   "cell_type": "code",
   "execution_count": null,
   "id": "quantitative-uganda",
   "metadata": {},
   "outputs": [],
   "source": []
  },
  {
   "cell_type": "markdown",
   "id": "saved-andrews",
   "metadata": {},
   "source": [
    "## Перебирание объектов\n"
   ]
  },
  {
   "cell_type": "code",
   "execution_count": null,
   "id": "relevant-entity",
   "metadata": {},
   "outputs": [],
   "source": [
    "Можно ещё использовать разные встроеные вспомогательные фишечки. Помедитируете над этими вещами\n"
   ]
  },
  {
   "cell_type": "code",
   "execution_count": null,
   "id": "focal-pattern",
   "metadata": {},
   "outputs": [],
   "source": [
    "for i in enumerate(['a', 'b', 'c']):\n",
    "    print(i)"
   ]
  },
  {
   "cell_type": "code",
   "execution_count": null,
   "id": "reliable-mainstream",
   "metadata": {},
   "outputs": [],
   "source": [
    "for a,b in enumerate(['a','b','c']):\n",
    "        print(a, \":\", b)"
   ]
  },
  {
   "cell_type": "code",
   "execution_count": null,
   "id": "certain-shaft",
   "metadata": {},
   "outputs": [],
   "source": [
    "for i in range(5):\n",
    "    print(i)"
   ]
  },
  {
   "cell_type": "code",
   "execution_count": null,
   "id": "bigger-least",
   "metadata": {},
   "outputs": [],
   "source": []
  },
  {
   "cell_type": "markdown",
   "id": "confused-calibration",
   "metadata": {},
   "source": [
    "Если вам нужно выполнить задачу несколько раз в рамках программы, вам не нужно набирать весь код для одной и той же задачи снова и снова; вы просто вызываете функцию, предназначенную для обработки этой задачи, и этот вызов указывает Python выполнить код внутри функции."
   ]
  },
  {
   "cell_type": "markdown",
   "id": "million-discovery",
   "metadata": {},
   "source": [
    "##  Функции. Введение"
   ]
  },
  {
   "cell_type": "markdown",
   "id": "recreational-cosmetic",
   "metadata": {},
   "source": [
    "Функция — это последовательность инструкций, которые должен выполнить Python. Каждая функция в Python начинается с ключевого слова def, имеет свое имя и параметры. Давай начнем с простого примера. Замени код в python_intro.py на следующий:\n",
    "\n"
   ]
  },
  {
   "cell_type": "markdown",
   "id": "mediterranean-management",
   "metadata": {},
   "source": [
    "Структура функции:\n",
    "\n",
    "def - для объявления функции используется ключевое слово def.\n",
    "После def идёт имя функции (старайтесь давать функциям осмысленные имена)\n",
    "После имени функции в круглых скобках идут параметры функции (если функция не принимает параметров, то пустые круглые скобки)\n",
    "С новой строки с отступом (аналогичным условиям и циклам) пишется \"тело функции\", т.е. код, исполняющийся в случае исполнения (вызова) функции.\n",
    "Для возврата функцией каких-либо значений используется ключевое слово return (в теле функции может быть несколько return, например, если надо возвращать разные значения в случае выполнения разных условий)"
   ]
  },
  {
   "cell_type": "code",
   "execution_count": 2,
   "id": "prime-consultancy",
   "metadata": {},
   "outputs": [
    {
     "name": "stdout",
     "output_type": "stream",
     "text": [
      "Hi there!\n",
      "How are you?\n"
     ]
    }
   ],
   "source": [
    "def hi():\n",
    "    print('Hi there!')\n",
    "    print('How are you?')\n",
    "\n",
    "hi()"
   ]
  },
  {
   "cell_type": "markdown",
   "id": "economic-sunglasses",
   "metadata": {},
   "source": [
    "Отлично, наша первая функция готова!\n",
    "\n"
   ]
  },
  {
   "cell_type": "code",
   "execution_count": 3,
   "id": "cosmetic-plant",
   "metadata": {},
   "outputs": [
    {
     "name": "stdout",
     "output_type": "stream",
     "text": [
      "Hi there!\n",
      "How are you?\n"
     ]
    }
   ],
   "source": [
    "hi()"
   ]
  },
  {
   "cell_type": "markdown",
   "id": "operational-lobby",
   "metadata": {},
   "source": [
    "Ты можешь задаться вопросом, почему мы написали имя функции в конце файла. Причина в том, что Python читает и исполняет код из файла сверху вниз. Поэтому для использования нашей функции мы должны вызвать её в конце файла.\n",
    "\n"
   ]
  },
  {
   "cell_type": "markdown",
   "id": "emerging-military",
   "metadata": {},
   "source": [
    "Давай напишем нашу первую функцию с параметрами. Мы будем использовать предыдущий пример — функцию, которая пишет 'hi' и имя пользователя:\n",
    "\n"
   ]
  },
  {
   "cell_type": "code",
   "execution_count": 7,
   "id": "concerned-recipe",
   "metadata": {},
   "outputs": [],
   "source": [
    "def hi(name):\n",
    "    if name == 'Ola':\n",
    "        print('Hi Ole4ka!')\n",
    "    elif name == 'Sonja':\n",
    "        print('Hi Sone4ka!')\n",
    "    else:\n",
    "        print('Hi anonymous!')"
   ]
  },
  {
   "cell_type": "code",
   "execution_count": 5,
   "id": "annoying-westminster",
   "metadata": {},
   "outputs": [
    {
     "ename": "TypeError",
     "evalue": "hi() missing 1 required positional argument: 'name'",
     "output_type": "error",
     "traceback": [
      "\u001b[0;31m---------------------------------------------------------------------------\u001b[0m",
      "\u001b[0;31mTypeError\u001b[0m                                 Traceback (most recent call last)",
      "\u001b[0;32m<ipython-input-5-ce8dd9c0d491>\u001b[0m in \u001b[0;36m<module>\u001b[0;34m\u001b[0m\n\u001b[0;32m----> 1\u001b[0;31m \u001b[0mhi\u001b[0m\u001b[0;34m(\u001b[0m\u001b[0;34m)\u001b[0m\u001b[0;34m\u001b[0m\u001b[0;34m\u001b[0m\u001b[0m\n\u001b[0m",
      "\u001b[0;31mTypeError\u001b[0m: hi() missing 1 required positional argument: 'name'"
     ]
    }
   ],
   "source": [
    "hi()\n"
   ]
  },
  {
   "cell_type": "code",
   "execution_count": 8,
   "id": "running-jimmy",
   "metadata": {},
   "outputs": [
    {
     "name": "stdout",
     "output_type": "stream",
     "text": [
      "Hi Ole4ka!\n"
     ]
    }
   ],
   "source": [
    "hi(\"Ola\")"
   ]
  },
  {
   "cell_type": "code",
   "execution_count": 9,
   "id": "failing-imaging",
   "metadata": {},
   "outputs": [
    {
     "name": "stdout",
     "output_type": "stream",
     "text": [
      "Hi anonymous!\n"
     ]
    }
   ],
   "source": [
    "hi('Brunhilda')"
   ]
  },
  {
   "cell_type": "code",
   "execution_count": 10,
   "id": "minus-portrait",
   "metadata": {},
   "outputs": [
    {
     "name": "stdout",
     "output_type": "stream",
     "text": [
      "Hi Rachel!\n"
     ]
    }
   ],
   "source": [
    "def hi(name):\n",
    "    print('Hi ' + name + '!')\n",
    "\n",
    "hi(\"Rachel\")"
   ]
  },
  {
   "cell_type": "markdown",
   "id": "consistent-entry",
   "metadata": {},
   "source": [
    "Первая часть функции определяет его. Подобно установке значения переменной, определение функции дает вам что-то для вызова, когда вы хотите использовать эту функцию. Также похоже на переменную, он должен быть достаточно длинным, чтобы быть описательным, но достаточно коротким, чтобы его можно было легко повторить:\n"
   ]
  },
  {
   "cell_type": "code",
   "execution_count": null,
   "id": "exterior-editing",
   "metadata": {},
   "outputs": [],
   "source": [
    "def function ():\n",
    "     # некоторые операторы функций\n",
    "# too long \n",
    "def function_to_do_all_the_things_i_want_it_to_do_and_more():\n",
    "     # некоторые операторы функций\n",
    "# как раз \n",
    "def silly_name_generator ():\n",
    "     # некоторые операторы функций"
   ]
  },
  {
   "cell_type": "markdown",
   "id": "returning-transportation",
   "metadata": {},
   "source": [
    "Вы можете передать информацию функции, включив аргументы функции в круглые скобки в определении функции. Добавляя аргумент, вы позволяете функции принимать разные значения и выполнять одни и те же задачи. Теперь функция ожидает, что вы будете указывать значение аргумента каждый раз, когда вы его вызываете. Когда вы звоните hi(), вы можете передать ему имя, например, «jesse» . Например, вот функция, которая проверяет, доступен ли конкретный напиток в  магазине:\n"
   ]
  },
  {
   "cell_type": "code",
   "execution_count": null,
   "id": "living-wallace",
   "metadata": {},
   "outputs": [],
   "source": [
    "def  red_white_drinks_is_available ( drink_name ):\n",
    "     available_drinks  = [ 'mate' , 'beer' , 'wine' , 'coffee' , 'tea' ]\n",
    "     if  drink_name  in  available_drinks :\n",
    "         print ( f\"У нас есть { drink_name } в магазине!\" )\n",
    "     else : \n",
    "         print ( f\"Извините, у нас нет { drink_name } в нашем магазине\" )"
   ]
  },
  {
   "cell_type": "markdown",
   "id": "charitable-protest",
   "metadata": {},
   "source": [
    "Выше мы только определили функцию. Если мы хотим использовать функцию, нам нужно ее вызвать и включить параметр для аргумента drink.\n"
   ]
  },
  {
   "cell_type": "code",
   "execution_count": null,
   "id": "apart-sleep",
   "metadata": {},
   "outputs": [],
   "source": [
    "red_white_drinks_is_available ( 'cider' )\n",
    "red_white_drinks_is_available ( 'coffee' )"
   ]
  },
  {
   "cell_type": "markdown",
   "id": "conscious-contractor",
   "metadata": {},
   "source": [
    "Мы можем поставить все, что захотим, в качестве аргумента нашей функции.\n"
   ]
  },
  {
   "cell_type": "code",
   "execution_count": 11,
   "id": "unsigned-pencil",
   "metadata": {},
   "outputs": [],
   "source": [
    "def  red_white_drinks_is_available ( drink = 'beer' ):\n",
    "     available_drinks  = [ 'mate' , 'beer' , 'wine' , 'coffee' , 'tea' ]\n",
    "     if  drink  in  available_drinks :\n",
    "         print ( f\"У нас есть { drink } в магазине!\" )\n",
    "     else : \n",
    "         print ( f\"Извините, у нас нет { drink } в нашем магазине\" )"
   ]
  },
  {
   "cell_type": "code",
   "execution_count": 12,
   "id": "passing-lafayette",
   "metadata": {},
   "outputs": [
    {
     "name": "stdout",
     "output_type": "stream",
     "text": [
      "У нас есть beer в магазине!\n"
     ]
    }
   ],
   "source": [
    "red_white_drinks_is_available()"
   ]
  },
  {
   "cell_type": "code",
   "execution_count": 13,
   "id": "elegant-entrance",
   "metadata": {},
   "outputs": [
    {
     "name": "stdout",
     "output_type": "stream",
     "text": [
      "Извините, у нас нет sdsd в нашем магазине\n"
     ]
    }
   ],
   "source": [
    "red_white_drinks_is_available('sdsd')"
   ]
  },
  {
   "cell_type": "code",
   "execution_count": null,
   "id": "divine-vegetable",
   "metadata": {},
   "outputs": [],
   "source": [
    "def func(hello=\"Дратути\"):\n",
    "    who = input(\"Как вас зовут? \")\n",
    "    print(hello, who)\n",
    "func()"
   ]
  },
  {
   "cell_type": "markdown",
   "id": "interracial-present",
   "metadata": {},
   "source": [
    "Для того, чтобы введённый код не испортил вам ничего, то, что возвращает input это всегда строка. Поэтому если вы хотите с тем, что ввёл пользователй что-то сделать, надо сначала скастоватьпреобразовать к нужному типу.\n"
   ]
  },
  {
   "cell_type": "code",
   "execution_count": 17,
   "id": "southeast-burden",
   "metadata": {},
   "outputs": [],
   "source": [
    "def greet_someone(greeting, name, age):\n",
    "    if isinstance(age, str):\n",
    "        age = int(age)\n",
    "        \n",
    "    if age >= 18:\n",
    "        print(f'{greeting}, {name}! Ты уже можешь сбегать в магазин за пивом. Захвати мне хугарден')\n",
    "    else:\n",
    "        print(f'{greeting}, {name}! Ну ты и малявка! Позови кого постарше, я хочу пива')"
   ]
  },
  {
   "cell_type": "code",
   "execution_count": null,
   "id": "sticky-visit",
   "metadata": {},
   "outputs": [],
   "source": [
    "greet_someone(\"Приветули\", \"Констатин Браварский\", \"27\")\n",
    "greet_someone(\"Здорово\", \"Жычуань Су\", 17)\n",
    "greet_someone(age=\"1337\", greeting=\"Hello there\", name=\"Друбрадр Данатович Хырдыбырдов\")"
   ]
  },
  {
   "cell_type": "markdown",
   "id": "norman-paste",
   "metadata": {},
   "source": [
    "Вроде работает. Осталось получать эти данные от пользователя.\n"
   ]
  },
  {
   "cell_type": "markdown",
   "id": "placed-rogers",
   "metadata": {},
   "source": [
    "Обратите внимание:\n",
    "\n",
    "наша функция greet_someone работает даже если age передан как строка\n",
    "в третьем вызове мы нарочно перепутали местами аргументы и чтобы интерпретатор не запутался, явно их подписали"
   ]
  },
  {
   "cell_type": "markdown",
   "id": "logical-suspension",
   "metadata": {},
   "source": [
    "Вообще говоря, вот эти вот манипуляции с isinstance считаются не очень хорошим тоном, и если вам надо их делать, вы скорее всего делаете что-то не очень красиво. Важно это помнить. Но в принципе, когда от нас приходит всегда строка (ввод пользователя), то у нас нет другого способа кроме как кастовать это на месте к нужному типу (в нашем случае — к числу)\n"
   ]
  },
  {
   "cell_type": "code",
   "execution_count": 14,
   "id": "premium-soldier",
   "metadata": {},
   "outputs": [],
   "source": [
    "def get_info_from_user(hello=\"Дратути\"):\n",
    "    who = input(\"Как тебя зовут? \")\n",
    "    age = input(\"А сколько тебе лет? \")\n",
    "    greet_someone(greeting=hello, name=who, age=int(age))"
   ]
  },
  {
   "cell_type": "code",
   "execution_count": 18,
   "id": "southeast-projector",
   "metadata": {},
   "outputs": [
    {
     "name": "stdout",
     "output_type": "stream",
     "text": [
      "Как тебя зовут? ddfd\n",
      "А сколько тебе лет? 12\n",
      "Дратути, ddfd! Ну ты и малявка! Позови кого постарше, я хочу пива\n"
     ]
    }
   ],
   "source": [
    "get_info_from_user()"
   ]
  },
  {
   "cell_type": "markdown",
   "id": "lasting-cookie",
   "metadata": {},
   "source": [
    "### Return"
   ]
  },
  {
   "cell_type": "code",
   "execution_count": 35,
   "id": "casual-facility",
   "metadata": {},
   "outputs": [],
   "source": [
    "def pow2(x):\n",
    "    return x**2"
   ]
  },
  {
   "cell_type": "code",
   "execution_count": 36,
   "id": "forty-detective",
   "metadata": {},
   "outputs": [
    {
     "data": {
      "text/plain": [
       "4"
      ]
     },
     "execution_count": 36,
     "metadata": {},
     "output_type": "execute_result"
    }
   ],
   "source": [
    "pow2(2)"
   ]
  },
  {
   "cell_type": "code",
   "execution_count": 37,
   "id": "noble-california",
   "metadata": {},
   "outputs": [],
   "source": [
    "a=pow2(2)"
   ]
  },
  {
   "cell_type": "code",
   "execution_count": 38,
   "id": "statistical-earth",
   "metadata": {},
   "outputs": [
    {
     "data": {
      "text/plain": [
       "4"
      ]
     },
     "execution_count": 38,
     "metadata": {},
     "output_type": "execute_result"
    }
   ],
   "source": [
    "a"
   ]
  },
  {
   "cell_type": "code",
   "execution_count": null,
   "id": "controversial-camping",
   "metadata": {},
   "outputs": [],
   "source": [
    "def add(x, y):\n",
    "    return x + y"
   ]
  },
  {
   "cell_type": "code",
   "execution_count": 40,
   "id": "italic-airplane",
   "metadata": {},
   "outputs": [],
   "source": [
    " def newfunc(n):\n",
    "     def myfunc(x):\n",
    "         return x + n\n",
    "     return myfunc"
   ]
  },
  {
   "cell_type": "code",
   "execution_count": 42,
   "id": "ranking-friendship",
   "metadata": {},
   "outputs": [],
   "source": [
    "new = newfunc(100)"
   ]
  },
  {
   "cell_type": "code",
   "execution_count": 43,
   "id": "textile-encoding",
   "metadata": {},
   "outputs": [
    {
     "data": {
      "text/plain": [
       "300"
      ]
     },
     "execution_count": 43,
     "metadata": {},
     "output_type": "execute_result"
    }
   ],
   "source": [
    "new(200)"
   ]
  },
  {
   "cell_type": "code",
   "execution_count": 39,
   "id": "greenhouse-classroom",
   "metadata": {},
   "outputs": [],
   "source": [
    "def sqrt(x):\n",
    "    if x >= 0:\n",
    "        return x**0.5\n",
    "    print ('ОШИБКА! Не удаётся извлечь корень.')"
   ]
  },
  {
   "cell_type": "code",
   "execution_count": null,
   "id": "blocked-plaintiff",
   "metadata": {},
   "outputs": [],
   "source": [
    "def empty_func():\n",
    "    pass"
   ]
  },
  {
   "cell_type": "markdown",
   "id": "better-wrist",
   "metadata": {},
   "source": [
    "Функция может принимать произвольное количество аргументов или не принимать их вовсе. Также распространены функции с произвольным числом аргументов, функции с позиционными и именованными аргументами, обязательными и необязательными.\n",
    "\n"
   ]
  },
  {
   "cell_type": "markdown",
   "id": "distant-lambda",
   "metadata": {},
   "source": [
    "Функция также может принимать переменное количество позиционных аргументов, тогда перед именем ставится *:\n",
    "\n"
   ]
  },
  {
   "cell_type": "code",
   "execution_count": 44,
   "id": "micro-abuse",
   "metadata": {},
   "outputs": [],
   "source": [
    "def func(*args):\n",
    "    return args"
   ]
  },
  {
   "cell_type": "code",
   "execution_count": 45,
   "id": "roman-rachel",
   "metadata": {},
   "outputs": [
    {
     "data": {
      "text/plain": [
       "(1, 2, 3, 'abc')"
      ]
     },
     "execution_count": 45,
     "metadata": {},
     "output_type": "execute_result"
    }
   ],
   "source": [
    "func(1, 2, 3, 'abc')"
   ]
  },
  {
   "cell_type": "markdown",
   "id": "japanese-visitor",
   "metadata": {},
   "source": [
    "Как видно из примера, args - это кортеж из всех переданных аргументов функции, и с переменной можно работать также, как и с кортежем.\n",
    "\n",
    "Функция может принимать и произвольное число именованных аргументов, тогда перед именем ставится **:"
   ]
  },
  {
   "cell_type": "code",
   "execution_count": 46,
   "id": "widespread-short",
   "metadata": {},
   "outputs": [],
   "source": [
    "def func(**kwargs):\n",
    "     return kwargs"
   ]
  },
  {
   "cell_type": "code",
   "execution_count": 47,
   "id": "honey-process",
   "metadata": {},
   "outputs": [
    {
     "data": {
      "text/plain": [
       "{'a': 1, 'b': 2, 'c': 3}"
      ]
     },
     "execution_count": 47,
     "metadata": {},
     "output_type": "execute_result"
    }
   ],
   "source": [
    "func(a=1, b=2, c=3)"
   ]
  },
  {
   "cell_type": "code",
   "execution_count": 48,
   "id": "viral-bloom",
   "metadata": {},
   "outputs": [
    {
     "data": {
      "text/plain": [
       "{}"
      ]
     },
     "execution_count": 48,
     "metadata": {},
     "output_type": "execute_result"
    }
   ],
   "source": [
    "func()"
   ]
  },
  {
   "cell_type": "code",
   "execution_count": 49,
   "id": "contrary-disposal",
   "metadata": {},
   "outputs": [
    {
     "data": {
      "text/plain": [
       "{'a': 'python'}"
      ]
     },
     "execution_count": 49,
     "metadata": {},
     "output_type": "execute_result"
    }
   ],
   "source": [
    "func(a='python')"
   ]
  },
  {
   "cell_type": "code",
   "execution_count": null,
   "id": "danish-enemy",
   "metadata": {},
   "outputs": [],
   "source": []
  },
  {
   "cell_type": "markdown",
   "id": "minus-massachusetts",
   "metadata": {},
   "source": [
    "## Область видимости переменной\n"
   ]
  },
  {
   "cell_type": "code",
   "execution_count": 59,
   "id": "metallic-ministry",
   "metadata": {},
   "outputs": [
    {
     "name": "stdout",
     "output_type": "stream",
     "text": [
      "5\n",
      "0\n"
     ]
    }
   ],
   "source": [
    "num = 0\n",
    "def func():\n",
    "    num = 5 # новая переменная внутри функции\n",
    "    print(num)\n",
    "func()\n",
    "print(num)"
   ]
  },
  {
   "cell_type": "code",
   "execution_count": null,
   "id": "ancient-video",
   "metadata": {},
   "outputs": [],
   "source": [
    "values = {'num': 3}\n",
    "def func():\n",
    "    # питон сообразит посмотреть выше\n",
    "    values['num'] = 5 \n",
    "print(values)\n",
    "func()\n",
    "print(values)"
   ]
  },
  {
   "cell_type": "code",
   "execution_count": null,
   "id": "derived-camping",
   "metadata": {},
   "outputs": [],
   "source": [
    "def func():\n",
    "    print(\"A message from insides of a function\")\n",
    "    \n",
    "func()"
   ]
  },
  {
   "cell_type": "code",
   "execution_count": null,
   "id": "bound-newcastle",
   "metadata": {},
   "outputs": [],
   "source": []
  },
  {
   "cell_type": "markdown",
   "id": "young-local",
   "metadata": {},
   "source": [
    "## Контейнеры"
   ]
  },
  {
   "cell_type": "markdown",
   "id": "collective-brunei",
   "metadata": {},
   "source": [
    "Контейнеры хранят в себе переменные. За счёт динамической типизации, они могут хранить в себе что угодно. Видов контейнеров в питоне несколько:\n"
   ]
  },
  {
   "cell_type": "markdown",
   "id": "prescribed-paintball",
   "metadata": {},
   "source": [
    "tuple\n",
    "\n",
    "list\n",
    "\n",
    "dict\n",
    "\n",
    "set\n"
   ]
  },
  {
   "cell_type": "markdown",
   "id": "incorporated-suicide",
   "metadata": {},
   "source": [
    "## Tuple"
   ]
  },
  {
   "cell_type": "markdown",
   "id": "variable-transcription",
   "metadata": {},
   "source": [
    "По-русски это кортеж, но я не видел чтобы кто-то серьёзно его так называл. Его особенность в том, что у него нельзя менять конкретные элементы. Чтобы создать tuple, оберните все свои объекты в круглые скобочки и разделите запятыми. При этом, если у вас только один объект, а вы хотите tuple, то вам надо всё равно поставить одну запятую."
   ]
  },
  {
   "cell_type": "code",
   "execution_count": 20,
   "id": "daily-nirvana",
   "metadata": {},
   "outputs": [
    {
     "name": "stdout",
     "output_type": "stream",
     "text": [
      "<class 'str'>\n",
      "<class 'tuple'>\n",
      "['__add__', '__class__', '__contains__', '__delattr__', '__dir__', '__doc__', '__eq__', '__format__', '__ge__', '__getattribute__', '__getitem__', '__getnewargs__', '__gt__', '__hash__', '__init__', '__init_subclass__', '__iter__', '__le__', '__len__', '__lt__', '__mul__', '__ne__', '__new__', '__reduce__', '__reduce_ex__', '__repr__', '__rmul__', '__setattr__', '__sizeof__', '__str__', '__subclasshook__', 'count', 'index']\n"
     ]
    }
   ],
   "source": [
    "# TUPLE\n",
    "t = ('a')\n",
    "print(type(t))\n",
    "t = ('a',)\n",
    "print(type(t))\n",
    "print(dir(t))"
   ]
  },
  {
   "cell_type": "code",
   "execution_count": 31,
   "id": "handled-jewelry",
   "metadata": {},
   "outputs": [
    {
     "name": "stdout",
     "output_type": "stream",
     "text": [
      "('а', 2, 7, 15, 12, 'блаблабла')\n",
      "7\n",
      "15\n"
     ]
    }
   ],
   "source": [
    "t = ('а', 2) + (7, 15, 12, \"блаблабла\")\n",
    "print(t)\n",
    "print(t[2])   # 3 элемент с начала\n",
    "print(t[-3])  # 3 элемент с конца"
   ]
  },
  {
   "cell_type": "markdown",
   "id": "small-aluminum",
   "metadata": {},
   "source": [
    "Индексация в питоне от нуля (первый элемент имеет индекс 0), обращение по индексу делается с помощью квадратных скобок.\n",
    "\n",
    "И в tuple нельзя изменять конкретные элементы. Следущий код у нас упадёт:"
   ]
  },
  {
   "cell_type": "code",
   "execution_count": 32,
   "id": "increasing-explorer",
   "metadata": {},
   "outputs": [
    {
     "ename": "TypeError",
     "evalue": "'tuple' object does not support item assignment",
     "output_type": "error",
     "traceback": [
      "\u001b[0;31m---------------------------------------------------------------------------\u001b[0m",
      "\u001b[0;31mTypeError\u001b[0m                                 Traceback (most recent call last)",
      "\u001b[0;32m<ipython-input-32-481d019f24f7>\u001b[0m in \u001b[0;36m<module>\u001b[0;34m\u001b[0m\n\u001b[0;32m----> 1\u001b[0;31m \u001b[0mt\u001b[0m\u001b[0;34m[\u001b[0m\u001b[0;36m0\u001b[0m\u001b[0;34m]\u001b[0m \u001b[0;34m=\u001b[0m \u001b[0;34m'б'\u001b[0m\u001b[0;34m\u001b[0m\u001b[0;34m\u001b[0m\u001b[0m\n\u001b[0m",
      "\u001b[0;31mTypeError\u001b[0m: 'tuple' object does not support item assignment"
     ]
    }
   ],
   "source": [
    "t[0] = 'б'"
   ]
  },
  {
   "cell_type": "code",
   "execution_count": 33,
   "id": "billion-advocacy",
   "metadata": {},
   "outputs": [
    {
     "data": {
      "text/plain": [
       "'а'"
      ]
     },
     "execution_count": 33,
     "metadata": {},
     "output_type": "execute_result"
    }
   ],
   "source": [
    "t[0]"
   ]
  },
  {
   "cell_type": "markdown",
   "id": "protected-egyptian",
   "metadata": {},
   "source": [
    "Помимо такой индексации, таплы, (как и списки, о которых ниже) поддерживают слайсинг. Это когда вы можете нарезать ваш объект так, чтобы сделать новый под-объект.\n"
   ]
  },
  {
   "cell_type": "code",
   "execution_count": 30,
   "id": "fuzzy-standing",
   "metadata": {},
   "outputs": [],
   "source": [
    "obj = (\"Красный\",\n",
    "       \"Оранжевый\",\n",
    "       \"Жёлтый\",\n",
    "       \"Зелёный\",\n",
    "       \"Голубой\",\n",
    "       \"Синий\",\n",
    "       \"Фиолетовый\")\n"
   ]
  },
  {
   "cell_type": "code",
   "execution_count": 27,
   "id": "electrical-stockholm",
   "metadata": {},
   "outputs": [
    {
     "name": "stdout",
     "output_type": "stream",
     "text": [
      "('Жёлтый',)\n",
      "('Голубой', 'Синий', 'Фиолетовый')\n",
      "('Красный', 'Оранжевый', 'Жёлтый', 'Зелёный')\n",
      "('Красный', 'Оранжевый', 'Жёлтый', 'Зелёный', 'Голубой', 'Синий', 'Фиолетовый')\n",
      "('Жёлтый', 'Зелёный', 'Голубой')\n",
      "('Жёлтый', 'Голубой')\n",
      "('Синий', 'Голубой', 'Зелёный')\n"
     ]
    }
   ],
   "source": [
    "print(obj[2:3])\n",
    "print(obj[4:])\n",
    "print(obj[:4])\n",
    "print(obj[:100])\n",
    "print(obj[-5:-2])\n",
    "print(obj[2:5:2])\n",
    "print(obj[-2:-5:-1])"
   ]
  },
  {
   "cell_type": "code",
   "execution_count": 29,
   "id": "historic-employee",
   "metadata": {},
   "outputs": [
    {
     "data": {
      "text/plain": [
       "'Жёлтый'"
      ]
     },
     "execution_count": 29,
     "metadata": {},
     "output_type": "execute_result"
    }
   ],
   "source": [
    "obj[2]\n"
   ]
  },
  {
   "cell_type": "markdown",
   "id": "native-growth",
   "metadata": {},
   "source": [
    "В общем, там всё должно быть понятно, если понять принцип: obj[i:j:k] даст нам объект того же типа, с всеми n элементами начиная с i по j с индексами i + k*m, m &mdash целые от 0 до пока не дойдём до j. По умолчанию i = 0, j = len(obj) - 1, k = 1."
   ]
  },
  {
   "cell_type": "markdown",
   "id": "partial-candy",
   "metadata": {},
   "source": [
    "Короче, если запутались запомните пару примеров. Например, что obj[2:9:2] это каждый второй элемент с третьего по десятый."
   ]
  },
  {
   "cell_type": "markdown",
   "id": "hourly-killing",
   "metadata": {},
   "source": [
    "## Sets"
   ]
  },
  {
   "cell_type": "markdown",
   "id": "conservative-bishop",
   "metadata": {},
   "source": [
    "Сеты это несортированные последовательности из уникальных значений, для которых определены операции над множествами.\n"
   ]
  },
  {
   "cell_type": "code",
   "execution_count": 34,
   "id": "robust-ghana",
   "metadata": {},
   "outputs": [
    {
     "name": "stdout",
     "output_type": "stream",
     "text": [
      "{'р', 'к', 'о', 'с', 'а', 'и', 'п', 'л', 'В', 'Я'}\n",
      "{'л'}\n",
      "{'р', 'к', 'о', 'и', 'В', 'Я', 'с', 'а', 'п'}\n",
      "True\n"
     ]
    }
   ],
   "source": [
    "name = set(\"Василиса\")\n",
    "name2 = set(\"Ярополк\")\n",
    "print(name2 | name)\n",
    "print(name2 & name)\n",
    "print(name ^ name2)\n",
    "print(\"В\" in (name2 | name))"
   ]
  },
  {
   "cell_type": "markdown",
   "id": "rural-steel",
   "metadata": {},
   "source": [
    "        . - любой символ, кроме символа новой строки\n",
    "        ^ - начало строки\n",
    "        $ - конец строки\n",
    "        [abc] - любой символ в скобках\n",
    "        [^abc] - любой символ, кроме тех, что в скобках\n",
    "        a|b - элемент a или b"
   ]
  },
  {
   "cell_type": "code",
   "execution_count": null,
   "id": "smaller-intervention",
   "metadata": {},
   "outputs": [],
   "source": [
    "a=[1,2,2,3,3,3,4,5,6,7,7,7,7,8]"
   ]
  },
  {
   "cell_type": "code",
   "execution_count": null,
   "id": "express-mainstream",
   "metadata": {},
   "outputs": [],
   "source": [
    "b=set(a)"
   ]
  },
  {
   "cell_type": "code",
   "execution_count": null,
   "id": "handled-binary",
   "metadata": {},
   "outputs": [],
   "source": [
    "c=list(b)"
   ]
  },
  {
   "cell_type": "code",
   "execution_count": null,
   "id": "german-miami",
   "metadata": {},
   "outputs": [],
   "source": [
    "c"
   ]
  },
  {
   "cell_type": "markdown",
   "id": "acquired-desperate",
   "metadata": {},
   "source": [
    "## Словарики"
   ]
  },
  {
   "cell_type": "markdown",
   "id": "surprising-romania",
   "metadata": {},
   "source": [
    "Словарики в питоне это, по сути, хэш-таблица, в качестве хэш-функции для которой используется внутренняя функция hash. Это такой же мэппинг между ключами и значениями (и в качестве значений может быть почти что угодно), но так как мы не можем заранее знать ничего про ключ.\n",
    "\n",
    "Словари - это динамические структуры, и вы можете добавлять в словарь новые пары ключ-значение в любое время. Например, чтобы добавить новую пару «ключ-значение», вы должны указать имя словаря, за которым следует новый ключ в квадратных скобках вместе с новым значением. \n",
    "\n",
    "Python не заботится о порядке, в котором вы храните каждую пару \"ключ-значение\"; он заботится только о связи между каждым ключом и его значением."
   ]
  },
  {
   "cell_type": "code",
   "execution_count": 51,
   "id": "subjective-mining",
   "metadata": {},
   "outputs": [
    {
     "data": {
      "text/plain": [
       "{0: 'Василиса', 'Ярополк': 'Серафим'}"
      ]
     },
     "execution_count": 51,
     "metadata": {},
     "output_type": "execute_result"
    }
   ],
   "source": [
    "slovarik = {}\n",
    "slovarik[0] = \"Василиса\"\n",
    "slovarik[\"Ярополк\"] = \"Серафим\"\n",
    "slovarik"
   ]
  },
  {
   "cell_type": "code",
   "execution_count": 60,
   "id": "wooden-indication",
   "metadata": {},
   "outputs": [],
   "source": [
    "d = dict(short='dict', long='dictionary')"
   ]
  },
  {
   "cell_type": "code",
   "execution_count": 61,
   "id": "material-timber",
   "metadata": {},
   "outputs": [
    {
     "data": {
      "text/plain": [
       "{'short': 'dict', 'long': 'dictionary'}"
      ]
     },
     "execution_count": 61,
     "metadata": {},
     "output_type": "execute_result"
    }
   ],
   "source": [
    "d"
   ]
  },
  {
   "cell_type": "code",
   "execution_count": null,
   "id": "useful-notice",
   "metadata": {},
   "outputs": [],
   "source": []
  },
  {
   "cell_type": "code",
   "execution_count": null,
   "id": "moral-monitoring",
   "metadata": {},
   "outputs": [],
   "source": []
  },
  {
   "cell_type": "code",
   "execution_count": 53,
   "id": "impressed-controversy",
   "metadata": {},
   "outputs": [
    {
     "name": "stdout",
     "output_type": "stream",
     "text": [
      "{0: 'MISIS', 1: 'КРОК', 4: 14, 5: 2021}\n"
     ]
    }
   ],
   "source": [
    "d = {}\n",
    "d[0] = \"MISIS\"\n",
    "d[1] = \"КРОК\"\n",
    "d[4] = 14\n",
    "d[5] = 2021\n",
    "print(d)"
   ]
  },
  {
   "cell_type": "code",
   "execution_count": 54,
   "id": "voluntary-geology",
   "metadata": {},
   "outputs": [
    {
     "name": "stdout",
     "output_type": "stream",
     "text": [
      "(0, 'MISIS')\n",
      "(1, 'КРОК')\n",
      "(4, 14)\n",
      "(5, 2021)\n",
      "---\n",
      "0\n",
      "1\n",
      "4\n",
      "5\n",
      "---\n",
      "MISIS\n",
      "КРОК\n",
      "14\n",
      "2021\n"
     ]
    }
   ],
   "source": [
    "for i in d.items():\n",
    "    print(i)\n",
    "    \n",
    "print('---')\n",
    "\n",
    "for i in d:\n",
    "    print(i)\n",
    "    \n",
    "print('---')\n",
    "\n",
    "for i in d.values():\n",
    "    print(i)"
   ]
  },
  {
   "cell_type": "code",
   "execution_count": 55,
   "id": "christian-salon",
   "metadata": {},
   "outputs": [
    {
     "name": "stdout",
     "output_type": "stream",
     "text": [
      "False\n",
      "False\n",
      "True\n"
     ]
    }
   ],
   "source": [
    "print(\"Василиса\" in slovarik)\n",
    "print(\"Василиса\" in slovarik.keys())\n",
    "print(\"Василиса\" in slovarik.values())"
   ]
  },
  {
   "cell_type": "code",
   "execution_count": 56,
   "id": "north-wrist",
   "metadata": {},
   "outputs": [
    {
     "name": "stdout",
     "output_type": "stream",
     "text": [
      "{0: 'Василиса', 'Ярополк': 'Сосисочка', 'Крок': 'Абдыждыжч'}\n"
     ]
    }
   ],
   "source": [
    "noviy_slovarik = {\n",
    "    \"Ярополк\": \"Сосисочка\",\n",
    "    \"Крок\": \"Абдыждыжч\"\n",
    "}\n",
    "slovarik.update(noviy_slovarik)\n",
    "print(slovarik)"
   ]
  },
  {
   "cell_type": "code",
   "execution_count": 57,
   "id": "constant-blake",
   "metadata": {},
   "outputs": [
    {
     "name": "stdout",
     "output_type": "stream",
     "text": [
      "Абдыждыжч\n"
     ]
    }
   ],
   "source": [
    "print(slovarik[\"Крок\"])\n"
   ]
  },
  {
   "cell_type": "code",
   "execution_count": null,
   "id": "underlying-attention",
   "metadata": {},
   "outputs": [],
   "source": [
    "slovarik.pop(0)\n"
   ]
  },
  {
   "cell_type": "code",
   "execution_count": null,
   "id": "beautiful-effect",
   "metadata": {},
   "outputs": [],
   "source": [
    "slovarik"
   ]
  },
  {
   "cell_type": "markdown",
   "id": "final-crest",
   "metadata": {},
   "source": [
    "dict.clear() - очищает словарь.\n",
    "\n",
    "dict.copy() - возвращает копию словаря.\n",
    "\n",
    "classmethod dict.fromkeys(seq[, value]) - создает словарь с ключами из seq и значением value (по умолчанию None).\n",
    "\n",
    "dict.get(key[, default]) - возвращает значение ключа, но если его нет, не бросает исключение, а возвращает default (по умолчанию None).\n",
    "\n",
    "dict.items() - возвращает пары (ключ, значение).\n",
    "\n",
    "dict.keys() - возвращает ключи в словаре.\n",
    "\n",
    "dict.pop(key[, default]) - удаляет ключ и возвращает значение. Если ключа нет, возвращает default (по умолчанию бросает исключение).\n",
    "\n",
    "dict.popitem() - удаляет и возвращает пару (ключ, значение). Если словарь пуст, бросает исключение KeyError. Помните, что словари неупорядочены.\n",
    "\n",
    "dict.setdefault(key[, default]) - возвращает значение ключа, но если его нет, не бросает исключение, а создает ключ со значением default (по умолчанию None).\n",
    "\n",
    "dict.update([other]) - обновляет словарь, добавляя пары (ключ, значение) из other. Существующие ключи перезаписываются. Возвращает None (не новый словарь!).\n",
    "\n",
    "dict.values() - возвращает значения в словаре"
   ]
  },
  {
   "cell_type": "code",
   "execution_count": 62,
   "id": "pending-aruba",
   "metadata": {},
   "outputs": [
    {
     "name": "stdout",
     "output_type": "stream",
     "text": [
      "Столица страны Russia: Moscow\n",
      "В базе нет страны c названием France\n",
      "Столица страны USA: Washington\n",
      "Столица страны Russia: Moscow\n"
     ]
    }
   ],
   "source": [
    "# Создадим пустой словать Capitals\n",
    "Capitals = dict()\n",
    "\n",
    "# Заполним его несколькими значениями\n",
    "Capitals['Russia'] = 'Moscow'\n",
    "Capitals['Ukraine'] = 'Kiev'\n",
    "Capitals['USA'] = 'Washington'\n",
    "\n",
    "Countries = ['Russia', 'France', 'USA', 'Russia']\n",
    "\n",
    "for country in Countries:\n",
    "    # Для каждой страны из списка проверим, есть ли она в словаре Capitals\n",
    "    if country in Capitals:\n",
    "        print('Столица страны ' + country + ': ' + Capitals[country])\n",
    "    else:\n",
    "        print('В базе нет страны c названием ' + country)"
   ]
  },
  {
   "cell_type": "code",
   "execution_count": 63,
   "id": "efficient-ordinary",
   "metadata": {},
   "outputs": [
    {
     "name": "stdout",
     "output_type": "stream",
     "text": [
      "Russia -> Moscow\n",
      "Ukraine -> Kiev\n",
      "USA -> Washington\n"
     ]
    }
   ],
   "source": [
    "for key, value in Capitals.items():\n",
    "         print(key, '->', value)\n"
   ]
  },
  {
   "cell_type": "code",
   "execution_count": null,
   "id": "dependent-consumer",
   "metadata": {},
   "outputs": [],
   "source": []
  },
  {
   "cell_type": "markdown",
   "id": "micro-uganda",
   "metadata": {},
   "source": [
    "## Разница between is и ==\n"
   ]
  },
  {
   "cell_type": "markdown",
   "id": "fuzzy-edition",
   "metadata": {},
   "source": [
    "== сравнивает значения, is сравнивает одно ли то же это в памяти. Для базовых типов это одно и то же, для некоторых других — нет. В основном is вам нужен, если надо сравнивать с None, потому что при использовании == могут быть неожиданности с приведением типов.\n",
    "\n"
   ]
  },
  {
   "cell_type": "code",
   "execution_count": null,
   "id": "extra-preference",
   "metadata": {},
   "outputs": [],
   "source": [
    "x = 17\n",
    "y = 17\n",
    "print(x is y, x == y)"
   ]
  },
  {
   "cell_type": "code",
   "execution_count": null,
   "id": "spare-compound",
   "metadata": {},
   "outputs": [],
   "source": [
    "x = [5]\n",
    "y = [5]\n",
    "print(x is y, x == y)"
   ]
  },
  {
   "cell_type": "markdown",
   "id": "internal-trigger",
   "metadata": {},
   "source": [
    "## ДЗ"
   ]
  },
  {
   "cell_type": "markdown",
   "id": "trying-bahrain",
   "metadata": {},
   "source": [
    "1. Напишите функцию, извлекающую корень n-й степени из числа x. По умолчанию def будет извлекать квадратный корень:\n",
    "\n"
   ]
  },
  {
   "cell_type": "markdown",
   "id": "christian-solution",
   "metadata": {},
   "source": [
    "2. Перепишите ваш код для проверки расширения из прошлого ДЗ в функцию которая принимает список расширений и  имя файла"
   ]
  },
  {
   "cell_type": "markdown",
   "id": "furnished-cookie",
   "metadata": {},
   "source": [
    "3. Слейте воедино три словаря"
   ]
  },
  {
   "cell_type": "code",
   "execution_count": 65,
   "id": "micro-robert",
   "metadata": {},
   "outputs": [],
   "source": [
    "dict_a = {1:10, 2:20}\n",
    "dict_b = {3:30, 4:40}\n",
    "dict_c = {5:50, 6:60}"
   ]
  },
  {
   "cell_type": "markdown",
   "id": "instructional-belfast",
   "metadata": {},
   "source": [
    "4. Напишите функцию которая будет складывать цифры внутри числа"
   ]
  },
  {
   "cell_type": "markdown",
   "id": "strategic-priest",
   "metadata": {},
   "source": [
    "5. Нужно проверить, все ли числа в последовательности уникальны.\n"
   ]
  },
  {
   "cell_type": "code",
   "execution_count": null,
   "id": "aggregate-tender",
   "metadata": {},
   "outputs": [],
   "source": [
    "numbers=[1,4,5]"
   ]
  },
  {
   "cell_type": "markdown",
   "id": "fluid-yield",
   "metadata": {},
   "source": [
    "6.Создать функцию, которая просто печатает все элементы заданного ей списка:\n",
    "\n",
    "     НОМЕР J --> ЗНАЧЕНИЕ\n",
    "     НОМЕР K --> ЗНАЧЕНИЕ\n",
    "    J, K — порядковые номера в списке"
   ]
  },
  {
   "cell_type": "code",
   "execution_count": 68,
   "id": "attractive-vault",
   "metadata": {},
   "outputs": [],
   "source": [
    "def print_list(my_list):\n",
    "    # ваш код тут\n",
    "    pass\n",
    "\n",
    "print_list([\"я\", \"не\", \"в\", \"отпуск\" ])"
   ]
  },
  {
   "cell_type": "markdown",
   "id": "permanent-meter",
   "metadata": {},
   "source": [
    "Подсказка: один из способов это сделать (наиболее \"в лоб\" и в каком-то смысле наименее питонячий) это создать переменную, которая будет пробегать все номера от 0 до длины переданного списка и печатать просто строчку \"этот номер\" и элемент списка под индексом i. В таком варианте для цикла у вас будет использоваться оператор while. Не забудьте что внутри цикла вам надо будет увеличивать вашу переменную на один каждый раз\n",
    "\n"
   ]
  },
  {
   "cell_type": "code",
   "execution_count": null,
   "id": "special-contact",
   "metadata": {},
   "outputs": [],
   "source": [
    "Попробуйте позапускать функцию со списками разной длины и убедитесь что всё работает.\n",
    "\n"
   ]
  },
  {
   "cell_type": "markdown",
   "id": "incredible-substitute",
   "metadata": {},
   "source": [
    "Создать функцию, которая печатает каждый элемент словарика\n",
    "\n",
    "        КЛЮЧ <<J>> --> ЗНАЧЕНИЕ\n",
    "        КЛЮЧ <<K>> --> ЗНАЧЕНИЕ\n",
    "    J, K — ключи словарика"
   ]
  },
  {
   "cell_type": "code",
   "execution_count": null,
   "id": "convertible-eagle",
   "metadata": {},
   "outputs": [],
   "source": [
    "def print_dict(my_dict):\n",
    "    # ваш код тут\n",
    "    pass\n",
    "\n",
    "print_dict({\"key1\": 2, \"key3\": False, \"Приветствие\": \"Hello\"})"
   ]
  },
  {
   "cell_type": "markdown",
   "id": "southeast-running",
   "metadata": {},
   "source": [
    "Подсказка: тут уже не получится просто создать переменную от 0 до чего-то и перебирать по ней просто увеличивая её на один, потому что в словарике ключи несортированы и непоследовательны. Это, кстати, означает заодно то что порядок вывода в функции может отличаться от того, в каком вы создавали словарик. Тут вам понадобится либо метод keys либо метод items, и может быть, такие понятия как \"распаковка\". Цикл будет сделан с помощью оператора for. Эту задачку можно решить и без цикла через list comprehension. Про работу со словариками посмотрите конец занятия L1.1\n",
    "\n"
   ]
  },
  {
   "cell_type": "markdown",
   "id": "radical-shadow",
   "metadata": {},
   "source": [
    "Сделать функцию, которая использует две уже написанные функции следующим образом:\n",
    "\n",
    "    если ЗНАЧЕНИЕ это LIST --> вызывается print_list\n",
    "    если ЗНАЧЕНИЕ это DICT --> вызывается print_dict\n",
    "    во всех других случаях просто выводится ЗНАЧЕНИЕ"
   ]
  },
  {
   "cell_type": "code",
   "execution_count": 71,
   "id": "tribal-cornwall",
   "metadata": {},
   "outputs": [],
   "source": [
    "def print_overlord(mydict):\n",
    "    # ваш код тут\n",
    "    pass\n",
    "\n",
    "print_overlord(dict(key1=1,\n",
    "            key2=[1, 2, 3, 4], \n",
    "            key3='Hello', \n",
    "            key4={\"ciao\":\"Mondo\", \"Привет\": \"О дивный мир\"}))"
   ]
  },
  {
   "cell_type": "markdown",
   "id": "mathematical-cleaner",
   "metadata": {},
   "source": [
    "Подсказка: тут вам вообще не нужны ключи (но можете их тоже печатать), только значения словаря. А для определения типа значений в словарие вам пригодится оператор isinstance. Итерацию по значениям в словарике надо будет сделать через for, а для того чтобы получить значения вы можете использовать как метод items так и values.\n",
    "\n",
    "Собственно, это основной пример в каком-то смысле идей о том, что если у вас сложная задачка, то можно разбить её на несколько маленьких чтобы разделить логику общего выполнения с непосредственно тем, как реализованы отдельные кусочки того, что вы хотите сделать."
   ]
  },
  {
   "cell_type": "markdown",
   "id": "friendly-cycling",
   "metadata": {},
   "source": [
    "7. Придумать две темы из IT про которые вам было бы интересно послушать"
   ]
  },
  {
   "cell_type": "markdown",
   "id": "subject-spending",
   "metadata": {},
   "source": [
    "### Задачи со звездочкой"
   ]
  },
  {
   "cell_type": "markdown",
   "id": "julian-hacker",
   "metadata": {},
   "source": [
    "1. Сделать функцию, которая на вход получает фразу и печатает все отдельные слова из этой фразы. Операция разбиения строки на составляющие называется токенизацией, это слово нам ещё пригодится в будущем.\n",
    "\n"
   ]
  },
  {
   "cell_type": "markdown",
   "id": "suspended-shaft",
   "metadata": {},
   "source": [
    "OUTPUT:\n",
    "Word1\n",
    "Word2\n",
    ".\n",
    ".\n",
    ".\n",
    "WordN\n",
    "Number or Words: X"
   ]
  },
  {
   "cell_type": "code",
   "execution_count": null,
   "id": "another-discount",
   "metadata": {},
   "outputs": [],
   "source": [
    "def word_count(phrase):\n",
    "    pass\n",
    "   \n",
    "word_count(\"Тут фраза с пробелами и я хочу их распечатать по одному на строку и ещё посчитать слова\")"
   ]
  },
  {
   "cell_type": "markdown",
   "id": "judicial-christianity",
   "metadata": {},
   "source": [
    "Подсказка: это, по сути, модификация задания про список. Для токенизации строки по пробелу, используйте метод split. Тут тоже можно сделать цикл по while, но тогда надо следить за порядковым номером, а for сделает это за вас. Количество слов — это длина списка полученного токенизацией. Но можно, конечно, пока распечатываете токены считать, а потом вывести счётчик\n",
    "\n",
    "Фразу можно вводить как переменной в виде аргумента функции, а можно получать от пользователя на вход."
   ]
  },
  {
   "cell_type": "markdown",
   "id": "typical-chess",
   "metadata": {},
   "source": [
    "2. Модифицировать функцию из предыдущего задания так, чтобы она считала \"вес\" каждого слова, выводя в процентное соотношение во фразе для каждого слова. Проценты печатать с точностью до 2 знаков после запятой.\n",
    "\n",
    "Подсказка: тут придётся два раза пройтись по строке, один раз чтобы посчитать проценты по каждому слову (токену), и другой чтобы уже это всё распечатать. Для вывода двух знаков после запятой посмотрите, например, начало L1.1, там где всякие format symbols, это которые с процентом"
   ]
  },
  {
   "cell_type": "code",
   "execution_count": null,
   "id": "narrative-bangkok",
   "metadata": {},
   "outputs": [],
   "source": []
  }
 ],
 "metadata": {
  "kernelspec": {
   "display_name": "Python 3",
   "language": "python",
   "name": "python3"
  },
  "language_info": {
   "codemirror_mode": {
    "name": "ipython",
    "version": 3
   },
   "file_extension": ".py",
   "mimetype": "text/x-python",
   "name": "python",
   "nbconvert_exporter": "python",
   "pygments_lexer": "ipython3",
   "version": "3.8.10"
  }
 },
 "nbformat": 4,
 "nbformat_minor": 5
}
