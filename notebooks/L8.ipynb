{
 "cells": [
  {
   "cell_type": "markdown",
   "id": "confidential-jesus",
   "metadata": {},
   "source": [
    "# Урок 8"
   ]
  },
  {
   "cell_type": "markdown",
   "id": "fatal-march",
   "metadata": {
    "ExecuteTime": {
     "end_time": "2021-12-11T10:06:04.624418Z",
     "start_time": "2021-12-11T10:06:04.621940Z"
    }
   },
   "source": [
    "     1 Обсужадем ДЗ\"3\" и '4'\n",
    "     2 Flask&Boutle\n",
    "     3 Lambda \n",
    "     4 PEP8 \n",
    "\n"
   ]
  },
  {
   "cell_type": "markdown",
   "id": "interpreted-spanish",
   "metadata": {},
   "source": [
    "# ДЗ"
   ]
  },
  {
   "cell_type": "code",
   "execution_count": null,
   "id": "alien-associate",
   "metadata": {},
   "outputs": [],
   "source": [
    "# 6.1 - Создать функцию, которая просто печатает все элементы заданного ей списка\n",
    "def print_list(my_list):\n",
    "    for i, j in enumerate(my_list):\n",
    "        print(f'Номер {i} --> {j}')\n",
    "\n",
    "\n",
    "# Тут подается на вход строка через пробел\n",
    "print_list(my_list=[1, 2, 3, 'Б', 'Что-то'])"
   ]
  },
  {
   "cell_type": "code",
   "execution_count": null,
   "id": "elementary-degree",
   "metadata": {},
   "outputs": [],
   "source": []
  },
  {
   "cell_type": "code",
   "execution_count": null,
   "id": "present-numbers",
   "metadata": {},
   "outputs": [],
   "source": [
    "#7.2 - Посчитать вес каждого слова в строке\n",
    "def print_slova(spisok):\n",
    "    for i,j in enumerate(spisok):\n",
    "        print(j)\n",
    "    print('Слов в строке:', i + 1, '\\n')\n",
    "    \n",
    "    for i,j in enumerate(spisok):\n",
    "        print(f'Частота встречаемости слова {j}:', round(spisok.count(j) / len(spisok) * 100, 2))\n",
    "\n",
    "print_slova(spisok = input().split(' ')) #Тут подается на вход фраза"
   ]
  },
  {
   "cell_type": "code",
   "execution_count": null,
   "id": "modern-calculation",
   "metadata": {},
   "outputs": [],
   "source": []
  },
  {
   "cell_type": "code",
   "execution_count": null,
   "id": "binary-antarctica",
   "metadata": {},
   "outputs": [],
   "source": []
  },
  {
   "cell_type": "code",
   "execution_count": null,
   "id": "virgin-aaron",
   "metadata": {},
   "outputs": [],
   "source": [
    "1 - Средний балл и список остающих учеников\n",
    "with open('students.txt', 'r', encoding='utf8') as fileprint:\n",
    "    lines = fileprint.read().split('\\n')\n",
    "    i = 0\n",
    "    s = 0\n",
    "    j = 0\n",
    "    print('Список отстающих учеников:')\n",
    "    while i < len(lines):\n",
    "        num = int(lines[i][-1])\n",
    "        s += num\n",
    "        i += 1\n",
    "        while j < len(lines):\n",
    "            num = int(lines[j][-1])\n",
    "            if num < s:\n",
    "                print(f'{lines[j][0:-2]}, оценка {lines[j][-1]}')\n",
    "            j += 1\n",
    "    print(f'\\nСредний балл по студентам: {round(s/len(lines), 2)}')"
   ]
  },
  {
   "cell_type": "code",
   "execution_count": null,
   "id": "german-pharmacology",
   "metadata": {},
   "outputs": [],
   "source": [
    "# 2 - Посчитать количество определенных слов в файле\n",
    "import re\n",
    "with open('schedule.txt', 'r', encoding='utf8') as file:\n",
    "    text = file.read()\n",
    "sp = re.split(r'[\\t\\n ]', text)\n",
    "sp_sort = [i for i in sp if not i == '']\n",
    "i = 0\n",
    "j = 0\n",
    "k = 0\n",
    "lec = 0\n",
    "lab = 0\n",
    "pract = 0\n",
    "while i < len(sp_sort):\n",
    "    if sp_sort[i][0:4] == '(лек':\n",
    "        lec += 1\n",
    "    i += 1\n",
    "\n",
    "while j < len(sp_sort):\n",
    "    if sp_sort[j][0:4] == '(лаб':\n",
    "        lab += 1\n",
    "    j += 1\n",
    "\n",
    "while k < len(sp_sort):\n",
    "    if sp_sort[k][0:4] == '(пра':\n",
    "        pract += 1\n",
    "    k += 1\n",
    "print('Лекций:', lec)\n",
    "print('Практических:', pract)\n",
    "print('Лабораторных:', lab)\n",
    "print('Всего занятий:', lec + lab + pract)"
   ]
  },
  {
   "cell_type": "code",
   "execution_count": null,
   "id": "intimate-consciousness",
   "metadata": {},
   "outputs": [],
   "source": [
    "PRACTICE = [\"прак\", \"практ\", \"практика\"]\n",
    "LECTURE = [\"лек\", \"лекц\", \"лекция\"]\n",
    "LABORATORY = [\"лаб\"]\n",
    "\n",
    "lec = 0\n",
    "pract = 0\n",
    "lab = 0\n",
    "with open('input_task2.txt', 'r', encoding=\"utf-8\") as f:\n",
    "    for line in f:\n",
    "        splitted = line.split('(')\n",
    "        if len(splitted) == 1:  # checking if line containts needed value between ()\n",
    "            continue\n",
    "        res = splitted[1].split('.')\n",
    "        work_type = res[0]\n",
    "        if work_type in PRACTICE:\n",
    "            pract += 1\n",
    "        elif work_type in LECTURE:\n",
    "            lec += 1\n",
    "        elif work_type in LABORATORY:\n",
    "            lab += 1\n",
    "        else:\n",
    "            print(f'Found unknown type: {res}')\n",
    "print(f'Practices count: {pract}')\n",
    "print(f'Lectures count: {lec}')\n",
    "print(f'Labs count: {lab}')"
   ]
  },
  {
   "cell_type": "code",
   "execution_count": null,
   "id": "pleased-victorian",
   "metadata": {},
   "outputs": [],
   "source": [
    "def CSWIF(vvod):\n",
    "    splitedvvod = vvod.split()\n",
    "    lec = splitedvvod.count('(лекц.)')\n",
    "    pract = splitedvvod.count('(практ.)')\n",
    "    lab = splitedvvod.count('(лаб.)')\n",
    "\n",
    "    print('Лекций:', lec)\n",
    "    print('Практических:', pract)\n",
    "    print('Лабораторных:', lab)\n",
    "\n",
    "\n",
    "\n",
    "vvod = \"\"\"Понедельник\n",
    "\tФизика (лекц.)\n",
    "\tФизика (лаб.)\n",
    "\tАлгебра (практ.)\n",
    " \n",
    "Вторник\n",
    "\tГеометрия (лекц.)\n",
    "\tФизика (практ.)\n",
    "\tФизика (лаб.)\n",
    "\tФизкультура (практ.)\"\"\"\n",
    "\n",
    "CSWIF(vvod)"
   ]
  },
  {
   "cell_type": "code",
   "execution_count": null,
   "id": "revolutionary-ceramic",
   "metadata": {},
   "outputs": [],
   "source": [
    "import string\n",
    "\n",
    "\n",
    "def tokenize(text):\n",
    "    text = text.translate(text.maketrans(\n",
    "        '', '', string.punctuation))  # remove punctuation\n",
    "    text = text.replace('\\n', '')  # removing newlines\n",
    "    text = text.lower()  # lowercasing\n",
    "    tokens = text.split(' ')  # splitting by spaces\n",
    "    return tokens\n",
    "\n",
    "\n",
    "def calc_counts(text):\n",
    "    tokens = tokenize(text)\n",
    "    counts = {}\n",
    "    for token in tokens:\n",
    "        if token in counts.keys():\n",
    "            counts[token] += 1\n",
    "        else:\n",
    "            counts[token] = 1\n",
    "    return counts\n",
    "\n",
    "\n",
    "def print_top_words(text):\n",
    "    counts = calc_counts(text)\n",
    "    max_len_word = \"\"\n",
    "    max_word_by_freq = \"\"\n",
    "    max_word_count = 0\n",
    "    for (k, v) in counts.items():\n",
    "        if len(k) > len(max_len_word):\n",
    "            max_len_word = k\n",
    "        if v > max_word_count:\n",
    "            max_word_by_freq = k\n",
    "            max_word_count = v\n",
    "    print(f'Biggest word by lenght: {max_len_word}')\n",
    "    print(f'Biggest word by count: {max_word_by_freq}')\n",
    "\n",
    "\n",
    "with open('input_task5.txt', 'r', encoding=\"utf-8\") as f:\n",
    "    text = f.read()\n",
    "    print_top_words(text)"
   ]
  },
  {
   "cell_type": "code",
   "execution_count": 12,
   "id": "third-container",
   "metadata": {
    "ExecuteTime": {
     "end_time": "2021-12-11T10:57:02.144128Z",
     "start_time": "2021-12-11T10:57:02.139046Z"
    }
   },
   "outputs": [],
   "source": [
    "class NutritionInfo:\n",
    "    def __init__(self, proteins, carbs, fats):\n",
    "        self.proteins = proteins\n",
    "        self.carbs = carbs\n",
    "        self.fats = fats\n",
    "\n",
    "    def __add__(self, other):\n",
    "        return NutritionInfo(self.proteins + other.proteins, self.carbs + other.carbs, self.fats + other.fats)\n",
    "\n",
    "    def __mul__(self, n):\n",
    "        return NutritionInfo(self.proteins * n, self.carbs * n, self.fats * n)\n",
    "\n",
    "    def __str__(self):\n",
    "        return f\"Nutrition p {self.proteins}, c {self.carbs}, f {self.fats}\"\n",
    "\n",
    "    def energy(self):\n",
    "        return int(self.fats * 9 + (self.carbs + self.proteins) * 4.2)"
   ]
  },
  {
   "cell_type": "code",
   "execution_count": 18,
   "id": "addressed-possibility",
   "metadata": {
    "ExecuteTime": {
     "end_time": "2021-12-11T11:04:25.566368Z",
     "start_time": "2021-12-11T11:04:25.560398Z"
    }
   },
   "outputs": [],
   "source": [
    "class NutritionInfo:\n",
    "    def __init__(self, proteins, carbs, fats):\n",
    "        self.proteins = proteins\n",
    "        self.carbs = carbs\n",
    "        self.fats = fats\n",
    "\n",
    "    def __add__(self, other):\n",
    "        return NutritionInfo(self.proteins + other.proteins, self.carbs + other.carbs, self.fats + other.fats)\n",
    "\n",
    "    def __sub__(self, other):\n",
    "        return NutritionInfo(self.proteins - other.proteins, self.carbs - other.carbs, self.fats - other.fats)\n",
    "\n",
    "    def __rmul__(self, num):\n",
    "        return NutritionInfo(self.proteins * num, self.carbs * num, self.fats * num)\n",
    "\n",
    "    def __mul__(self, num):\n",
    "        return NutritionInfo(self.proteins * num, self.carbs * num, self.fats * num)\n",
    "\n",
    "    def __str__(self):\n",
    "        return f\"Nutrition p {self.proteins}, c {self.carbs}, f {self.fats}\"\n",
    "\n",
    "    def __gt__(self, other):\n",
    "        return ('p', self.proteins > other.proteins, 'c', self.carbs > other.carbs, 'f', self.fats > other.fats)\n",
    "\n",
    "    def __eq__(self, other):\n",
    "        return ('p', self.proteins == other.proteins, 'c', self.carbs == other.carbs, 'f', self.fats == other.fats)\n",
    "\n",
    "    def energy(self):\n",
    "        return int(self.fats * 9 + (self.carbs + self.proteins) * 4.2)"
   ]
  },
  {
   "cell_type": "code",
   "execution_count": 16,
   "id": "lightweight-thomas",
   "metadata": {
    "ExecuteTime": {
     "end_time": "2021-12-11T10:58:22.467471Z",
     "start_time": "2021-12-11T10:58:22.464005Z"
    }
   },
   "outputs": [],
   "source": [
    "egg = NutritionInfo(1, 2, 3)\n",
    "pastila = NutritionInfo(1, 2, 3)\n",
    "tvorog_9 = NutritionInfo(18, 3, 9)\n",
    "apple = NutritionInfo(0, 25, 0)"
   ]
  },
  {
   "cell_type": "code",
   "execution_count": 19,
   "id": "brown-rendering",
   "metadata": {
    "ExecuteTime": {
     "end_time": "2021-12-11T11:04:28.244219Z",
     "start_time": "2021-12-11T11:04:28.239965Z"
    }
   },
   "outputs": [
    {
     "name": "stdout",
     "output_type": "stream",
     "text": [
      "210\n",
      "210\n"
     ]
    }
   ],
   "source": [
    "breakfast = apple * 2\n",
    "breakfast2 = apple + apple\n",
    "print(breakfast.energy())\n",
    "print(breakfast2.energy())"
   ]
  },
  {
   "cell_type": "code",
   "execution_count": null,
   "id": "vital-spank",
   "metadata": {},
   "outputs": [],
   "source": [
    "def Nutrionm(vvod):\n",
    "    splitedvvod = vvod.split('*')\n",
    "    print (splitedvvod[0]*int(splitedvvod[1]))\n",
    "\n",
    "\n",
    "vvod = input()\n",
    "Nutrionm(vvod)"
   ]
  },
  {
   "cell_type": "code",
   "execution_count": null,
   "id": "soviet-lloyd",
   "metadata": {},
   "outputs": [],
   "source": [
    "def convert(a): return 'КЛЮЧ <<'+str(a[0])+'>> --> ЗНАЧЕНИЕ '+str(a[1])\n",
    "\n",
    "\n",
    "def DisplayAllElements(data):\n",
    "    print(*map(convert, data.items()), sep='\\n')\n",
    "\n",
    "\n",
    "my_dict = {\"key1\": 2, \"key3\": False, \"Приветствие\": \"Hello\"}\n",
    "DisplayAllElements(my_dict)"
   ]
  },
  {
   "cell_type": "code",
   "execution_count": null,
   "id": "restricted-married",
   "metadata": {
    "ExecuteTime": {
     "end_time": "2021-12-11T10:56:12.541135Z",
     "start_time": "2021-12-11T10:56:12.533281Z"
    }
   },
   "outputs": [],
   "source": [
    "f = open('расписание.txt', 'r', encoding=\"utf-8\")\n",
    "\n",
    "schedule = f.read()\n",
    "words = schedule.split()\n",
    "sw = set(words)\n",
    "number_of_uniq_words = len(sw)\n",
    "print('Все уникальные слова в файле: ', sw, '\\n',\n",
    "      'Количество уникальных слов в файле: ', number_of_uniq_words, '\\n', sep='\\n')\n",
    "for i in sw:\n",
    "    print(i, '-', schedule.count(i))\n",
    "\n",
    "# Если нужно посчитать только сколько в неделе лекций, практик и лаб\n",
    "pract = schedule.count('пра')\n",
    "lec = schedule.count('лек')\n",
    "lab = schedule.count('лаб')\n",
    "print('\\n', 'Количество практических занятий: ', pract, '\\n',\n",
    "      'Количество лекций: ', lec, '\\n', 'Количество лабораторных: ', lab)\n",
    "\n",
    "f.close()"
   ]
  },
  {
   "cell_type": "code",
   "execution_count": null,
   "id": "sunrise-glossary",
   "metadata": {},
   "outputs": [],
   "source": [
    "import re\n",
    "\n",
    "with open('L5_2.txt', 'r', encoding='utf-8') as file:\n",
    "    lines = file.read().split('\\n')\n",
    "\n",
    "lect_count = 0\n",
    "labs_count = 0\n",
    "prac_count = 0\n",
    "for i in lines:\n",
    "    if re.findall(r'лек\\D', i) != []:\n",
    "        lect_count += 1\n",
    "    elif re.findall(r'прак\\D', i) != []:\n",
    "        prac_count += 1\n",
    "    elif re.findall(r'лаб\\D', i) != []:\n",
    "        labs_count += 1\n",
    "print(\"Лабораторных: \"+str(labs_count))\n",
    "print(\"Практических: \"+str(prac_count))\n",
    "print(\"Лекций: \"+str(lect_count))"
   ]
  },
  {
   "cell_type": "code",
   "execution_count": null,
   "id": "second-challenge",
   "metadata": {},
   "outputs": [],
   "source": [
    "import numpy as np\n",
    "\n",
    "\n",
    "def avgProcentileStudents(file_path):\n",
    "    points = []\n",
    "    students = {}\n",
    "\n",
    "    with open(file_path, 'r', encoding='utf-8') as file:\n",
    "        lines = file.read().split('\\n')\n",
    "        for line in lines:\n",
    "            name = line[:-1]\n",
    "            mark = float(line[-1:])\n",
    "            if name in students:\n",
    "                students[name] = (students[name] + mark)/2\n",
    "            else:\n",
    "                students.update({name: mark})\n",
    "            points.append(mark)\n",
    "\n",
    "    points_mat = np.array(points)\n",
    "    p = np.percentile(points_mat, 25)\n",
    "    print(\n",
    "        f\"Средняя оценка учеников: {np.average(points_mat)}\\nПроцентиль 25 процентов: {p}\")\n",
    "    print(\"Отстающие по предмету (четверть худших по успеваемости учеников):\")\n",
    "    for student, mark in students.items():\n",
    "        if mark <= p:\n",
    "            print(student)\n",
    "\n",
    "\n",
    "avgProcentileStudents('Points.txt')"
   ]
  },
  {
   "cell_type": "code",
   "execution_count": null,
   "id": "second-riding",
   "metadata": {},
   "outputs": [],
   "source": [
    "# Task 2\n",
    "with open('raspisanie.txt', 'r', encoding='utf-8') as text:\n",
    "    lessons = text.readlines()\n",
    "\n",
    "lec = len([i for i in lessons if 'лек' in i])\n",
    "pract = len([i for i in lessons if 'прак' in i])\n",
    "lab = len([i for i in lessons if 'лаб' in i])\n",
    "\n",
    "print('Лекций:', lec)\n",
    "print('Практических:', pract)\n",
    "print('Лабораторных:', lab)"
   ]
  },
  {
   "cell_type": "code",
   "execution_count": null,
   "id": "immediate-figure",
   "metadata": {},
   "outputs": [],
   "source": [
    "with open('task4-2.txt', 'r', encoding='utf-8') as text:\n",
    "    lessons = text.readlines()\n",
    "\n",
    "# посчитаем количество лекций, практик и лаболаторных в расписании\n",
    "lec = len([i for i in lessons if 'ле' in i])\n",
    "pract = len([i for i in lessons if 'пр' in i])\n",
    "lab = len([i for i in lessons if 'ла' in i])\n",
    "\n",
    "print('Лекций:', lec)\n",
    "print('Практических:', pract)\n",
    "print('Лабораторных:', lab)"
   ]
  },
  {
   "cell_type": "markdown",
   "id": "duplicate-finding",
   "metadata": {},
   "source": [
    "#  Web разработка на Python"
   ]
  },
  {
   "cell_type": "markdown",
   "id": "neither-dylan",
   "metadata": {},
   "source": [
    "https://flask.palletsprojects.com/en/2.0.x/"
   ]
  },
  {
   "attachments": {
    "image.png": {
     "image/png": "[encoded data removed]"
    }
   },
   "cell_type": "markdown",
   "id": "spanish-words",
   "metadata": {},
   "source": [
    "![image.png](attachment:image.png)"
   ]
  },
  {
   "cell_type": "code",
   "execution_count": 1,
   "id": "looking-female",
   "metadata": {},
   "outputs": [
    {
     "name": "stdout",
     "output_type": "stream",
     "text": [
      "Collecting flask\n",
      "  Downloading Flask-2.0.2-py3-none-any.whl (95 kB)\n",
      "\u001b[K     |████████████████████████████████| 95 kB 903 kB/s eta 0:00:01\n",
      "\u001b[?25hCollecting Werkzeug>=2.0\n",
      "  Downloading Werkzeug-2.0.2-py3-none-any.whl (288 kB)\n",
      "\u001b[K     |████████████████████████████████| 288 kB 5.6 MB/s eta 0:00:01\n",
      "\u001b[?25hCollecting Jinja2>=3.0\n",
      "  Downloading Jinja2-3.0.3-py3-none-any.whl (133 kB)\n",
      "\u001b[K     |████████████████████████████████| 133 kB 10.0 MB/s eta 0:00:01\n",
      "\u001b[?25hCollecting click>=7.1.2\n",
      "  Downloading click-8.0.3-py3-none-any.whl (97 kB)\n",
      "\u001b[K     |████████████████████████████████| 97 kB 3.9 MB/s eta 0:00:01\n",
      "\u001b[?25hCollecting itsdangerous>=2.0\n",
      "  Downloading itsdangerous-2.0.1-py3-none-any.whl (18 kB)\n",
      "Collecting MarkupSafe>=2.0\n",
      "  Downloading MarkupSafe-2.0.1-cp38-cp38-manylinux_2_5_x86_64.manylinux1_x86_64.manylinux_2_12_x86_64.manylinux2010_x86_64.whl (30 kB)\n",
      "Installing collected packages: MarkupSafe, Werkzeug, Jinja2, itsdangerous, click, flask\n",
      "  Attempting uninstall: MarkupSafe\n",
      "    Found existing installation: MarkupSafe 1.1.1\n",
      "    Uninstalling MarkupSafe-1.1.1:\n",
      "      Successfully uninstalled MarkupSafe-1.1.1\n",
      "  Attempting uninstall: Jinja2\n",
      "    Found existing installation: Jinja2 2.11.3\n",
      "    Uninstalling Jinja2-2.11.3:\n",
      "      Successfully uninstalled Jinja2-2.11.3\n",
      "Successfully installed Jinja2-3.0.3 MarkupSafe-2.0.1 Werkzeug-2.0.2 click-8.0.3 flask-2.0.2 itsdangerous-2.0.1\n",
      "\u001b[33mWARNING: You are using pip version 21.0.1; however, version 21.3.1 is available.\n",
      "You should consider upgrading via the '/mnt/c/ds/env/bin/python -m pip install --upgrade pip' command.\u001b[0m\n",
      "Note: you may need to restart the kernel to use updated packages.\n"
     ]
    }
   ],
   "source": [
    "pip install flask"
   ]
  },
  {
   "cell_type": "markdown",
   "id": "isolated-ireland",
   "metadata": {},
   "source": [
    "Создаем файл и  импортируем объект Flask и создайте функцию, которая возвращает ответ HTTP. Напишем следующий код внутри файла hello.py​​​:"
   ]
  },
  {
   "cell_type": "code",
   "execution_count": 20,
   "id": "distinguished-inventory",
   "metadata": {
    "ExecuteTime": {
     "end_time": "2021-12-11T12:15:39.010407Z",
     "start_time": "2021-12-11T12:15:36.914873Z"
    }
   },
   "outputs": [],
   "source": [
    "from flask import Flask\n",
    "\n",
    "app = Flask(__name__)\n",
    "\n",
    "@app.route(\"/\")\n",
    "def hello_world():\n",
    "    return \"<p>Hello, World!</p>\""
   ]
  },
  {
   "cell_type": "code",
   "execution_count": 21,
   "id": "preliminary-intranet",
   "metadata": {
    "ExecuteTime": {
     "end_time": "2021-12-11T12:18:28.237555Z",
     "start_time": "2021-12-11T12:15:39.038552Z"
    }
   },
   "outputs": [
    {
     "name": "stdout",
     "output_type": "stream",
     "text": [
      " * Serving Flask app '__main__' (lazy loading)\n",
      " * Environment: production\n",
      "\u001b[31m   WARNING: This is a development server. Do not use it in a production deployment.\u001b[0m\n",
      "\u001b[2m   Use a production WSGI server instead.\u001b[0m\n",
      " * Debug mode: off\n"
     ]
    },
    {
     "name": "stderr",
     "output_type": "stream",
     "text": [
      " * Running on http://127.0.0.1:5000/ (Press CTRL+C to quit)\n",
      "127.0.0.1 - - [11/Dec/2021 15:16:08] \"GET / HTTP/1.1\" 200 -\n",
      "127.0.0.1 - - [11/Dec/2021 15:16:34] \"GET / HTTP/1.1\" 200 -\n",
      "127.0.0.1 - - [11/Dec/2021 15:16:34] \"GET / HTTP/1.1\" 200 -\n",
      "127.0.0.1 - - [11/Dec/2021 15:16:35] \"GET / HTTP/1.1\" 200 -\n",
      "127.0.0.1 - - [11/Dec/2021 15:16:35] \"GET / HTTP/1.1\" 200 -\n"
     ]
    }
   ],
   "source": [
    "app.run()"
   ]
  },
  {
   "cell_type": "code",
   "execution_count": null,
   "id": "external-content",
   "metadata": {},
   "outputs": [],
   "source": [
    "В предыдущем блоке кода необходимо предварительно импортировать объект Flask из пакета flask. Затем вы создаете ваш экземпляр приложения Flask с именем app. Вы передаете специальную переменную __name__, которая содержит имя текущего модуля Python. Она указывает экземпляру его расположение. Это необходимо, так как Flask устанавливает ряд путей за кадром.\n",
    "\n"
   ]
  },
  {
   "cell_type": "code",
   "execution_count": null,
   "id": "intermediate-sleeping",
   "metadata": {},
   "outputs": [],
   "source": [
    "Создав экземпляр app, вы начинаете используете его для обработки поступающих веб-запросов и отправки ответов пользователю. @app.route​​​ — это декоратор, который превращает стандартную функцию Python в функцию просмотра Flask, конвертирующую возвращаемое значение функции в ответ HTTP, который отображается клиентом HTTP, например веб-браузером. Вы передаете значение '/' в @app.route()​​​ для обозначения того, что эта функция будет отвечать на веб-запросы для URL /, который является основным URL-адресом.\n",
    "\n"
   ]
  },
  {
   "cell_type": "code",
   "execution_count": null,
   "id": "empty-processing",
   "metadata": {},
   "outputs": [],
   "source": [
    "Функция просмотра hello() возвращает строку 'Hello, World!' в качестве ответа.\n",
    "\n"
   ]
  },
  {
   "cell_type": "code",
   "execution_count": null,
   "id": "fatal-statement",
   "metadata": {},
   "outputs": [],
   "source": [
    "Сохраните и закройте файл.\n",
    "\n"
   ]
  },
  {
   "cell_type": "code",
   "execution_count": null,
   "id": "above-fantasy",
   "metadata": {},
   "outputs": [],
   "source": [
    "Для запуска вашего веб-приложения сначала укажите Flask, где искать приложение (в вашем случае файл hello.py) с помощью переменной среды FLASK_APP:\n",
    "\n"
   ]
  },
  {
   "cell_type": "code",
   "execution_count": null,
   "id": "fifth-professional",
   "metadata": {},
   "outputs": [],
   "source": [
    "$ export FLASK_APP=hello\n",
    "$ flask run"
   ]
  },
  {
   "cell_type": "code",
   "execution_count": null,
   "id": "confident-lucas",
   "metadata": {},
   "outputs": [],
   "source": [
    "> set FLASK_APP=hello\n",
    "> flask run"
   ]
  },
  {
   "cell_type": "code",
   "execution_count": 22,
   "id": "confident-convenience",
   "metadata": {
    "ExecuteTime": {
     "end_time": "2021-12-11T12:21:13.033495Z",
     "start_time": "2021-12-11T12:18:55.591829Z"
    }
   },
   "outputs": [
    {
     "name": "stdout",
     "output_type": "stream",
     "text": [
      " * Serving Flask app '__main__' (lazy loading)\n",
      " * Environment: production\n",
      "\u001b[31m   WARNING: This is a development server. Do not use it in a production deployment.\u001b[0m\n",
      "\u001b[2m   Use a production WSGI server instead.\u001b[0m\n",
      " * Debug mode: off\n"
     ]
    },
    {
     "name": "stderr",
     "output_type": "stream",
     "text": [
      " * Running on http://127.0.0.1:5000/ (Press CTRL+C to quit)\n",
      "127.0.0.1 - - [11/Dec/2021 15:19:04] \"\u001b[33mGET /sdsd HTTP/1.1\u001b[0m\" 404 -\n"
     ]
    }
   ],
   "source": [
    "app.run()"
   ]
  },
  {
   "cell_type": "code",
   "execution_count": null,
   "id": "completed-silver",
   "metadata": {},
   "outputs": [],
   "source": [
    "export FLASK_ENV=development"
   ]
  },
  {
   "cell_type": "code",
   "execution_count": null,
   "id": "federal-perfume",
   "metadata": {},
   "outputs": [],
   "source": [
    "from flask import Flask, render_template\n",
    "\n",
    "app = Flask(__name__)\n",
    "\n",
    "@app.route('/')\n",
    "def index():\n",
    "    return render_template('index.html')"
   ]
  },
  {
   "cell_type": "code",
   "execution_count": null,
   "id": "brave-storage",
   "metadata": {},
   "outputs": [],
   "source": [
    "mkdir templates\n",
    "nano templates/index.html"
   ]
  },
  {
   "cell_type": "code",
   "execution_count": null,
   "id": "failing-cigarette",
   "metadata": {},
   "outputs": [],
   "source": [
    "<!DOCTYPE html>\n",
    "<html lang=\"en\">\n",
    "<head>\n",
    "    <meta charset=\"UTF-8\">\n",
    "    <title>FlaskBlog</title>\n",
    "</head>\n",
    "<body>\n",
    "   <h1>Welcome to FlaskBlog</h1>\n",
    "</body>\n",
    "</html>"
   ]
  },
  {
   "cell_type": "code",
   "execution_count": null,
   "id": "passive-emperor",
   "metadata": {},
   "outputs": [],
   "source": [
    "mkdir static"
   ]
  },
  {
   "cell_type": "markdown",
   "id": "dying-dance",
   "metadata": {},
   "source": [
    "Затем создайте другую директорию с именем css внутри директории static для хостинга файлов .css. Обычно это делается для упорядочивания статичных файлов в специальных папках. Например, файлы JavaScript обычно находятся в директории с именем js, изображения хранятся в директории images (или img) и т. д. Следующая команда создает директорию css внутри директории static:"
   ]
  },
  {
   "cell_type": "code",
   "execution_count": null,
   "id": "complex-undergraduate",
   "metadata": {},
   "outputs": [],
   "source": [
    "mkdir static/css"
   ]
  },
  {
   "cell_type": "code",
   "execution_count": null,
   "id": "structured-visibility",
   "metadata": {},
   "outputs": [],
   "source": [
    "nano static/css/style.css"
   ]
  },
  {
   "cell_type": "code",
   "execution_count": null,
   "id": "metropolitan-hypothesis",
   "metadata": {},
   "outputs": [],
   "source": [
    "h1 {\n",
    "    border: 2px #eee solid;\n",
    "    color: brown;\n",
    "    text-align: center;\n",
    "    padding: 10px;\n",
    "}"
   ]
  },
  {
   "cell_type": "code",
   "execution_count": null,
   "id": "filled-repair",
   "metadata": {},
   "outputs": [],
   "source": [
    "nano templates/index.html"
   ]
  },
  {
   "cell_type": "code",
   "execution_count": null,
   "id": "confidential-majority",
   "metadata": {},
   "outputs": [],
   "source": [
    ". . .\n",
    "<head>\n",
    "    <meta charset=\"UTF-8\">\n",
    "    <link rel=\"stylesheet\" href=\"{{ url_for('static', filename= 'css/style.css') }}\">\n",
    "    <title>FlaskBlog</title>\n",
    "</head>\n",
    ". . ."
   ]
  },
  {
   "cell_type": "code",
   "execution_count": null,
   "id": "hispanic-supervisor",
   "metadata": {},
   "outputs": [],
   "source": [
    "Добавьте ссылку в файл style.css внутри раздела <head> файла шаблона index.html:"
   ]
  },
  {
   "cell_type": "markdown",
   "id": "accessible-diagram",
   "metadata": {},
   "source": [
    "Для этого вы используете вспомогательную функцию url_for()​​​ для генерирования подходящего расположения файла. Первый аргумент указывает, что вы связаны со статичным файлом, а второй — это путь файла внутри статичной директории.\n",
    "\n"
   ]
  },
  {
   "cell_type": "markdown",
   "id": "southeast-inquiry",
   "metadata": {},
   "source": [
    "Базовые шаблоны"
   ]
  },
  {
   "cell_type": "code",
   "execution_count": null,
   "id": "julian-rating",
   "metadata": {},
   "outputs": [],
   "source": [
    "<!doctype html >\n",
    "<html lang = \"en\" >\n",
    "   <head >\n",
    "       <!-- Required meta tags - ->\n",
    "        <meta charset = \"utf-8\" >\n",
    "        <meta name = \"viewport\" content = \"width=device-width, initial-scale=1, shrink-to-fit=no\" >\n",
    "\n",
    "        <!-- Bootstrap CSS - ->\n",
    "        <link rel = \"stylesheet\" href = \"https://stackpath.bootstrapcdn.com/bootstrap/4.3.1/css/bootstrap.min.css\" integrity = \"sha384-ggOyR0iXCbMQv3Xipma34MD+dH/1fQ784/j6cY/iJTQUOhcWr7x9JvoRxT2MZw1T\" crossorigin = \"anonymous\" >\n",
    "\n",
    "        <title > { % block title % } { % endblock % } < /title >\n",
    "    </head >\n",
    "    <body >\n",
    "        <nav class = \"navbar navbar-expand-md navbar-light bg-light\">\n",
    "            <a class = \"navbar-brand\" href=\"{{ url_for('index')}}\">FlaskBlog</a>\n",
    "            <button class = \"navbar-toggler\" type=\"button\" data-toggle=\"collapse\" data-target=\"#navbarNav\" aria-controls=\"navbarNav\" aria-expanded=\"false\" aria-label=\"Toggle navigation\">\n",
    "                <span class = \"navbar-toggler-icon\"></span>\n",
    "            </button >\n",
    "            <div class = \"collapse navbar-collapse\" id=\"navbarNav\">\n",
    "                <ul class = \"navbar-nav\">\n",
    "                <li class = \"nav-item active\">\n",
    "                    <a class = \"nav-link\" href=\"#\">About</a>\n",
    "                </li >\n",
    "                </ul >\n",
    "            </div >\n",
    "        </nav >\n",
    "        <div class = \"container\">\n",
    "            { % block content % } {% endblock %}\n",
    "        </div >\n",
    "\n",
    "        <!-- Optional JavaScript - ->\n",
    "        <!-- jQuery first, then Popper.js, then Bootstrap JS - ->\n",
    "        <script src = \"https://code.jquery.com/jquery-3.3.1.slim.min.js\" integrity=\"sha384-q8i/X+965DzO0rT7abK41JStQIAqVgRVzpbzo5smXKp4YfRvH+8abtTE1Pi6jizo\" crossorigin=\"anonymous\"></script>\n",
    "        <script src = \"https://cdnjs.cloudflare.com/ajax/libs/popper.js/1.14.7/umd/popper.min.js\" integrity=\"sha384-UO2eT0CpHqdSJQ6hJty5KVphtPhzWj9WO1clHTMGa3JDZwrnQq4sF86dIHNDz0W1\" crossorigin=\"anonymous\"></script>\n",
    "        <script src = \"https://stackpath.bootstrapcdn.com/bootstrap/4.3.1/js/bootstrap.min.js\" integrity=\"sha384-JjSmVgyd0p3pXB1rRibZUAYoIIy6OrQ6VrjIEaFf/nJGzIxFDsf4x0xIM+B07jRM\" crossorigin=\"anonymous\"></script>\n",
    "    </body >\n",
    "</html >"
   ]
  },
  {
   "cell_type": "markdown",
   "id": "capable-belief",
   "metadata": {},
   "source": [
    "`Основная часть кода в предыдущем блоке состоит из стандартного HTML и кода, необходимого для Bootstrap. Теги <meta> содержат информацию для веб-браузера, тег <link> привязывает файлы CSS Bootstrap, а теги <script> являются ссылками на код JavaScript, который позволяет выполнить ряд дополнительных функций Bootstrap. Дополнительную информацию по этому вопросу можно найти в документации Bootstrap.`"
   ]
  },
  {
   "cell_type": "markdown",
   "id": "light-symbol",
   "metadata": {},
   "source": [
    "    {% block title %} {% endblock %}: блок, замещающий заголовок. Позже вы будете использовать его в других шаблонах для написания пользовательского заголовка для каждой страницы в приложении без перезаписи всего раздела <head> каждый раз.\n",
    "    \n",
    "    {{ url_for('index')}}: вызов функции, который возвращает URL для функции просмотра index(). Этот вариант отличается от прошлого вызова url_for(), который использовался для привязки статичного файла CSS. Он использует только один аргумент, а именно имя функции просмотра, и привязывается к маршруту, связанному с функцией вместо статичного файла.\n",
    "    \n",
    "    {% block content %} {% endblock %}: еще один блок, который будет замещен контентом в зависимости от дочернего шаблона (шаблоны, которые наследуются из base.html), который заменит его."
   ]
  },
  {
   "cell_type": "markdown",
   "id": "wanted-indie",
   "metadata": {},
   "source": [
    "Теперь, когда у вас есть базовый шаблон, вы можете воспользоваться преимуществом, используя наследование. Откройте файл index.html:\n",
    "\n"
   ]
  },
  {
   "cell_type": "markdown",
   "id": "talented-shower",
   "metadata": {},
   "source": [
    "nano templates/index.html\n"
   ]
  },
  {
   "cell_type": "markdown",
   "id": "controlled-september",
   "metadata": {},
   "source": [
    "Замените его содержание на следующее:\n"
   ]
  },
  {
   "cell_type": "code",
   "execution_count": null,
   "id": "confidential-swift",
   "metadata": {},
   "outputs": [],
   "source": [
    "{% extends 'base.html' %}\n",
    "\n",
    "{% block content %}\n",
    "    <h1>{% block title %} Welcome to FlaskBlog {% endblock %}</h1>\n",
    "{% endblock %}"
   ]
  },
  {
   "cell_type": "markdown",
   "id": "weird-affair",
   "metadata": {},
   "source": [
    "`В этой новой версии шаблона index.html вы используете тег {% extends %} для наследования из шаблона base.html. Затем вы расширите его, заменив блок content в базовом шаблоне на содержимое блока content из предыдущего блока кода.\n",
    "\n",
    "Этот блок content содержит тег <h 1> с текстом Welcome to FlaskBlog внутри блока title, который в свою очередь заменяет оригинальный блок title в шаблоне base.html текстом Welcome to FlaskBlog. Так вы можете избежать повторения одного и того же текста дважды, так как он используется и в качестве названия страницы, и в качестве заголовка, который появляется под панелью навигации, унаследованной от базового шаблона.\n",
    "\n",
    "Наследование шаблона также дает возможность использовать код HTML из других шаблонов (в данном случае base.html) без повторения его при каждой необходимости.\n",
    "\n",
    "Сохраните и закройте файл, а затем обновите страницу индекса в браузере. Вы увидите страницу с панелью навигации и оформленным заголовком."
   ]
  },
  {
   "cell_type": "markdown",
   "id": "legislative-innocent",
   "metadata": {},
   "source": [
    "Пара простых примеров"
   ]
  },
  {
   "cell_type": "code",
   "execution_count": null,
   "id": "urban-metro",
   "metadata": {},
   "outputs": [],
   "source": [
    "@app.route('/')\n",
    "def index():\n",
    "    return 'Index Page'\n",
    "\n",
    "\n",
    "@app.route('/hello')\n",
    "def hello():\n",
    "    return 'Hello World'"
   ]
  },
  {
   "cell_type": "code",
   "execution_count": null,
   "id": "atmospheric-signature",
   "metadata": {},
   "outputs": [],
   "source": []
  },
  {
   "cell_type": "code",
   "execution_count": null,
   "id": "political-prototype",
   "metadata": {},
   "outputs": [],
   "source": [
    "@app.route('/user/<username>')\n",
    "def show_user_profile(username):\n",
    "    # показать профиль данного пользователя\n",
    "    return 'User %s' % username\n",
    "\n",
    "@app.route('/post/<int:post_id>')\n",
    "def show_post(post_id):\n",
    "    # вывести сообщение с данным id, id - целое число\n",
    "    return 'Post %d' % post_id"
   ]
  },
  {
   "cell_type": "markdown",
   "id": "structural-tennis",
   "metadata": {},
   "source": [
    "Чтобы добавлять к адресу URL переменные части, можно эти особые части выделить как <variable_name>. Затем подобные части передаются в вашу функцию в качестве аргумента - в виде ключевого слова. Также может быть использован конвертер - с помощью задания правила следующего вида <converter:variable_name>. Вот несколько интересных примеров\n",
    "\n"
   ]
  },
  {
   "cell_type": "code",
   "execution_count": null,
   "id": "supposed-excuse",
   "metadata": {},
   "outputs": [],
   "source": [
    "@app.route('/user/<username>')\n",
    "def show_user_profile(username):\n",
    "    # показать профиль данного пользователя\n",
    "    return 'User %s' % username\n",
    "\n",
    "\n",
    "@app.route('/post/<int:post_id>')\n",
    "def show_post(post_id):\n",
    "    # вывести сообщение с данным id, id - целое число\n",
    "    return 'Post %d' % post_id"
   ]
  },
  {
   "cell_type": "code",
   "execution_count": null,
   "id": "alpha-scholar",
   "metadata": {},
   "outputs": [],
   "source": [
    "@app.route('/projects/')\n",
    "def projects():\n",
    "    return 'The project page'\n",
    "\n",
    "@app.route('/about')\n",
    "def about():\n",
    "    return 'The about page'"
   ]
  },
  {
   "cell_type": "markdown",
   "id": "peripheral-county",
   "metadata": {},
   "source": [
    "Правила для URL, работающие в Flask, основаны на модуле маршрутизации Werkzeug. Этот модуль реализован в соответствие с идеей обеспечения красивых и уникальных URL-адресов на основе исторически попавшего в обиход - из поведения Apache и более ранних HTTP серверов.\n"
   ]
  },
  {
   "cell_type": "markdown",
   "id": "refined-desktop",
   "metadata": {},
   "source": [
    "Хоть они и выглядят довольно похожими, есть разница в использовании слэша в определении URL. В первом случае, канонический URL имеет завершающую часть projects со слэшем в конце. В этом смысле он похож на папку в файловой системе. В данном случае, при доступе к URL без слэша, Flask перенаправит к каноническому URL с завершающим слэшем.\n",
    "\n",
    "Однако, во втором случае, URL определен без косой черты - как путь к файлу на UNIX-подобных системах. Доступ к URL с завершающей косой чертой будет приводить к появлению ошибки 404 «Not Found».\n",
    "\n",
    "Такое поведение позволяет продолжить работать с относительными URL, даже если в конце строки URL пропущен слэш - в соответствии с тем, как работают Apache и другие сервера. Кроме того, URL-адреса останутся уникальными, что поможет поисковым системам избежать повторной переиндексации страницы."
   ]
  },
  {
   "cell_type": "code",
   "execution_count": null,
   "id": "stunning-masters",
   "metadata": {},
   "outputs": [],
   "source": []
  },
  {
   "cell_type": "markdown",
   "id": "domestic-material",
   "metadata": {},
   "source": [
    "## GET POST"
   ]
  },
  {
   "cell_type": "markdown",
   "id": "basic-nicholas",
   "metadata": {},
   "source": [
    " Отличие POST от GET "
   ]
  },
  {
   "cell_type": "markdown",
   "id": "thirty-colleague",
   "metadata": {},
   "source": [
    "И POST и GET - это HTTP-методы."
   ]
  },
  {
   "cell_type": "markdown",
   "id": "chicken-farming",
   "metadata": {},
   "source": [
    "Давайте рассмотрим что  из себя представляют HTTP-методы GET/POST/PUT/DELETE и другие, для чего они были придуманы и как их использовать в соответствии с REST."
   ]
  },
  {
   "cell_type": "markdown",
   "id": "sacred-thinking",
   "metadata": {},
   "source": [
    "### HTTP"
   ]
  },
  {
   "cell_type": "code",
   "execution_count": 6,
   "id": "eight-prince",
   "metadata": {
    "ExecuteTime": {
     "end_time": "2021-12-11T10:43:53.844104Z",
     "start_time": "2021-12-11T10:43:53.838612Z"
    }
   },
   "outputs": [],
   "source": [
    "#### METHOD URI HTTP/VERSION "
   ]
  },
  {
   "cell_type": "markdown",
   "id": "distant-cleaner",
   "metadata": {},
   "source": [
    "где METHOD — это как раз метод HTTP-запроса, URI — идентификатор ресурса, VERSION — версия протокола "
   ]
  },
  {
   "cell_type": "markdown",
   "id": "personal-newark",
   "metadata": {},
   "source": [
    "Заголовки — это набор пар имя-значение, разделенных двоеточием. В заголовках передается различная служебная информация: кодировка сообщения, название и версия браузера, адрес, с которого пришел клиент (Referrer) и так далее."
   ]
  },
  {
   "cell_type": "markdown",
   "id": "national-binary",
   "metadata": {},
   "source": [
    "Тело сообщения — это, собственно, передаваемые данные. В ответе передаваемыми данными, как правило, является html-страница, которую запросил браузер, а в запросе, например, в теле сообщения передается содержимое файлов, загружаемых на сервер. Но как правило, тело сообщения в запросе вообще отсутствует.\n"
   ]
  },
  {
   "cell_type": "markdown",
   "id": "illegal-engineering",
   "metadata": {},
   "source": [
    "#### Пример HTTP-взаимодействия"
   ]
  },
  {
   "cell_type": "markdown",
   "id": "potential-rover",
   "metadata": {},
   "source": [
    "Рассмотрим пример"
   ]
  },
  {
   "cell_type": "markdown",
   "id": "internal-differential",
   "metadata": {},
   "source": [
    "Запрос:\n"
   ]
  },
  {
   "cell_type": "markdown",
   "id": "broke-fifty",
   "metadata": {},
   "source": [
    "```\n",
    "GET /index.php HTTP/1.1\n",
    "Host: example.com\n",
    "User-Agent: Mozilla/5.0 (X11; U; Linux i686; ru; rv:1.9b5) Gecko/2008050509 Firefox/3.0b5\n",
    "Accept: text/html\n",
    "Connection: close\n",
    "```"
   ]
  },
  {
   "cell_type": "markdown",
   "id": "subject-metallic",
   "metadata": {},
   "source": [
    "Первая строка — это строка запроса, остальные — заголовки; тело сообщения отсутствует\n"
   ]
  },
  {
   "cell_type": "markdown",
   "id": "crude-boston",
   "metadata": {},
   "source": [
    "```\n",
    "HTTP/1.0 200 OK\n",
    "Server: nginx/0.6.31\n",
    "Content-Language: ru\n",
    "Content-Type: text/html; charset=utf-8\n",
    "Content-Length: 1234\n",
    "Connection: close\n",
    "\n",
    "... САМА HTML-СТРАНИЦА ...\n",
    "```"
   ]
  },
  {
   "cell_type": "markdown",
   "id": "grateful-toner",
   "metadata": {},
   "source": [
    "#### Ресурсы и методы\n",
    "\n",
    "\n",
    "параметр URI - Uniform Resource Identifier — единообразный идентификатор ресурса. Ресурс — это, как правило, файл на сервере (пример URI в данном случае '/styles.css'), но вообще ресурсом может являться и какой-либо абстрактный объект ('/blogs/webdev/' — указывает на блок «Веб-разработка», а не на конкретный файл).\n",
    "\n",
    "Тип HTTP-запроса (также называемый HTTP-метод) указывает серверу на то, какое действие мы хотим произвести с ресурсом. Изначально (в начале 90-х) предполагалось, что клиент может хотеть от ресурса только одно — получить его, однако сейчас по протоколу HTTP можно создавать посты, редактировать профиль, удалять сообщения и многое другое. И эти действия сложно объединить термином «получение».\n",
    "\n",
    "Для разграничения действий с ресурсами на уровне HTTP-методов и были придуманы следующие варианты:"
   ]
  },
  {
   "cell_type": "markdown",
   "id": "racial-amount",
   "metadata": {},
   "source": [
    "`\n",
    "GET — получение ресурса\n",
    "POST — создание ресурса\n",
    "PUT — обновление ресурса\n",
    "DELETE — удаление ресурса\n",
    "`"
   ]
  },
  {
   "cell_type": "markdown",
   "id": "working-province",
   "metadata": {},
   "source": [
    "спецификация HTTP не обязывает сервер понимать все методы (которых на самом деле гораздо больше, чем 4) — обязателен только GET, а также не указывает серверу, что он должен делать при получении запроса с тем или иным методом. А это значит, что сервер в ответ на запрос DELETE /index.php HTTP/1.1 не обязан удалять страницу index.php на сервере, так же как на запрос GET /index.php HTTP/1.1 не обязан возвращать вам страницу index.php, он может ее удалять, например"
   ]
  },
  {
   "cell_type": "markdown",
   "id": "automatic-stage",
   "metadata": {},
   "source": [
    "#### REST\n"
   ]
  },
  {
   "cell_type": "markdown",
   "id": "suspected-tower",
   "metadata": {},
   "source": [
    "REST (REpresentational State Transfer)\n",
    "\n",
    " REST охватывает более широкую область, нежели HTTP — его можно применять и в других сетях с другими протоколами. REST описывает принципы взаимодействия клиента и сервера, основанные на понятиях «ресурса» и «глагола» (можно понимать их как подлежащее и сказуемое). В случае HTTP ресурс определяется своим URI, а глагол — это HTTP-метод.\n",
    "\n",
    "REST предлагает отказаться от использования одинаковых URI для разных ресурсов (то есть адреса двух разных статей вроде /index.php?article_id=10 и /index.php?article_id=20 — это не REST-way) и использовать разные HTTP-методы для разных действий. То есть веб-приложение, написанное с использованием REST подхода будет удалять ресурс при обращении к нему с HTTP-методом DELETE (разумеется, это не значит, что надо давать возможность удалить всё и вся, но любой запрос на удаление в приложении должен использовать HTTP-метод DELETE).\n",
    "\n",
    "REST дает программистам возможность писать стандартизованные и чуть более красивые веб-приложения, чем раньше. Используя REST, URI для добавления нового юзера будет не /user.php?action=create (метод GET/POST), а просто /user.php (метод строго POST).\n",
    "\n",
    "В итоге, совместив имеющуюся спецификацию HTTP и REST-подход наконец-то обретают смысл различные HTTP-методы. GET — возвращает ресурс, POST — создает новый, PUT — обновляет существующий, DELETE — удаляет."
   ]
  },
  {
   "cell_type": "markdown",
   "id": "curious-context",
   "metadata": {},
   "source": [
    "### Резюме:"
   ]
  },
  {
   "cell_type": "markdown",
   "id": "central-hamburg",
   "metadata": {},
   "source": [
    "Общего между ними то что они работают одинаково. Разницы между ними технически никакой. А вот идеологические различия есть.\n",
    "\n",
    "GET запрос используется чтобы получить данные а POST чтобы отправить. \n",
    "\n",
    "GET - это чтобы получить определенную страницу в определенном виде ( сортировка, текущая страница в блоге, строка поиска и т.п. ).\n",
    "\n",
    "POST - для оправки данных которые не влияют на отображение страницы, в том плане что эти данные влияют только на результат выполнения скрипта ( логины, пароли, номера кредиток, сообщения и т.п. )."
   ]
  },
  {
   "cell_type": "markdown",
   "id": "descending-terminal",
   "metadata": {},
   "source": [
    "## Bottle: Python Web Framework\n"
   ]
  },
  {
   "attachments": {
    "image.png": {
     "image/png": "[encoded data removed]"
    }
   },
   "cell_type": "markdown",
   "id": "immune-investing",
   "metadata": {},
   "source": [
    "![image.png](attachment:image.png)"
   ]
  },
  {
   "cell_type": "markdown",
   "id": "verified-tunnel",
   "metadata": {},
   "source": [
    "https://bottlepy.org/docs/dev/\n"
   ]
  },
  {
   "cell_type": "code",
   "execution_count": null,
   "id": "laden-garden",
   "metadata": {},
   "outputs": [],
   "source": [
    "from bottle import route, run, template\n",
    "\n",
    "@route('/hello/<name>')\n",
    "def index(name):\n",
    "    return template('<b>Hello {{name}}</b>!', name=name)\n",
    "\n",
    "run(host='localhost', port=8080)"
   ]
  },
  {
   "cell_type": "markdown",
   "id": "still-regular",
   "metadata": {},
   "source": [
    "### Сервис для для обработки файлов теоретичеких физиков"
   ]
  },
  {
   "cell_type": "markdown",
   "id": "backed-nudist",
   "metadata": {},
   "source": [
    "Задача:"
   ]
  },
  {
   "cell_type": "markdown",
   "id": "bacterial-chart",
   "metadata": {},
   "source": [
    "Входной файл - формирует ПО Буревестник (ДРОН 4М - Рентгенофазовый дифрактометр,предназначен для проведения рентгеноструктурных исследований поликристаллических материалов.)"
   ]
  },
  {
   "attachments": {
    "image.png": {
     "image/png": "[encoded data removed]"
    }
   },
   "cell_type": "markdown",
   "id": "sitting-trash",
   "metadata": {},
   "source": [
    "![image.png](attachment:image.png)"
   ]
  },
  {
   "cell_type": "markdown",
   "id": "chronic-crime",
   "metadata": {},
   "source": [
    "Каждый входной преобразуется в отдельный выходной. Содержание отличное от того что в примере выходного файла - не допустимо"
   ]
  },
  {
   "cell_type": "markdown",
   "id": "early-satellite",
   "metadata": {},
   "source": [
    "Имя выходного файла берется из первой строки содержания входного файла."
   ]
  },
  {
   "cell_type": "markdown",
   "id": "fitted-patrick",
   "metadata": {},
   "source": [
    "Пример входного файла:"
   ]
  },
  {
   "cell_type": "markdown",
   "id": "earned-process",
   "metadata": {},
   "source": [
    "V2O5_1_900 Co-Ka 10.09.19\n",
    "\n",
    "3 2 20 80 0.1 7341 261\n",
    "\n",
    "1000 1001 963 960 923 981 915 919 927 926 916 877 924 960 938 959 929 908 952 973 887 938 986 1047 1097 1216 1257 1400 1634 1943 2278 2898 3665 4817 6168 6362 5747 4362 2892 1977 1537 1332 1218 1103 1199 1220 1266 1286 1409 1424 1516 15"
   ]
  },
  {
   "cell_type": "markdown",
   "id": "integrated-america",
   "metadata": {},
   "source": [
    "Пример выходного файла:"
   ]
  },
  {
   "cell_type": "markdown",
   "id": "spiritual-albuquerque",
   "metadata": {},
   "source": [
    "20.0 1000\n",
    "20.1 1001\n",
    "20.2 963\n",
    "20.3 960\n",
    "20.4 923\n",
    "20.5 981\n",
    "20.6 915\n",
    "20.7 919\n",
    "20.8 927\n",
    "20.9 926\n",
    "21.0 916\n",
    "21.1 877\n",
    "21.2 924\n",
    "21.3 960\n",
    "21.4 938\n",
    "21.5 959\n",
    "21.6 929"
   ]
  },
  {
   "cell_type": "code",
   "execution_count": null,
   "id": "ancient-hometown",
   "metadata": {},
   "outputs": [],
   "source": [
    "Пример стационарного кода:"
   ]
  },
  {
   "cell_type": "code",
   "execution_count": 8,
   "id": "virgin-picnic",
   "metadata": {
    "ExecuteTime": {
     "end_time": "2021-12-11T10:49:49.793411Z",
     "start_time": "2021-12-11T10:49:46.829382Z"
    }
   },
   "outputs": [
    {
     "name": "stdout",
     "output_type": "stream",
     "text": [
      "Введите имя файла: dsd\n"
     ]
    },
    {
     "ename": "FileNotFoundError",
     "evalue": "[Errno 2] No such file or directory: 'dsd'",
     "output_type": "error",
     "traceback": [
      "\u001b[0;31m---------------------------------------------------------------------------\u001b[0m",
      "\u001b[0;31mFileNotFoundError\u001b[0m                         Traceback (most recent call last)",
      "\u001b[0;32m<ipython-input-8-8890989c4890>\u001b[0m in \u001b[0;36m<module>\u001b[0;34m\u001b[0m\n\u001b[1;32m      4\u001b[0m \u001b[0;31m#file='V2O5_1.TXT' #test parameter\u001b[0m\u001b[0;34m\u001b[0m\u001b[0;34m\u001b[0m\u001b[0;34m\u001b[0m\u001b[0m\n\u001b[1;32m      5\u001b[0m \u001b[0;34m\u001b[0m\u001b[0m\n\u001b[0;32m----> 6\u001b[0;31m \u001b[0mf\u001b[0m \u001b[0;34m=\u001b[0m \u001b[0mopen\u001b[0m\u001b[0;34m(\u001b[0m\u001b[0mfile\u001b[0m\u001b[0;34m,\u001b[0m \u001b[0;34m'r'\u001b[0m\u001b[0;34m)\u001b[0m\u001b[0;34m\u001b[0m\u001b[0;34m\u001b[0m\u001b[0m\n\u001b[0m\u001b[1;32m      7\u001b[0m \u001b[0mlines\u001b[0m\u001b[0;34m=\u001b[0m\u001b[0mf\u001b[0m\u001b[0;34m.\u001b[0m\u001b[0mreadlines\u001b[0m\u001b[0;34m(\u001b[0m\u001b[0;34m)\u001b[0m\u001b[0;34m\u001b[0m\u001b[0;34m\u001b[0m\u001b[0m\n\u001b[1;32m      8\u001b[0m \u001b[0;34m\u001b[0m\u001b[0m\n",
      "\u001b[0;31mFileNotFoundError\u001b[0m: [Errno 2] No such file or directory: 'dsd'"
     ]
    }
   ],
   "source": [
    "inputfilename = input(\"Введите имя файла: \")\n",
    "file = (inputfilename)\n",
    "\n",
    "# file='V2O5_1.TXT' #test parameter\n",
    "\n",
    "f = open(file, 'r')\n",
    "lines = f.readlines()\n",
    "\n",
    "# THETA\n",
    "a = lines[1].split(' ')\n",
    "theta0 = float(a[3])\n",
    "theta1 = float(a[4])\n",
    "thetastep = float(a[5])\n",
    "round1 = len(str(thetastep))\n",
    "mas = []\n",
    "\n",
    "while theta0 <= theta1:\n",
    "    theta0 = round(theta0, round1-2)\n",
    "    mas.append(theta0)\n",
    "    theta0 += thetastep\n",
    "mas.append(theta0)\n",
    "\n",
    "# OUTPUT FILE NAME\n",
    "name = lines[0]\n",
    "print(\"Файл будет сохранен с именем: \" + name)\n",
    "f.close()\n",
    "\n",
    "# OUTPUT\n",
    "name1 = name.split(\"\\n\")\n",
    "name2 = name1[0]\n",
    "\n",
    "file1 = name2+\".txt\"\n",
    "f1 = open(file1, 'w')\n",
    "b = lines[2].split(' ')\n",
    "for i in range(len(b)-2):\n",
    "    f1.write(str(mas[i])+'     '+str(b[i+1])+\"\\n\")\n",
    "f1.close()\n",
    "\n",
    "print(\"Готово!\")"
   ]
  },
  {
   "cell_type": "code",
   "execution_count": null,
   "id": "functioning-piano",
   "metadata": {},
   "outputs": [],
   "source": []
  },
  {
   "cell_type": "code",
   "execution_count": 9,
   "id": "biological-plane",
   "metadata": {
    "ExecuteTime": {
     "end_time": "2021-12-11T10:49:55.614401Z",
     "start_time": "2021-12-11T10:49:55.609484Z"
    }
   },
   "outputs": [],
   "source": [
    "def process_file(filename):\n",
    "    with open(filename, 'r') as fp:\n",
    "        lines = fp.readlines()\n",
    "\n",
    "    # THETA\n",
    "    a = lines[1].split(' ')\n",
    "    theta0 = float(a[3])\n",
    "    theta1 = float(a[4])\n",
    "    thetastep = float(a[5])\n",
    "    round1 = len(str(thetastep))\n",
    "    mas = []\n",
    "\n",
    "    while theta0 <= theta1:\n",
    "        theta0 = round(theta0, round1 - 2)\n",
    "        mas.append(theta0)\n",
    "        theta0 += thetastep\n",
    "    mas.append(theta0)"
   ]
  },
  {
   "cell_type": "markdown",
   "id": "criminal-pontiac",
   "metadata": {},
   "source": [
    "# Лямбда-функции"
   ]
  },
  {
   "cell_type": "markdown",
   "id": "continent-tamil",
   "metadata": {
    "ExecuteTime": {
     "end_time": "2021-12-11T10:45:28.865412Z",
     "start_time": "2021-12-11T10:45:28.860021Z"
    }
   },
   "source": [
    "Тяжело проводить глубокое изучение классов Python, не затрагивая вопрос лямбда выражений. Я практически всегда получаю кучу вопросов о них. Люди часто замечают их в коде на StackOverflow, или в коде коллеги (который, к слову, также может быть кодом с StackOverflow).\n"
   ]
  },
  {
   "cell_type": "markdown",
   "id": "unnecessary-maple",
   "metadata": {},
   "source": [
    "Лямбда-выражения в Python и других языках программирования имеют свои корни в лямбда-исчислении, модели вычислений, изобретенной Алонзо Черчем (Alonzo Church)."
   ]
  },
  {
   "cell_type": "markdown",
   "id": "tough-milan",
   "metadata": {},
   "source": [
    "### Кто они?\n"
   ]
  },
  {
   "cell_type": "markdown",
   "id": "foster-university",
   "metadata": {},
   "source": [
    "Лябмда-выражения — это особый синтаксис в Python, необходимый для создания анонимных функций. Я назову синтаксис лямбда как лямбда-выражение, а получаемую функцию — лямбда-функцию.\n",
    "\n",
    "Лямбда-выражения в Python позволяют функции быть созданной и переданной (зачастую другой функции) в одной строчке кода.\n",
    "\n",
    "Лямдба-выражения позволяют нам превратить следующий код:"
   ]
  },
  {
   "cell_type": "code",
   "execution_count": 23,
   "id": "charming-technician",
   "metadata": {
    "ExecuteTime": {
     "end_time": "2021-12-11T13:46:39.876768Z",
     "start_time": "2021-12-11T13:46:39.833501Z"
    }
   },
   "outputs": [],
   "source": [
    "colors = [\"Goldenrod\", \"Purple\", \"Salmon\", \"Turquoise\", \"Cyan\"]\n",
    " \n",
    "def normalize_case(string):\n",
    "    return string.casefold()\n",
    " \n",
    "normalized_colors = map(normalize_case, colors)"
   ]
  },
  {
   "cell_type": "code",
   "execution_count": 24,
   "id": "proved-brass",
   "metadata": {
    "ExecuteTime": {
     "end_time": "2021-12-11T13:46:43.899370Z",
     "start_time": "2021-12-11T13:46:43.854692Z"
    }
   },
   "outputs": [
    {
     "data": {
      "text/plain": [
       "['goldenrod', 'purple', 'salmon', 'turquoise', 'cyan']"
      ]
     },
     "execution_count": 24,
     "metadata": {},
     "output_type": "execute_result"
    }
   ],
   "source": [
    "list(normalized_colors)"
   ]
  },
  {
   "cell_type": "code",
   "execution_count": null,
   "id": "committed-serve",
   "metadata": {},
   "outputs": [],
   "source": [
    "colors = [\"Goldenrod\", \"Purple\", \"Salmon\", \"Turquoise\", \"Cyan\"]\n",
    " \n",
    "normalized_colors = list(map(lambda s: s.casefold(), colors))\n",
    "normalized_colors"
   ]
  },
  {
   "cell_type": "markdown",
   "id": "threaded-dietary",
   "metadata": {},
   "source": [
    "Встроенные ограничения лямбда-выражений являются их визитной карточкой. Когда опытный программист Python видит лямбда-выражение, он знает, что оно работает с функцией, которая используется только в одном месте и выполняет одну единственную задачу.\n",
    "\n",
    "\n"
   ]
  },
  {
   "cell_type": "markdown",
   "id": "offensive-financing",
   "metadata": {},
   "source": [
    "Если вы когда-либо использовали анонимные функции в JavaScript до этого, вы можете трактовать лямбда-выражения в Python аналогичным образом, с тем исключением, что у них больше ограничений и их синтаксис заметно отличается от привычного синтаксиса функций.\n",
    "\n"
   ]
  },
  {
   "cell_type": "markdown",
   "id": "touched-quebec",
   "metadata": {},
   "source": [
    "Где они используются?\n",
    "Как правило, lambda-выражения используются при вызове функций (или классов), которые принимают функцию в качестве аргумента."
   ]
  },
  {
   "cell_type": "markdown",
   "id": "substantial-fellow",
   "metadata": {},
   "source": [
    "Встроенная функция сортировки Python принимает функцию в качестве ключевого аргумента. Эта ключевая функция использует для вычисления сравнительного ключа при определении порядка сортировки элементов.\n",
    "\n"
   ]
  },
  {
   "cell_type": "code",
   "execution_count": 25,
   "id": "basic-advice",
   "metadata": {
    "ExecuteTime": {
     "end_time": "2021-12-11T13:49:01.069583Z",
     "start_time": "2021-12-11T13:49:01.063304Z"
    }
   },
   "outputs": [
    {
     "name": "stdout",
     "output_type": "stream",
     "text": [
      "['cyan', 'Goldenrod', 'purple', 'Salmon', 'turquoise']\n"
     ]
    }
   ],
   "source": [
    "colors = [\"Goldenrod\", \"purple\", \"Salmon\", \"turquoise\", \"cyan\"]\n",
    "print(sorted(colors, key=lambda s: s.casefold()))"
   ]
  },
  {
   "cell_type": "markdown",
   "id": "ordinary-protocol",
   "metadata": {},
   "source": [
    "Функция sorted — не единственная область применения лямбда-выражений, но встречается наиболее часто.\n",
    "\n"
   ]
  },
  {
   "cell_type": "markdown",
   "id": "centered-donna",
   "metadata": {},
   "source": [
    "### Преимущества и недостатки lambda\n"
   ]
  },
  {
   "cell_type": "markdown",
   "id": "needed-maker",
   "metadata": {},
   "source": [
    "Лямбда-выражения отличаются от def по следующим признакам:\n"
   ]
  },
  {
   "cell_type": "markdown",
   "id": "excited-advice",
   "metadata": {},
   "source": [
    "Их можно передавать мгновенно (переменная не нужна);\n",
    "Они могут содержать только одну строку кода;\n",
    "Они возвращаются автоматически;\n",
    "Они не могут содержать docstring и иметь наименование;\n",
    "Синтаксис отличается и мало знаком."
   ]
  },
  {
   "cell_type": "markdown",
   "id": "accepting-trader",
   "metadata": {},
   "source": [
    "Наличие единственной строки кода я не вижу ни как преимуществом, ни как недостатком. Тот факт, что лямбда функции не имеют docstring и не имеют наименований — может быть неудобно, а незнакомый синтаксис — стать проблемой для новичков в Python.\n",
    "\n"
   ]
  },
  {
   "cell_type": "markdown",
   "id": "composed-version",
   "metadata": {},
   "source": [
    "На мой взгляд, в целом — недостатки немного перевешивают преимущества лямбда-выражений, но что мне больше всего не нравится, это то, что их постоянно либо используют неправильно, либо используют слишком часто.\n",
    "\n"
   ]
  },
  {
   "cell_type": "markdown",
   "id": "theoretical-retention",
   "metadata": {},
   "source": [
    "Когда я вижу лямбда-выражения в незнакомом коде, я сразу настраиваюсь скептически. Когда они появляются, я понимаю, что если их убрать, читаемость кода только улучшится.\n",
    "\n"
   ]
  },
  {
   "cell_type": "markdown",
   "id": "intellectual-committee",
   "metadata": {},
   "source": [
    "Иногда проблема может заключаться в том, что они используются неправильно. Под этим имеется ввиду то, что способ их использования далек от идеала и неуместен. В других случаях, лямбда-выражения используются слишком часто. Под этим подразумевается то, что их наличие приемлемо, но код вполне может быть написан иначе.\n",
    "\n"
   ]
  },
  {
   "cell_type": "markdown",
   "id": "alive-reaction",
   "metadata": {},
   "source": [
    "Давайте посмотрим на различные примеры того, когда лямбда-выражения используются неправильно, или слишком часто.\n",
    "\n"
   ]
  },
  {
   "cell_type": "markdown",
   "id": "roman-louisville",
   "metadata": {},
   "source": [
    "Неправильное использование: наименование лямбда-выражений\n",
    "PEP8, являющийся официальным руководством Python, рекомендует писать код таким образом:"
   ]
  },
  {
   "cell_type": "markdown",
   "id": "continuous-driving",
   "metadata": {},
   "source": [
    "Указанный вверху оператор создает анонимную функцию и затем присваивает её переменной. Этот код игнорирует причину, по которой лямбда функции являются полезными:\n",
    "\n"
   ]
  },
  {
   "cell_type": "markdown",
   "id": "popular-uncertainty",
   "metadata": {},
   "source": [
    "лямбда функции могут быть переданы без необходимости в предварительном присваивании переменной.\n",
    "\n"
   ]
  },
  {
   "cell_type": "markdown",
   "id": "powerful-advance",
   "metadata": {},
   "source": [
    "Если вы хотите создать однострочную функцию и хранить ее в переменной, вам нужно использовать def вместо этого:\n",
    "\n"
   ]
  },
  {
   "cell_type": "code",
   "execution_count": 4,
   "id": "needed-headline",
   "metadata": {},
   "outputs": [],
   "source": [
    "def normalize_case(s): return s.casefold()"
   ]
  },
  {
   "cell_type": "code",
   "execution_count": 5,
   "id": "elegant-zoning",
   "metadata": {},
   "outputs": [
    {
     "data": {
      "text/plain": [
       "'sdfssffds'"
      ]
     },
     "execution_count": 5,
     "metadata": {},
     "output_type": "execute_result"
    }
   ],
   "source": [
    "normalize_case('SdfssFFds')"
   ]
  },
  {
   "cell_type": "markdown",
   "id": "swiss-gabriel",
   "metadata": {},
   "source": [
    "Это рекомендуется в PEP8, так как названные функции — это простой и понятный элемент. Также полезно давать функции правильное наименование, чтобы упростить лечение возможных багов. В отличие от функций, определенных при помощи def, функции лямбда никогда не имеют названий (название всегда будет <lambda>):\n",
    "\n"
   ]
  },
  {
   "cell_type": "code",
   "execution_count": 26,
   "id": "fatty-brazilian",
   "metadata": {
    "ExecuteTime": {
     "end_time": "2021-12-11T13:52:27.293429Z",
     "start_time": "2021-12-11T13:52:27.286271Z"
    }
   },
   "outputs": [
    {
     "data": {
      "text/plain": [
       "<function __main__.<lambda>(s)>"
      ]
     },
     "execution_count": 26,
     "metadata": {},
     "output_type": "execute_result"
    }
   ],
   "source": [
    "def normalize_case(s): return s.casefold()\n",
    "\n",
    "\n",
    "normalize_case"
   ]
  },
  {
   "cell_type": "code",
   "execution_count": 7,
   "id": "classical-rebate",
   "metadata": {},
   "outputs": [
    {
     "data": {
      "text/plain": [
       "<function __main__.normalize_case(s)>"
      ]
     },
     "execution_count": 7,
     "metadata": {},
     "output_type": "execute_result"
    }
   ],
   "source": [
    "def normalize_case(s): return s.casefold()\n",
    "\n",
    "normalize_case"
   ]
  },
  {
   "cell_type": "markdown",
   "id": "sustained-election",
   "metadata": {},
   "source": [
    "Если вы хотите создать функции и хранить ее в переменной, определите вашу функцию при помощи def. Это именно то, для чего он нужен. Неважно, если ваша функция длиной в одну строку кода, или вы определяете функцию внутри другой функции, def отлично работает в таких случаях.\n",
    "\n"
   ]
  },
  {
   "cell_type": "markdown",
   "id": "defensive-sympathy",
   "metadata": {},
   "source": [
    "Неправильное использование: ненужные вызовы функций\n"
   ]
  },
  {
   "cell_type": "markdown",
   "id": "alike-harbor",
   "metadata": {},
   "source": [
    "Я часто сталкиваюсь с тем, что лямбда-выражения используются как обертка вокруг функции, которая и так подходит для решения задачи.\n",
    "\n"
   ]
  },
  {
   "cell_type": "markdown",
   "id": "acoustic-following",
   "metadata": {},
   "source": [
    "Рассмотрим следующий код в качестве примера:\n",
    "\n"
   ]
  },
  {
   "cell_type": "code",
   "execution_count": null,
   "id": "polar-terrorist",
   "metadata": {},
   "outputs": [],
   "source": [
    "sorted_numbers = sorted(numbers, key=lambda n: abs(n))"
   ]
  },
  {
   "cell_type": "markdown",
   "id": "apart-amateur",
   "metadata": {},
   "source": [
    "Скорее всего, человек, написавший этот код, прочитал о том, что лямбда-выражения используются для того, чтобы создать функцию, которая может передаваться. Однако он не учел то, что картина несколько шире: все функции в Python (не только функции лямбда) могут передаваться.\n",
    "\n",
    "Поскольку abs (который возвращает абсолютное значение числа) является функцией, а все функции могут передаваться, мы можем написать вышеупомянутый код следующим образом:"
   ]
  },
  {
   "cell_type": "code",
   "execution_count": null,
   "id": "retired-struggle",
   "metadata": {},
   "outputs": [],
   "source": [
    "sorted_numbers = sorted(numbers, key=abs)"
   ]
  },
  {
   "cell_type": "markdown",
   "id": "aerial-liberal",
   "metadata": {},
   "source": [
    "Злоупотребление: простые, но нетривиальные функции\n"
   ]
  },
  {
   "cell_type": "markdown",
   "id": "processed-cancer",
   "metadata": {},
   "source": [
    "Часто встречается использование лямбда-выражений для создания функции, которая возвращает несколько значений в кортеж python:\n",
    "\n"
   ]
  },
  {
   "cell_type": "code",
   "execution_count": null,
   "id": "about-oracle",
   "metadata": {},
   "outputs": [],
   "source": [
    "colors = [\"Goldenrod\", \"Purple\", \"Salmon\", \"Turquoise\", \"Cyan\"])\n",
    "colors_by_length = sorted(colors, key=lambda c: (len(c), c.casefold()))"
   ]
  },
  {
   "cell_type": "markdown",
   "id": "educational-tactics",
   "metadata": {},
   "source": [
    "Используемая функция-ключ в этом примере помогает нам распределить цвета по длине в соответствии с их названиями.\n",
    "\n"
   ]
  },
  {
   "cell_type": "markdown",
   "id": "median-brooks",
   "metadata": {},
   "source": [
    "Этот код аналогичен приведенному выше, но я нахожу его более читаемым:\n",
    "\n"
   ]
  },
  {
   "cell_type": "code",
   "execution_count": null,
   "id": "determined-progress",
   "metadata": {},
   "outputs": [],
   "source": [
    "def length_and_alphabetical(string):\n",
    "    return (len(string), string.casefold())\n",
    "\n",
    "\n",
    "colors = [\"Goldenrod\", \"Purple\", \"Salmon\", \"Turquoise\", \"Cyan\"])\n",
    "colors_by_length=sorted(colors, key = length_and_alphabetical)"
   ]
  },
  {
   "cell_type": "markdown",
   "id": "incomplete-scholarship",
   "metadata": {},
   "source": [
    "Этот код немного нуднее, но на мой взгляд, наименование нашей функции делает более понятным по каким признакам мы собираемся проводить сортировку. Мы не просто сортируем по длине и не по цвету: мы сортируем по обеим признакам.\n",
    "\n"
   ]
  },
  {
   "cell_type": "markdown",
   "id": "necessary-ontario",
   "metadata": {},
   "source": [
    "Если функция важная — желательно дать ей название. Вы можете не согласиться и сказать, что большинство функций, которые мы используем в лямбда-выражении настолько тривиальны, что их даже не нужно называть, и есть небольшие недостатки в наименовании функций, но на мой взгляд, это делает код более читаемым в конечном счете.\n",
    "\n"
   ]
  },
  {
   "cell_type": "markdown",
   "id": "built-quilt",
   "metadata": {},
   "source": [
    "# PEP8"
   ]
  },
  {
   "cell_type": "markdown",
   "id": "tropical-integration",
   "metadata": {},
   "source": [
    "Этот документ описывает соглашение о том, как писать код для языка python, включая стандартную библиотеку, входящую в состав python.\n",
    "\n"
   ]
  },
  {
   "cell_type": "markdown",
   "id": "conventional-celebrity",
   "metadata": {},
   "source": [
    "PEP 8 создан на основе рекомендаций Гуидо ван Россума с добавлениями от Барри. Если где-то возникал конфликт, мы выбирали стиль Гуидо. И, конечно, этот PEP может быть неполным (фактически, он, наверное, никогда не будет закончен).\n",
    "\n"
   ]
  },
  {
   "cell_type": "markdown",
   "id": "taken-undergraduate",
   "metadata": {},
   "source": [
    "Ключевая идея Гуидо такова: код читается намного больше раз, чем пишется. Собственно, рекомендации о стиле написания кода направлены на то, чтобы улучшить читаемость кода и сделать его согласованным между большим числом проектов. В идеале, весь код будет написан в едином стиле, и любой сможет легко его прочесть.\n",
    "\n"
   ]
  },
  {
   "cell_type": "markdown",
   "id": "everyday-treasury",
   "metadata": {},
   "source": [
    "Это руководство о согласованности и единстве. Согласованность с этим руководством очень важна. Согласованность внутри одного проекта еще важнее. А согласованность внутри модуля или функции — самое важное. Но важно помнить, что иногда это руководство неприменимо, и понимать, когда можно отойти от рекомендаций. Когда вы сомневаетесь, просто посмотрите на другие примеры и решите, какой выглядит лучше.\n",
    "\n",
    "Две причины для того, чтобы нарушить данные правила:\n",
    "\n",
    "Когда применение правила сделает код менее читаемым даже для того, кто привык читать код, который следует правилам.\n",
    "Чтобы писать в едином стиле с кодом, который уже есть в проекте и который нарушает правила (возможно, в силу исторических причин) — впрочем, это возможность переписать чужой код."
   ]
  },
  {
   "cell_type": "markdown",
   "id": "facial-flesh",
   "metadata": {},
   "source": [
    "https://www.python.org/dev/peps/pep-0008/"
   ]
  },
  {
   "cell_type": "markdown",
   "id": "level-proxy",
   "metadata": {},
   "source": [
    "PEP 8 затрагивает структуру и внешний вид кода:\n",
    "\n",
    "выбор кодировки исходного кода;\n",
    "\n",
    "группировку инструкций по импорту модулей;\n",
    "\n",
    "максимальную длину строки кода  —  рекомендуется до 79 знаков, а для строк документации (docstring)  — 72 знака;\n",
    "\n",
    "использование отступов  —  табуляции и пробелов;\n",
    "\n",
    "использование пустых строк для разбивки кода на блоки и выделения функций верхнего уровня;\n",
    "\n",
    "использование комментариев;\n",
    "\n",
    "именование переменных, констант, классов и экземпляров, функций, аргументов, модулей, пакетов;\n",
    "\n",
    "выбор уровня доступности классов и методов  (public, private, API-подклассы), а также порядка их наследования."
   ]
  },
  {
   "cell_type": "markdown",
   "id": "immediate-russell",
   "metadata": {},
   "source": [
    "Пишете ли вы код в PyCharm, Notepad++ или другом редакторе, сохранять .py-файлы лучше в кодировке UTF-8. Для Python 3 она рекомендована официально, для Python 2 формально требуется кодировка ASCII, но она не поддерживает кириллицу, поэтому для приложений на русском разумно использовать ту же UTF-8. Если по какой-то причине вам очень нужна «альтернативная» кодировка исходника, обязательно укажите её в комментарии в первой строке файла:\n",
    "\n"
   ]
  },
  {
   "cell_type": "code",
   "execution_count": 9,
   "id": "gothic-conflict",
   "metadata": {},
   "outputs": [
    {
     "name": "stdout",
     "output_type": "stream",
     "text": [
      "Текст в кодировке Windows 1251.\n",
      "авава\n"
     ]
    },
    {
     "data": {
      "text/plain": [
       "'авава'"
      ]
     },
     "execution_count": 9,
     "metadata": {},
     "output_type": "execute_result"
    }
   ],
   "source": [
    "# coding: cp1251\n",
    "print(\"Текст в кодировке Windows 1251.\")\n",
    "input()"
   ]
  },
  {
   "cell_type": "markdown",
   "id": "uniform-skill",
   "metadata": {},
   "source": [
    "## PEP 8: Питону важны отступы\n"
   ]
  },
  {
   "cell_type": "markdown",
   "id": "expected-display",
   "metadata": {},
   "source": [
    "Самое известное требование PEP 8 по оформлению Python-кода — отступы. С их помощью задают структуру условий, циклов, функций. Традиционно на один уровень отступа ставят четыре пробела. Например:\n",
    "\n"
   ]
  },
  {
   "cell_type": "code",
   "execution_count": null,
   "id": "qualified-consolidation",
   "metadata": {},
   "outputs": [],
   "source": [
    "if sunny:\n",
    "        print(\"The sun is shining!\")\n",
    "else:\n",
    "    pass"
   ]
  },
  {
   "cell_type": "markdown",
   "id": "experienced-intervention",
   "metadata": {
    "ExecuteTime": {
     "end_time": "2021-12-11T10:39:32.315877Z",
     "start_time": "2021-12-11T10:39:32.309377Z"
    }
   },
   "source": [
    "Теоретически вы можете использовать иное число пробелов: 2, 8 и т.д. Главное, чтобы оно совпадало по всему коду —  иначе интерпретатор будет ругаться. Но 4  —  «золотой стандарт» сообщества: быстро ставить, привычно читать.\n",
    "\n"
   ]
  },
  {
   "cell_type": "markdown",
   "id": "welcome-means",
   "metadata": {},
   "source": [
    "В чужом коде вам может встретиться другой вид отступа — табуляция. Его PEP 8 категорически не рекомендует, но с одной оговоркой. Если вы дорабатываете готовый проект, где отступы сделаны табуляцией, придерживайтесь принятого до вас стандарта. Если в коде разнобой, замените всё на пробелы.\n",
    "\n"
   ]
  },
  {
   "cell_type": "markdown",
   "id": "surface-former",
   "metadata": {},
   "source": [
    "Интересный факт: исследование 2017 года на Stack Overflow показало, что программисты, которые делают отступы пробелами, зарабатывают почти на 9% больше, чем любители Tab'а.\n"
   ]
  },
  {
   "cell_type": "markdown",
   "id": "angry-vinyl",
   "metadata": {},
   "source": [
    "Когда пробелы в Python не ставят\n",
    "Сразу после открывающей скобки и перед закрывающей: ( x )  —  так не надо.\n",
    "\n",
    "Перед скобками при вызове аргумента. Неправильно: arg (1). Правильно: arg(1).\n",
    "\n",
    "Перед скобками индекса и среза: dict['step'] = map[i].\n",
    "\n",
    "Между именем параметра/аргумента, знаком «=» и значением: min(a=10, b=input)."
   ]
  },
  {
   "cell_type": "markdown",
   "id": "finnish-salon",
   "metadata": {},
   "source": [
    "И, пожалуйста, не выравнивайте код лишними пробелами. По сторонам от «=» ставьте не больше одного пробела. Не пытайтесь  с помощью отступов придать блоку вид таблицы или оглавления. Это замедляет чтение и понимание написанного.\n",
    "\n"
   ]
  },
  {
   "cell_type": "markdown",
   "id": "green-environment",
   "metadata": {},
   "source": [
    "Лучше ставьте по одному пробелу по сторонам от знаков арифметических действий:"
   ]
  },
  {
   "cell_type": "code",
   "execution_count": 2,
   "id": "spare-minority",
   "metadata": {
    "ExecuteTime": {
     "end_time": "2021-12-11T10:03:38.398094Z",
     "start_time": "2021-12-11T10:03:34.866110Z"
    }
   },
   "outputs": [
    {
     "ename": "NameError",
     "evalue": "name 'y' is not defined",
     "output_type": "error",
     "traceback": [
      "\u001b[0;31m---------------------------------------------------------------------------\u001b[0m",
      "\u001b[0;31mNameError\u001b[0m                                 Traceback (most recent call last)",
      "\u001b[0;32m<ipython-input-2-fc1eedbefbc7>\u001b[0m in \u001b[0;36m<module>\u001b[0;34m\u001b[0m\n\u001b[0;32m----> 1\u001b[0;31m \u001b[0mx\u001b[0m \u001b[0;34m=\u001b[0m \u001b[0;34m(\u001b[0m\u001b[0my\u001b[0m \u001b[0;34m+\u001b[0m \u001b[0;36m1\u001b[0m\u001b[0;34m)\u001b[0m \u001b[0;34m*\u001b[0m \u001b[0;34m(\u001b[0m\u001b[0my\u001b[0m \u001b[0;34m-\u001b[0m \u001b[0ma\u001b[0m\u001b[0;34m)\u001b[0m\u001b[0;34m\u001b[0m\u001b[0;34m\u001b[0m\u001b[0m\n\u001b[0m",
      "\u001b[0;31mNameError\u001b[0m: name 'y' is not defined"
     ]
    }
   ],
   "source": [
    "x = (y + 1) * (y - a)"
   ]
  },
  {
   "cell_type": "markdown",
   "id": "lonely-vintage",
   "metadata": {},
   "source": [
    "Не рекомендуется записывать несколько команд в одну строку через точку с запятой. Вместо \"act1(); act2(); act3()\"  —  пишите:"
   ]
  },
  {
   "cell_type": "code",
   "execution_count": null,
   "id": "fatal-lexington",
   "metadata": {},
   "outputs": [],
   "source": [
    "act1()\n",
    "act2()\n",
    "act3()"
   ]
  },
  {
   "cell_type": "markdown",
   "id": "quantitative-timer",
   "metadata": {},
   "source": [
    "В комментариях не забывайте ставить пробел после знака «#».\n",
    "\n"
   ]
  },
  {
   "cell_type": "markdown",
   "id": "intelligent-gates",
   "metadata": {},
   "source": [
    "## PEP 8 и имена объектов в Python\n"
   ]
  },
  {
   "cell_type": "markdown",
   "id": "continuing-incentive",
   "metadata": {},
   "source": [
    "Если хотите назвать переменную одним символом, избегайте строчной латинской l («эль»), заглавной I («ай») и заглавной O — в некоторых шрифтах они неотличимы от цифр 1 и 0 соответственно. С заглавной L таких проблем нет.\n",
    "\n"
   ]
  },
  {
   "cell_type": "markdown",
   "id": "narrative-confusion",
   "metadata": {},
   "source": [
    "Объекты разного типа должны отличаться и по формату записи имён. Так читатель быстрее понимает, что перед ним. Называйте:\n",
    "\n"
   ]
  },
  {
   "cell_type": "markdown",
   "id": "cloudy-clone",
   "metadata": {},
   "source": [
    "Классы и исключения — LikeThis\n",
    "\n",
    "Константы  —  LIKE_THIS\n",
    "\n",
    "Переменные и аргументы — like_this\n",
    "\n",
    "Функции и методы —  тоже  like_this, но допускается и likeThis, если вы дописываете старый или чужой код, где уже задан такой формат."
   ]
  },
  {
   "cell_type": "markdown",
   "id": "binding-torture",
   "metadata": {
    "ExecuteTime": {
     "end_time": "2021-12-11T10:41:04.499245Z",
     "start_time": "2021-12-11T10:41:04.494918Z"
    }
   },
   "source": [
    "Если имя аргумента вашей функции совпадает с зарезервированным в Python словом, не искажайте написание, но ставьте подчёркивание в конце. Вот так: \"input_\".\n",
    "\n"
   ]
  },
  {
   "cell_type": "markdown",
   "id": "empirical-infrastructure",
   "metadata": {},
   "source": [
    "Проверка истинности без знаков равенства\n"
   ]
  },
  {
   "cell_type": "markdown",
   "id": "educated-thermal",
   "metadata": {},
   "source": [
    "Не используйте два знака равенства (==) для проверки булевых значений. Вместо этого используйте if или if not с именем объекта (например, переменной):\n",
    "\n"
   ]
  },
  {
   "cell_type": "code",
   "execution_count": null,
   "id": "later-palestinian",
   "metadata": {},
   "outputs": [],
   "source": [
    " if  i_have_apples:\n",
    "# делаем то\n",
    " if not  key_obtained:\n",
    "# делаем это"
   ]
  },
  {
   "cell_type": "markdown",
   "id": "governing-history",
   "metadata": {},
   "source": [
    "Если нужно сравнить что-то со значением \"None\", вместо операторов сравнения используйте is/is not.\n",
    "\n"
   ]
  },
  {
   "cell_type": "markdown",
   "id": "cloudy-switzerland",
   "metadata": {},
   "source": [
    "Помните, что пустые списки, кортежи и последовательности по умолчанию хранят значение false.\n",
    "\n"
   ]
  },
  {
   "cell_type": "markdown",
   "id": "suburban-newspaper",
   "metadata": {},
   "source": [
    "## Другое важное о Python в PEP 8\n"
   ]
  },
  {
   "cell_type": "markdown",
   "id": "coordinate-poster",
   "metadata": {},
   "source": [
    "В руководстве по стилю есть рекомендованный порядок импорта модулей: сначала грузите модули стандартной библиотеки, затем  —  из сторонних библиотек, в конце — ваши собственные модули.\n",
    "\n"
   ]
  },
  {
   "cell_type": "markdown",
   "id": "deadly-worker",
   "metadata": {},
   "source": [
    "При обработке исключений используйте синтаксис привязки имён, равно совместимый с Python 2 и 3:\n",
    "\n",
    "sdsdssdsd"
   ]
  },
  {
   "cell_type": "code",
   "execution_count": null,
   "id": "secure-holocaust",
   "metadata": {},
   "outputs": [],
   "source": [
    "try:\n",
    "    something()\n",
    "except Exception as exc:\n",
    "    raise AnotherDamnError(str(exc))sdsd"
   ]
  },
  {
   "cell_type": "markdown",
   "id": "prescription-sleeping",
   "metadata": {},
   "source": [
    "Старайтесь минимизировать количество кода в конструкциях  try… except. Это поможет избежать трудных в обнаружении ошибок.\n",
    "\n"
   ]
  },
  {
   "cell_type": "markdown",
   "id": "alternative-illustration",
   "metadata": {},
   "source": [
    "По возможности выбирайте синтаксис, который работает для всех реализаций Python: CPython, Jython, PyPy и других.\n",
    "\n"
   ]
  },
  {
   "cell_type": "markdown",
   "id": "proud-boulder",
   "metadata": {},
   "source": [
    "### Автоматическая PEP проверка Python-кода\n"
   ]
  },
  {
   "cell_type": "markdown",
   "id": "formal-wisdom",
   "metadata": {},
   "source": [
    "Пока вы создаете маленькие проекты, вычитывать код на ошибки и нарушения стиля не проблема. В работе над большими проектами  выручат скрипты автоматической проверки кода. PyCharm проверяет написанное «на лету». А если нужно поработать без IDE? На GitHub есть целый раздел Python Code Quality Authority, где хранятся утилиты для повышения качества кода, в том числе для проверки стиля на соответствие PEP 8: flake8, pycodestyle, pep8-naming. Когда будет нужно, вы сможете интегрировать Flake8 в свою среду разработки.\n",
    "\n"
   ]
  },
  {
   "cell_type": "markdown",
   "id": "quiet-packaging",
   "metadata": {},
   "source": [
    "## Осознанная необходимость\n"
   ]
  },
  {
   "cell_type": "markdown",
   "id": "indian-bedroom",
   "metadata": {},
   "source": [
    "Помните, что знать PEP 8 вы обязаны, а следовать ему — не всегда. Отступы придётся соблюдать, иначе интерпретатор откажется выполнять ваш код. Но в самом руководстве указаны случаи, когда разработчик по своему усмотрению может и должен нарушать рекомендации.\n",
    "\n",
    "Если конкретный код при подгонке под стиль становится  уродливым, «такой хоккей нам не нужен». Например, если разбивка на строки по 72 символа усложняет чтение, PEP 8 предлагает удлинить строку до 80 или даже 100 символов — в зависимости от того, что удобно вам и вашей команде разработки. Чёткие ограничения действуют только для публичных проектов-библиотек."
   ]
  },
  {
   "cell_type": "markdown",
   "id": "governing-championship",
   "metadata": {},
   "source": [
    "https://pythonworld.ru/osnovy/pep-8-rukovodstvo-po-napisaniyu-koda-na-python.html"
   ]
  },
  {
   "cell_type": "code",
   "execution_count": null,
   "id": "paperback-billy",
   "metadata": {},
   "outputs": [],
   "source": []
  },
  {
   "cell_type": "markdown",
   "id": "signed-desperate",
   "metadata": {},
   "source": [
    "https://medium.com/@bigdataschool/5-%D0%BB%D1%83%D1%87%D1%88%D0%B8%D1%85-%D1%80%D0%B0%D1%81%D1%88%D0%B8%D1%80%D0%B5%D0%BD%D0%B8%D0%B9-jupyter-notebook-6908d67fd572"
   ]
  },
  {
   "cell_type": "code",
   "execution_count": null,
   "id": "embedded-description",
   "metadata": {},
   "outputs": [],
   "source": []
  },
  {
   "cell_type": "code",
   "execution_count": null,
   "id": "individual-camel",
   "metadata": {},
   "outputs": [],
   "source": []
  },
  {
   "cell_type": "code",
   "execution_count": null,
   "id": "divided-symphony",
   "metadata": {},
   "outputs": [],
   "source": []
  },
  {
   "cell_type": "code",
   "execution_count": null,
   "id": "together-stevens",
   "metadata": {},
   "outputs": [],
   "source": []
  },
  {
   "cell_type": "code",
   "execution_count": null,
   "id": "intensive-consumption",
   "metadata": {},
   "outputs": [],
   "source": []
  }
 ],
 "metadata": {
  "kernelspec": {
   "display_name": "Python 3",
   "language": "python",
   "name": "python3"
  },
  "language_info": {
   "codemirror_mode": {
    "name": "ipython",
    "version": 3
   },
   "file_extension": ".py",
   "mimetype": "text/x-python",
   "name": "python",
   "nbconvert_exporter": "python",
   "pygments_lexer": "ipython3",
   "version": "3.8.10"
  },
  "toc": {
   "base_numbering": 1,
   "nav_menu": {
    "height": "220px",
    "width": "437px"
   },
   "number_sections": true,
   "sideBar": true,
   "skip_h1_title": false,
   "title_cell": "Table of Contents",
   "title_sidebar": "Contents",
   "toc_cell": false,
   "toc_position": {
    "height": "547.688px",
    "left": "31.6667px",
    "top": "110.458px",
    "width": "439px"
   },
   "toc_section_display": true,
   "toc_window_display": true
  },
  "varInspector": {
   "cols": {
    "lenName": 16,
    "lenType": 16,
    "lenVar": 40
   },
   "kernels_config": {
    "python": {
     "delete_cmd_postfix": "",
     "delete_cmd_prefix": "del ",
     "library": "var_list.py",
     "varRefreshCmd": "print(var_dic_list())"
    },
    "r": {
     "delete_cmd_postfix": ") ",
     "delete_cmd_prefix": "rm(",
     "library": "var_list.r",
     "varRefreshCmd": "cat(var_dic_list()) "
    }
   },
   "position": {
    "height": "475.844px",
    "left": "638.667px",
    "right": "20px",
    "top": "115px",
    "width": "463px"
   },
   "types_to_exclude": [
    "module",
    "function",
    "builtin_function_or_method",
    "instance",
    "_Feature"
   ],
   "window_display": false
  }
 },
 "nbformat": 4,
 "nbformat_minor": 5
}
