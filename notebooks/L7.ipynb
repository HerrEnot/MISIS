{
 "cells": [
  {
   "cell_type": "markdown",
   "id": "baking-ranking",
   "metadata": {},
   "source": [
    "# Урок 6\n"
   ]
  },
  {
   "cell_type": "markdown",
   "id": "external-ladder",
   "metadata": {},
   "source": [
    "### 1 Обсужадем ДЗ\"3\"\n",
    "### 2 '__main__'\n",
    "### 3 Telegram\n"
   ]
  },
  {
   "cell_type": "code",
   "execution_count": null,
   "id": "needed-miracle",
   "metadata": {},
   "outputs": [],
   "source": []
  },
  {
   "cell_type": "markdown",
   "id": "literary-distribution",
   "metadata": {},
   "source": [
    "### 1 Обсужадем ДЗ\"3\""
   ]
  },
  {
   "cell_type": "markdown",
   "id": "positive-output",
   "metadata": {},
   "source": [
    "9 из 25...."
   ]
  },
  {
   "cell_type": "markdown",
   "id": "incorporated-labor",
   "metadata": {},
   "source": [
    "### 2 __main__"
   ]
  },
  {
   "cell_type": "code",
   "execution_count": null,
   "id": "recognized-farmer",
   "metadata": {},
   "outputs": [],
   "source": [
    "__main__"
   ]
  },
  {
   "cell_type": "code",
   "execution_count": null,
   "id": "lyric-parent",
   "metadata": {},
   "outputs": [],
   "source": [
    "В различных руководствах по Python часто используется функция main(). Но иногда это может быть и лишним.\n",
    "\n"
   ]
  },
  {
   "cell_type": "code",
   "execution_count": null,
   "id": "stainless-depth",
   "metadata": {},
   "outputs": [],
   "source": [
    "Лаконичность — важный элемент программирования. И вполне логично задавать вопрос о том, зачем разработчику добавлять лишние строки в программу. Функция main() требует дополнительных строк, но она служит определенной цели.\n",
    "\n"
   ]
  },
  {
   "cell_type": "code",
   "execution_count": null,
   "id": "reflected-wrist",
   "metadata": {},
   "outputs": [],
   "source": [
    "Main — это специальная функция, которая позволяет добавить больше логики в структуру программ. В Python можно вызвать функцию в нижней части программы, которая и будет запущена. Рассмотрим такой пример:\n",
    "\n"
   ]
  },
  {
   "cell_type": "code",
   "execution_count": null,
   "id": "closed-reward",
   "metadata": {},
   "outputs": [],
   "source": [
    "def cookies():\n",
    "\tprint(\"Печенье вкусное!\")\n",
    "\n",
    "print(\"Дайте печенье.\")\n",
    "cookies()"
   ]
  },
  {
   "cell_type": "code",
   "execution_count": null,
   "id": "tutorial-andrew",
   "metadata": {},
   "outputs": [],
   "source": [
    "Можно увидеть, что выражение «Дайте печенье.» выводится до «Печенье вкусное!», потому что метод cookies() не вызывается вплоть до последней строки, а именно в этой функции хранится предложение «Печенье вкусное!».\n",
    "\n",
    "Такой код работает, но его довольно сложно читать. В таких языках программирования, как C++ и Java весь основной код программы хранится внутри основной функции. Это хороший способ для распределения всего кода программы. Те, кто только знакомится с Python, но уже работал, например, с C++ будут благодарны за использование функции main()."
   ]
  },
  {
   "cell_type": "code",
   "execution_count": null,
   "id": "agricultural-slovenia",
   "metadata": {},
   "outputs": [],
   "source": [
    "Есть две части основной функции Python. Первая — сама функция main(). В ней хранится код основной программы. Вызовем функцию cookies() и выведем выражение «Дайте печенье.» из функции main():\n",
    "\n"
   ]
  },
  {
   "cell_type": "code",
   "execution_count": null,
   "id": "fatty-essay",
   "metadata": {},
   "outputs": [],
   "source": [
    "def cookies():\n",
    "\tprint(\"Печенье вкусное!\")\n",
    "\n",
    "def main():\n",
    "\tprint(\"Дайте печенье.\")\n",
    "\tcookies()"
   ]
  },
  {
   "cell_type": "code",
   "execution_count": null,
   "id": "ceramic-chest",
   "metadata": {},
   "outputs": [],
   "source": [
    "Теперь вызовем функцию в конце программы:\n",
    "\n"
   ]
  },
  {
   "cell_type": "code",
   "execution_count": null,
   "id": "acknowledged-thriller",
   "metadata": {},
   "outputs": [],
   "source": [
    "main()\n"
   ]
  },
  {
   "cell_type": "code",
   "execution_count": null,
   "id": "coordinate-prefix",
   "metadata": {},
   "outputs": [],
   "source": [
    "Результат не поменялся. Но теперь сам код читать легче. Пусть в нем и больше строк (и одна дополнительная строка), вполне очевидно, что именно происходит:\n",
    "\n"
   ]
  },
  {
   "cell_type": "code",
   "execution_count": null,
   "id": "neural-newark",
   "metadata": {},
   "outputs": [],
   "source": [
    "Cookies() — функция, которая выводит «Печенье вкусное!».\n",
    "Когда программа запускается, определяются две функции: cookies() и main().\n",
    "Затем функция main() вызывается.\n",
    "«Дайте печенье.» выводится в консоли.\n",
    "Затем вызывается функция cookies(), которая выводит в консоль «Печенье вкусное!».\n",
    "Код не только чище, но и логичнее. Если вы пришли из другого языка, например, Java, но знаете, насколько это удобно."
   ]
  },
  {
   "cell_type": "markdown",
   "id": "uniform-northwest",
   "metadata": {},
   "source": [
    "## Значение __name__\n"
   ]
  },
  {
   "cell_type": "markdown",
   "id": "elect-tyler",
   "metadata": {},
   "source": [
    "Прежде чем переходить к инструкциям __name__ и __main__, которые часто используются вместе, нужно обсудить __name__. __name__ хранит название программы.\n",
    "\n",
    "Если запустить файл прямо, то значением __name__ будет __main__. Предположим, что файл называется print_name.py:"
   ]
  },
  {
   "cell_type": "code",
   "execution_count": null,
   "id": "czech-allen",
   "metadata": {},
   "outputs": [],
   "source": [
    "print(__name__)\n"
   ]
  },
  {
   "cell_type": "code",
   "execution_count": null,
   "id": "superb-anchor",
   "metadata": {},
   "outputs": [],
   "source": [
    "Этот код можно запустить следующим образом:\n",
    "\n"
   ]
  },
  {
   "cell_type": "code",
   "execution_count": null,
   "id": "contemporary-spyware",
   "metadata": {},
   "outputs": [],
   "source": [
    "python print_name.py\n"
   ]
  },
  {
   "cell_type": "code",
   "execution_count": null,
   "id": "otherwise-counter",
   "metadata": {},
   "outputs": [],
   "source": [
    "Он вернет __main__.\n",
    "\n"
   ]
  },
  {
   "cell_type": "code",
   "execution_count": null,
   "id": "transsexual-worcester",
   "metadata": {},
   "outputs": [],
   "source": [
    "Предположим, что этот код был импортирован в качестве модуля в файл main.py:\n",
    "\n"
   ]
  },
  {
   "cell_type": "code",
   "execution_count": null,
   "id": "dress-stewart",
   "metadata": {},
   "outputs": [],
   "source": [
    "import print_name"
   ]
  },
  {
   "cell_type": "code",
   "execution_count": null,
   "id": "driven-painting",
   "metadata": {},
   "outputs": [],
   "source": [
    "Запустим его:"
   ]
  },
  {
   "cell_type": "code",
   "execution_count": null,
   "id": "located-location",
   "metadata": {},
   "outputs": [],
   "source": [
    "python main.py"
   ]
  },
  {
   "cell_type": "code",
   "execution_count": null,
   "id": "statutory-speaking",
   "metadata": {},
   "outputs": [],
   "source": [
    "Код вернет:\n",
    "\n"
   ]
  },
  {
   "cell_type": "code",
   "execution_count": null,
   "id": "experienced-karaoke",
   "metadata": {},
   "outputs": [],
   "source": [
    "print_name\n"
   ]
  },
  {
   "cell_type": "code",
   "execution_count": null,
   "id": "proprietary-stone",
   "metadata": {},
   "outputs": [],
   "source": [
    "Код внутри print_name.py исполняется потому что он был импортирован в качестве модуля в основной программе. Файл print_name выводит __name__ в консоль. Поскольку print_name был импортирован в качестве модуля, то и значением __name__ является print_name."
   ]
  },
  {
   "cell_type": "code",
   "execution_count": null,
   "id": "sized-dryer",
   "metadata": {},
   "outputs": [],
   "source": [
    "if __name__ == __main__ в Python\n"
   ]
  },
  {
   "cell_type": "code",
   "execution_count": null,
   "id": "arranged-stamp",
   "metadata": {},
   "outputs": [],
   "source": [
    "Вы наверняка встречали следующую конструкцию в программах на Python в функции main:\n",
    "\n"
   ]
  },
  {
   "cell_type": "code",
   "execution_count": null,
   "id": "raising-verse",
   "metadata": {},
   "outputs": [],
   "source": [
    "Что она значит? В Python любая переменная, начинающаяся с двух символов нижнего подчеркивания (__), является специальной. Это зарезервированные значения, которые выполняют определенную роль в программе."
   ]
  },
  {
   "cell_type": "code",
   "execution_count": null,
   "id": "living-monday",
   "metadata": {},
   "outputs": [],
   "source": [
    "__main__ указывает на область видимости, где будет выполняться код. Если запустить Python-файл прямо, то значением __name__ будет __main__. Если же его запустить в качестве модуля, то значением будет уже не __main__, а название модуля."
   ]
  },
  {
   "cell_type": "code",
   "execution_count": null,
   "id": "centered-moses",
   "metadata": {},
   "outputs": [],
   "source": [
    "Это значит, что строка выше вернет True только в том случае, если программа будет запущена прямо.\n",
    "\n"
   ]
  },
  {
   "cell_type": "code",
   "execution_count": null,
   "id": "superb-still",
   "metadata": {},
   "outputs": [],
   "source": [
    "Если же ссылаться на файл как на модуль, то содержимое конструкции if не будет выполнено. Рассмотрим на примере."
   ]
  },
  {
   "cell_type": "code",
   "execution_count": null,
   "id": "handled-marble",
   "metadata": {},
   "outputs": [],
   "source": [
    "Создадим новый скрипт на Python под названием username.py. В коде будем просить пользователя ввести его имя и проверять, не является ли его длина больше 5. Если символов не больше 5, то попросим ввести имя снова.\n",
    "\n",
    "Начнем с определения глобальной переменной для хранения имени пользователя:"
   ]
  },
  {
   "cell_type": "code",
   "execution_count": null,
   "id": "grave-candle",
   "metadata": {},
   "outputs": [],
   "source": [
    "username = \"\"\n"
   ]
  },
  {
   "cell_type": "code",
   "execution_count": null,
   "id": "fewer-upset",
   "metadata": {},
   "outputs": [],
   "source": [
    "После этого определим две функции. Первая будет просить пользователя ввести имя пользователя и проверять, не больше ли 5 символов в нем. Вторая будет выводить значение в оболочке Python:\n",
    "\n"
   ]
  },
  {
   "cell_type": "code",
   "execution_count": null,
   "id": "mobile-integer",
   "metadata": {},
   "outputs": [],
   "source": [
    "def choose_username():\n",
    "\tglobal username\n",
    "\tusername = input(\"Введите логин: \")\n",
    "\tif len(username) > 5:\n",
    "\t\tprint(\"Ваш логин сохранен.\")\n",
    "\telse:\n",
    "\t\tprint(\"Пожалуйста, выберите имя пользователя длиной более пяти символов.\")\n",
    "\t\tchoose_username()\n",
    "\n",
    "def print_username():\n",
    "\tprint(username)"
   ]
  },
  {
   "cell_type": "code",
   "execution_count": null,
   "id": "compound-procedure",
   "metadata": {},
   "outputs": [],
   "source": [
    "Отступление 1"
   ]
  },
  {
   "cell_type": "code",
   "execution_count": null,
   "id": "still-roberts",
   "metadata": {},
   "outputs": [],
   "source": [
    "Переменная, доступ к которой можно получить из любого места в коде, называется глобальной. Ее можно определить вне блока. Другими словами, глобальная переменная, объявленная вне функции, будет доступна внутри нее.\n",
    "\n"
   ]
  },
  {
   "cell_type": "code",
   "execution_count": null,
   "id": "virtual-diana",
   "metadata": {},
   "outputs": [],
   "source": [
    "С другой стороны, переменная, объявленная внутри определенного блока кода, будет видна только внутри этого же блока — она называется локальной.\n",
    "\n"
   ]
  },
  {
   "cell_type": "code",
   "execution_count": null,
   "id": "skilled-occurrence",
   "metadata": {},
   "outputs": [],
   "source": [
    "Пример локальных и глобальных переменных\n"
   ]
  },
  {
   "cell_type": "code",
   "execution_count": null,
   "id": "magnetic-cartoon",
   "metadata": {},
   "outputs": [],
   "source": [
    "def sum():  \n",
    "    a = 10   # локальные переменные \n",
    "    b = 20  \n",
    "    c = a + b  \n",
    "    print(\"Сумма:\", c)  \n",
    "  \n",
    "sum() "
   ]
  },
  {
   "cell_type": "code",
   "execution_count": null,
   "id": "underlying-waters",
   "metadata": {},
   "outputs": [],
   "source": [
    "Переменная объявлена внутри функции и может использоваться только в ней. Получить доступ к этой локальной функции в других нельзя.\n",
    "\n"
   ]
  },
  {
   "cell_type": "code",
   "execution_count": null,
   "id": "progressive-filter",
   "metadata": {},
   "outputs": [],
   "source": [
    "Для решения этой проблемы используются глобальные переменные.\n",
    "\n",
    "Теперь взгляните на этот пример с глобальными переменными:"
   ]
  },
  {
   "cell_type": "code",
   "execution_count": null,
   "id": "chinese-frederick",
   "metadata": {},
   "outputs": [],
   "source": [
    "a = 20  # определены вне функции\n",
    "b = 10  \n",
    "\n",
    "\n",
    "def sum():  \n",
    "    c = a + b  # Использование глобальных переменных  \n",
    "    print(\"Сумма:\", c)  \n",
    "\n",
    "  \n",
    "def sub():  \n",
    "    d = a - b  # Использование глобальных переменных \n",
    "    print(\"Разница:\", d)  \n",
    "  \n",
    "  \n",
    "sum()\n",
    "sub()"
   ]
  },
  {
   "cell_type": "code",
   "execution_count": null,
   "id": "soviet-fitting",
   "metadata": {},
   "outputs": [],
   "source": [
    "В этом коде были объявлены две глобальные переменные: a и b. Они используются внутри функций sum() и sub(). Обе возвращают результат при вызове.\n",
    "\n"
   ]
  },
  {
   "cell_type": "code",
   "execution_count": null,
   "id": "equivalent-muscle",
   "metadata": {},
   "outputs": [],
   "source": [
    "Если определить локальную переменную с тем же именем, то приоритет будет у нее. Посмотрите, как в функции msg это реализовано.\n",
    "\n"
   ]
  },
  {
   "cell_type": "code",
   "execution_count": 14,
   "id": "spoken-printer",
   "metadata": {},
   "outputs": [
    {
     "name": "stdout",
     "output_type": "stream",
     "text": [
      "ывыв!\n",
      "ывыв!\n"
     ]
    }
   ],
   "source": [
    "# m = \"ывыв!\"  # глобальная переменная\n",
    "\n",
    "def msg():  \n",
    "    m = \"Привет, как дела?\"  \n",
    "    print(m)  \n",
    "  \n",
    "msg()  \n",
    "m = \"Отлично!\"  # глобальная переменная\n",
    "print(m) "
   ]
  },
  {
   "cell_type": "code",
   "execution_count": null,
   "id": "casual-baptist",
   "metadata": {},
   "outputs": [],
   "source": [
    "Здесь была объявлена локальная переменная с таким же именем, как и у глобальной. Сперва выводится значение локальной, а после этого — глобальной.\n",
    "\n"
   ]
  },
  {
   "cell_type": "code",
   "execution_count": null,
   "id": "unique-december",
   "metadata": {},
   "outputs": [],
   "source": [
    "Ключевое слово global\n"
   ]
  },
  {
   "cell_type": "code",
   "execution_count": null,
   "id": "reflected-houston",
   "metadata": {},
   "outputs": [],
   "source": [
    "Python предлагает ключевое слово global, которое используется для изменения значения глобальной переменной в функции. Оно нужно для изменения значения. Вот некоторые правила по работе с глобальными переменными.\n",
    "\n"
   ]
  },
  {
   "cell_type": "markdown",
   "id": "loose-drove",
   "metadata": {},
   "source": [
    "#### Правила использования global\n",
    "    Если значение определено на выходе функции, то оно автоматически станет глобальной переменной.\n",
    "    Ключевое слово global используется для объявления глобальной переменной внутри функции.\n",
    "    Нет необходимости использовать global для объявления глобальной переменной вне функции.\n",
    "    Переменные, на которые есть ссылка внутри функции, неявно являются глобальными."
   ]
  },
  {
   "cell_type": "code",
   "execution_count": null,
   "id": "random-network",
   "metadata": {},
   "outputs": [],
   "source": [
    "Пример без использования глобального ключевого слова.\n",
    "\n"
   ]
  },
  {
   "cell_type": "code",
   "execution_count": 42,
   "id": "british-instrumentation",
   "metadata": {},
   "outputs": [
    {
     "ename": "UnboundLocalError",
     "evalue": "local variable 'c' referenced before assignment",
     "output_type": "error",
     "traceback": [
      "\u001b[0;31m---------------------------------------------------------------------------\u001b[0m",
      "\u001b[0;31mUnboundLocalError\u001b[0m                         Traceback (most recent call last)",
      "\u001b[0;32m<ipython-input-42-29598bbc3af3>\u001b[0m in \u001b[0;36m<module>\u001b[0;34m\u001b[0m\n\u001b[1;32m      3\u001b[0m     \u001b[0mprint\u001b[0m\u001b[0;34m(\u001b[0m\u001b[0mc\u001b[0m\u001b[0;34m)\u001b[0m\u001b[0;34m\u001b[0m\u001b[0;34m\u001b[0m\u001b[0m\n\u001b[1;32m      4\u001b[0m \u001b[0;34m\u001b[0m\u001b[0m\n\u001b[0;32m----> 5\u001b[0;31m \u001b[0mmul\u001b[0m\u001b[0;34m(\u001b[0m\u001b[0;34m)\u001b[0m\u001b[0;34m\u001b[0m\u001b[0;34m\u001b[0m\u001b[0m\n\u001b[0m",
      "\u001b[0;32m<ipython-input-42-29598bbc3af3>\u001b[0m in \u001b[0;36mmul\u001b[0;34m()\u001b[0m\n\u001b[1;32m      1\u001b[0m \u001b[0;32mdef\u001b[0m \u001b[0mmul\u001b[0m\u001b[0;34m(\u001b[0m\u001b[0;34m)\u001b[0m\u001b[0;34m:\u001b[0m\u001b[0;34m\u001b[0m\u001b[0;34m\u001b[0m\u001b[0m\n\u001b[0;32m----> 2\u001b[0;31m     \u001b[0mc\u001b[0m \u001b[0;34m=\u001b[0m \u001b[0mc\u001b[0m \u001b[0;34m*\u001b[0m \u001b[0;36m10\u001b[0m\u001b[0;34m\u001b[0m\u001b[0;34m\u001b[0m\u001b[0m\n\u001b[0m\u001b[1;32m      3\u001b[0m     \u001b[0mprint\u001b[0m\u001b[0;34m(\u001b[0m\u001b[0mc\u001b[0m\u001b[0;34m)\u001b[0m\u001b[0;34m\u001b[0m\u001b[0;34m\u001b[0m\u001b[0m\n\u001b[1;32m      4\u001b[0m \u001b[0;34m\u001b[0m\u001b[0m\n\u001b[1;32m      5\u001b[0m \u001b[0mmul\u001b[0m\u001b[0;34m(\u001b[0m\u001b[0;34m)\u001b[0m\u001b[0;34m\u001b[0m\u001b[0;34m\u001b[0m\u001b[0m\n",
      "\u001b[0;31mUnboundLocalError\u001b[0m: local variable 'c' referenced before assignment"
     ]
    }
   ],
   "source": [
    "\n",
    "\n",
    "def mul():\n",
    "    c = c * 10 \n",
    "    print(c) \n",
    "\n",
    "mul() "
   ]
  },
  {
   "cell_type": "code",
   "execution_count": null,
   "id": "norman-polls",
   "metadata": {},
   "outputs": [],
   "source": [
    "Этот код вернул ошибку, потому что была предпринята попытка присвоить значение глобальной переменной. Изменять значение можно только с помощью ключевого слова global.\n",
    "\n"
   ]
  },
  {
   "cell_type": "code",
   "execution_count": 43,
   "id": "criminal-integer",
   "metadata": {},
   "outputs": [
    {
     "name": "stdout",
     "output_type": "stream",
     "text": [
      "Значение в функции: 100\n",
      "Значение вне функции: 100\n"
     ]
    }
   ],
   "source": [
    "c = 10  \n",
    "\n",
    "\n",
    "def mul():\n",
    "    global c\n",
    "    c = c * 10 \n",
    "    print(\"Значение в функции:\", c)  \n",
    "\n",
    "mul()  \n",
    "print(\"Значение вне функции:\", c)  "
   ]
  },
  {
   "cell_type": "code",
   "execution_count": null,
   "id": "guided-incident",
   "metadata": {},
   "outputs": [],
   "source": [
    "Здесь переменная c была объявлена в функции mul() с помощью ключевого слова global. Ее значение умножается на 10 и становится равным 100. В процессе работы программы можно увидеть, что изменение значения внутри функции отражается на глобальном значении переменной.\n",
    "\n"
   ]
  },
  {
   "cell_type": "code",
   "execution_count": null,
   "id": "complex-foster",
   "metadata": {},
   "outputs": [],
   "source": [
    "1. Создаем файл name.py для хранения глобальных переменных:\n",
    "\n"
   ]
  },
  {
   "cell_type": "code",
   "execution_count": null,
   "id": "closing-manhattan",
   "metadata": {},
   "outputs": [],
   "source": [
    "a = 10 \n",
    "b = 20 \n",
    "msg = \"Hello World\""
   ]
  },
  {
   "cell_type": "code",
   "execution_count": null,
   "id": "northern-federation",
   "metadata": {},
   "outputs": [],
   "source": [
    "2. Создаем файл change.py для изменения переменных:"
   ]
  },
  {
   "cell_type": "code",
   "execution_count": null,
   "id": "handmade-blanket",
   "metadata": {},
   "outputs": [],
   "source": [
    "import name\n",
    "\n",
    "name.a = 15  \n",
    "name.b = 25\n",
    "name.msg = \"Dood bye\"  "
   ]
  },
  {
   "cell_type": "code",
   "execution_count": null,
   "id": "circular-testing",
   "metadata": {},
   "outputs": [],
   "source": [
    "Меняем значения a, b и msg. Эти переменные были объявлены внутри name, и для их изменения модуль нужно было импортировать.\n",
    "\n"
   ]
  },
  {
   "cell_type": "code",
   "execution_count": null,
   "id": "corrected-heavy",
   "metadata": {},
   "outputs": [],
   "source": [
    "3. В третий файл выводим значения измененных глобальных переменных.\n",
    "\n"
   ]
  },
  {
   "cell_type": "code",
   "execution_count": null,
   "id": "public-throat",
   "metadata": {},
   "outputs": [],
   "source": [
    "import name\n",
    "import change\n",
    "\n",
    "print(name.a) \n",
    "print(name.b)\n",
    "print(name.msg)"
   ]
  },
  {
   "cell_type": "code",
   "execution_count": null,
   "id": "ordinary-vacation",
   "metadata": {},
   "outputs": [],
   "source": [
    "15\n",
    "25\n",
    "Dood bye"
   ]
  },
  {
   "cell_type": "code",
   "execution_count": null,
   "id": "taken-faculty",
   "metadata": {},
   "outputs": [],
   "source": [
    "Global во вложенных функциях\n"
   ]
  },
  {
   "cell_type": "code",
   "execution_count": 44,
   "id": "smoking-tokyo",
   "metadata": {},
   "outputs": [
    {
     "name": "stdout",
     "output_type": "stream",
     "text": [
      "Перед изменением: 15\n",
      "Внесение изменений\n",
      "После изменения: 15\n",
      "Значение a: 20\n"
     ]
    }
   ],
   "source": [
    "def add():\n",
    "    a = 15\n",
    "  \n",
    "    def modify():\n",
    "        global a\n",
    "        a = 20\n",
    "\n",
    "    print(\"Перед изменением:\", a)\n",
    "    print(\"Внесение изменений\")\n",
    "    modify()\n",
    "    print(\"После изменения:\", a)\n",
    "\n",
    "\n",
    "add()\n",
    "print(\"Значение a:\", a)  "
   ]
  },
  {
   "cell_type": "code",
   "execution_count": null,
   "id": "different-destruction",
   "metadata": {},
   "outputs": [],
   "source": [
    "В этом коде значение внутри add() принимает значение локальной переменной x = 15. В modify() оно переназначается и принимает значение 20 благодаря global. Это и отображается в переменной функции add().\n",
    "\n"
   ]
  },
  {
   "cell_type": "code",
   "execution_count": null,
   "id": "instructional-synthetic",
   "metadata": {},
   "outputs": [],
   "source": [
    "https://younglinux.info/python/local-global"
   ]
  },
  {
   "cell_type": "code",
   "execution_count": null,
   "id": "physical-biodiversity",
   "metadata": {},
   "outputs": [],
   "source": []
  },
  {
   "cell_type": "code",
   "execution_count": 45,
   "id": "forty-assignment",
   "metadata": {},
   "outputs": [],
   "source": [
    "def choose_username():\n",
    "\tglobal username\n",
    "\tusername = input(\"Введите логин: \")\n",
    "\tif len(username) > 5:\n",
    "\t\tprint(\"Ваш логин сохранен.\")\n",
    "\telse:\n",
    "\t\tprint(\"Пожалуйста, выберите имя пользователя длиной более пяти символов.\")\n",
    "\t\tchoose_username()\n",
    "\n",
    "def print_username():\n",
    "\tprint(username)"
   ]
  },
  {
   "cell_type": "code",
   "execution_count": null,
   "id": "homeless-lover",
   "metadata": {},
   "outputs": [],
   "source": [
    "В этом примере использовалось ключевое слово global, чтобы содержимое, присвоенное в методе choose_username(), было доступно глобально. После определения функций нужно создать main, которая и будет их вызывать:\n",
    "\n"
   ]
  },
  {
   "cell_type": "code",
   "execution_count": 46,
   "id": "sharp-thursday",
   "metadata": {},
   "outputs": [],
   "source": [
    "def main():\n",
    "\tchoose_username()\n",
    "\tprint_username()"
   ]
  },
  {
   "cell_type": "code",
   "execution_count": null,
   "id": "incoming-concert",
   "metadata": {},
   "outputs": [],
   "source": [
    "После этого нужно добавить if __name__=\"__main__\" в инструкцию if. Это значит, что при запуске файла прямо, интерпретатор Python исполнит две функции. Если же запустить код в качестве модуля, то содержимое внутри main() исполнено не будет.\n",
    "\n"
   ]
  },
  {
   "cell_type": "code",
   "execution_count": null,
   "id": "liable-edmonton",
   "metadata": {},
   "outputs": [],
   "source": [
    "if __name__ == \"__main__\":\n",
    "\tmain()"
   ]
  },
  {
   "cell_type": "code",
   "execution_count": null,
   "id": "pointed-ceremony",
   "metadata": {},
   "outputs": [],
   "source": [
    "python username.py"
   ]
  },
  {
   "cell_type": "code",
   "execution_count": null,
   "id": "thick-melissa",
   "metadata": {},
   "outputs": [],
   "source": [
    "Введите логин: mylogin\n",
    "Ваш логин сохранен.\n",
    "mylogin"
   ]
  },
  {
   "cell_type": "code",
   "execution_count": null,
   "id": "physical-vintage",
   "metadata": {},
   "outputs": [],
   "source": [
    "Этот код запускает функцию choose_username(), а затем — print_username(). Если указать имя длиной меньше 4 символов, то ответ будет таким:\n",
    "\n"
   ]
  },
  {
   "cell_type": "code",
   "execution_count": null,
   "id": "floppy-lloyd",
   "metadata": {},
   "outputs": [],
   "source": [
    "Будет предложено ввести другое имя. Если импортировать этот код в качестве модуля, то функция main() не запустится."
   ]
  },
  {
   "cell_type": "code",
   "execution_count": null,
   "id": "positive-screw",
   "metadata": {},
   "outputs": [],
   "source": []
  },
  {
   "cell_type": "code",
   "execution_count": null,
   "id": "abroad-harvest",
   "metadata": {},
   "outputs": [],
   "source": []
  },
  {
   "cell_type": "code",
   "execution_count": null,
   "id": "russian-attempt",
   "metadata": {},
   "outputs": [],
   "source": [
    " __main__.py это лучший способ для взаимодействия с питоновскими модулями, состоящими из нескольких файлов."
   ]
  },
  {
   "cell_type": "code",
   "execution_count": null,
   "id": "nasty-employment",
   "metadata": {},
   "outputs": [],
   "source": [
    "Однажды вы напишете программу, которую захотите использовать и как импортируемый модуль, и как инструмент запускаемый из командной строки. мы уже в курсе, как обычно поступают в этом случае:"
   ]
  },
  {
   "cell_type": "code",
   "execution_count": null,
   "id": "dominican-focus",
   "metadata": {},
   "outputs": [],
   "source": [
    "if __name__ == '__main__':\n",
    "    main(sys.argv)"
   ]
  },
  {
   "cell_type": "code",
   "execution_count": null,
   "id": "common-competition",
   "metadata": {},
   "outputs": [],
   "source": [
    "Когда вы скармливаете скрипт интерпретатору, магическая глобальная переменная __name__ получает значение __main__. Таким образом мы узнаём, что это не импорт, а именно запуск. Например:\n",
    "\n"
   ]
  },
  {
   "cell_type": "code",
   "execution_count": null,
   "id": "appreciated-fleece",
   "metadata": {},
   "outputs": [],
   "source": [
    "python myapp.py\n"
   ]
  },
  {
   "cell_type": "code",
   "execution_count": null,
   "id": "spanish-assistant",
   "metadata": {},
   "outputs": [],
   "source": [
    "И это прекрасно работает для одиночного файла.\n",
    "\n"
   ]
  },
  {
   "cell_type": "code",
   "execution_count": null,
   "id": "favorite-haven",
   "metadata": {},
   "outputs": [],
   "source": [
    " но если мы  не захотим, чтобы всё наше приложение теснилось в единственном файле. Разбиение логики по разным файлам упрощает редактирование и поддержку. Например:"
   ]
  },
  {
   "cell_type": "code",
   "execution_count": null,
   "id": "annual-pulse",
   "metadata": {},
   "outputs": [],
   "source": [
    ".\n",
    "├── README.me\n",
    "├── requirements.txt\n",
    "├── setup.py\n",
    "└── src\n",
    "    ├── __init__.py\n",
    "    ├── client.py\n",
    "    ├── logic.py\n",
    "    ├── models.py\n",
    "    └── run.py"
   ]
  },
  {
   "cell_type": "code",
   "execution_count": null,
   "id": "mexican-laundry",
   "metadata": {},
   "outputs": [],
   "source": [
    "Но пользователю, который склонировал проект из репозитория будет непонятно — какой из этих файлов главный? Неужели run.py? А может client.py? Где же искать знакомую строку if __name__ == '__main__'? Вот здесь-то __main__.py и способен проявить себя."
   ]
  },
  {
   "cell_type": "code",
   "execution_count": null,
   "id": "friendly-morning",
   "metadata": {},
   "outputs": [],
   "source": [
    "Файл __main__.py вызывается при запуске проекта с флагом модуля — -m. И это весьма удобно, если код предназначен и для использования в качестве модуля, и для запуска из консоли. Думайте об этом файле, как о месте куда можно класть всё, что вы обычно кладёте внутрь if __name__ == '__main__'. Давайте изменим проект из примера выше соответственно:"
   ]
  },
  {
   "cell_type": "code",
   "execution_count": null,
   "id": "ultimate-smart",
   "metadata": {},
   "outputs": [],
   "source": [
    "__main__.py\n"
   ]
  },
  {
   "cell_type": "code",
   "execution_count": null,
   "id": "conceptual-worry",
   "metadata": {},
   "outputs": [],
   "source": [
    "И, вуаля! Теперь можно просто запускать проект как обычный модуль.\n",
    "\n"
   ]
  },
  {
   "cell_type": "code",
   "execution_count": null,
   "id": "antique-singing",
   "metadata": {},
   "outputs": [],
   "source": [
    "python -m myapp\n"
   ]
  },
  {
   "cell_type": "code",
   "execution_count": null,
   "id": "suffering-authentication",
   "metadata": {},
   "outputs": [],
   "source": [
    "__main__.py будет выполняться автоматически. Это идеальное место для размещения интерфейса командной строки и обработки входных аргументов!\n",
    "\n"
   ]
  },
  {
   "cell_type": "code",
   "execution_count": null,
   "id": "private-cuisine",
   "metadata": {},
   "outputs": [],
   "source": []
  },
  {
   "cell_type": "code",
   "execution_count": null,
   "id": "specialized-architect",
   "metadata": {},
   "outputs": [],
   "source": []
  },
  {
   "cell_type": "code",
   "execution_count": null,
   "id": "opened-injury",
   "metadata": {},
   "outputs": [],
   "source": [
    "В этом проекте три звена: наш компьютер с Python, сервер Телеграма и Телеграм-клиент.\n",
    "\n"
   ]
  },
  {
   "cell_type": "code",
   "execution_count": null,
   "id": "hazardous-mounting",
   "metadata": {},
   "outputs": [],
   "source": [
    "На компьютере работает интерпретатор Python, а внутри интерпретатора крутится наша программа на Python. Она отвечает за весь контент: в неё заложены все шаблоны текста, вся логика, всё поведение.\n",
    "\n"
   ]
  },
  {
   "cell_type": "code",
   "execution_count": null,
   "id": "unavailable-trainer",
   "metadata": {},
   "outputs": [],
   "source": [
    "Внутри программы на Python работает библиотека, которая отвечает за общение с сервером Телеграма. В библиотеку мы вшили секретный ключ, чтобы сервер Телеграма понимал, что наша программа связана с определённым ботом.\n",
    "\n"
   ]
  },
  {
   "cell_type": "code",
   "execution_count": null,
   "id": "provincial-table",
   "metadata": {},
   "outputs": [],
   "source": [
    "Когда клиент с Телеграмом запрашивает что то у бота , запрос приходит на сервер, а сервер отправляет его на наш компьютер. Запрос обрабатывается программой на Python, ответ идёт на сервер Телеграма, сервер отдаёт ответ клиенту. Изи:\n",
    "\n"
   ]
  },
  {
   "attachments": {
    "image.png": {
     "image/png": "[encoded data removed]"
    }
   },
   "cell_type": "markdown",
   "id": "olive-infrared",
   "metadata": {},
   "source": [
    "![image.png](attachment:image.png)"
   ]
  },
  {
   "cell_type": "code",
   "execution_count": null,
   "id": "psychological-dividend",
   "metadata": {},
   "outputs": [],
   "source": [
    "Обратите внимание, что работать наш бот будет только тогда, когда включён компьютер и на нём запущена программа на Python. Если компьютер выключится, пропадёт интернет или вы отключите интерпретатор, то бот работать перестанет: запросы будут приходить, но никто на них не ответит"
   ]
  },
  {
   "cell_type": "code",
   "execution_count": null,
   "id": "valuable-resistance",
   "metadata": {},
   "outputs": [],
   "source": []
  },
  {
   "cell_type": "markdown",
   "id": "frank-gentleman",
   "metadata": {},
   "source": [
    "#### Что будем делать\n"
   ]
  },
  {
   "cell_type": "markdown",
   "id": "pharmaceutical-assist",
   "metadata": {},
   "source": [
    "    1 Регистрируем бота в Телеграме.\n",
    "    2 Устанавливаем Python-библиотеку для работы с Телеграмом.\n",
    "    3 Добавляем библиотеку в программу  и учим программу реагировать на сообщения в чате.\n",
    "    4 Пишем там же код, который покажет кнопки\n",
    "    5 Делаем несколько мини-проектов"
   ]
  },
  {
   "cell_type": "markdown",
   "id": "chubby-testament",
   "metadata": {},
   "source": [
    "пункт 1 вы должны были сделать дома"
   ]
  },
  {
   "cell_type": "code",
   "execution_count": null,
   "id": "technological-communication",
   "metadata": {},
   "outputs": [],
   "source": [
    "Установка библиотеки"
   ]
  },
  {
   "cell_type": "code",
   "execution_count": null,
   "id": "alike-stationery",
   "metadata": {},
   "outputs": [],
   "source": [
    "Есть два основных способа работать с телеграмом в Python: через библиотеку telebot и с помощью Webhook. Мы будем использовать библиотеку — так проще и быстрее.\n",
    "\n"
   ]
  },
  {
   "cell_type": "code",
   "execution_count": null,
   "id": "integrated-berry",
   "metadata": {},
   "outputs": [],
   "source": [
    "Чтобы её установить, запускаем командную строку от имени администратора (если у вас Windows) и пишем команду pip install pytelegrambotapi\n",
    "\n"
   ]
  },
  {
   "cell_type": "code",
   "execution_count": null,
   "id": "smaller-module",
   "metadata": {},
   "outputs": [],
   "source": [
    "Чтобы программа на Python умела управлять Телеграм-ботами, нужно в самое начало кода добавить строки:\n",
    "\n"
   ]
  },
  {
   "cell_type": "code",
   "execution_count": null,
   "id": "occupied-manner",
   "metadata": {},
   "outputs": [],
   "source": [
    "import telebot;\n",
    "bot = telebot.TeleBot('токен');"
   ]
  },
  {
   "cell_type": "code",
   "execution_count": null,
   "id": "useful-burlington",
   "metadata": {},
   "outputs": [],
   "source": []
  },
  {
   "cell_type": "code",
   "execution_count": null,
   "id": "connected-motorcycle",
   "metadata": {},
   "outputs": [],
   "source": [
    "И последнее, что нам осталось сделать до запуска, — добавить после метода такую строчку:\n",
    "\n"
   ]
  },
  {
   "cell_type": "code",
   "execution_count": null,
   "id": "sitting-indian",
   "metadata": {},
   "outputs": [],
   "source": [
    "bot.polling(none_stop=True, interval=0)\n"
   ]
  },
  {
   "cell_type": "code",
   "execution_count": null,
   "id": "empty-symphony",
   "metadata": {},
   "outputs": [],
   "source": [
    "Она скажет программе, чтобы она непрерывно спрашивала у бота, не пришли ли ему какие-то новые сообщения.\n",
    "\n"
   ]
  },
  {
   "cell_type": "code",
   "execution_count": null,
   "id": "toxic-relay",
   "metadata": {},
   "outputs": [],
   "source": [
    "метод для получения текстовых сообщений:"
   ]
  },
  {
   "cell_type": "code",
   "execution_count": null,
   "id": "actual-application",
   "metadata": {},
   "outputs": [],
   "source": [
    "@bot.message_handler(content_types=['text'])\n",
    "def get_text_messages(message):"
   ]
  },
  {
   "cell_type": "code",
   "execution_count": null,
   "id": "sized-edmonton",
   "metadata": {},
   "outputs": [],
   "source": [
    "В этом участке кода мы объявили слушателя для текстовых сообщений и метод их обработки. Поле content_types может принимать разные значения, и не только одно, например\n"
   ]
  },
  {
   "cell_type": "code",
   "execution_count": null,
   "id": "bizarre-malawi",
   "metadata": {},
   "outputs": [],
   "source": [
    "@bot.message_handler(content_types=['text', 'document', 'audio'])\n"
   ]
  },
  {
   "cell_type": "code",
   "execution_count": null,
   "id": "united-timber",
   "metadata": {},
   "outputs": [],
   "source": [
    "Будет реагировать на текстовые сообщения, документы и аудио. Более подробно можно почитать в официальной документации"
   ]
  },
  {
   "cell_type": "code",
   "execution_count": null,
   "id": "moving-institution",
   "metadata": {},
   "outputs": [],
   "source": [
    "https://github.com/eternnoir/pyTelegramBotAPI"
   ]
  },
  {
   "cell_type": "code",
   "execution_count": null,
   "id": "endangered-genesis",
   "metadata": {},
   "outputs": [],
   "source": [
    "Теперь добавим в наш метод немного функционала: если пользователь напишет нам «Привет», то скажем ему «Привет, чем я могу помочь?», а если нам напишут команду «/help», то скажем пользователю написать «Привет»:\n"
   ]
  },
  {
   "cell_type": "code",
   "execution_count": null,
   "id": "recognized-prior",
   "metadata": {},
   "outputs": [],
   "source": [
    "if message.text == \"Привет\":\n",
    "    bot.send_message(message.from_user.id, \"Привет, чем я могу тебе помочь?\")\n",
    "elif message.text == \"/help\":\n",
    "    bot.send_message(message.from_user.id, \"Напиши привет\")\n",
    "else:\n",
    "    bot.send_message(message.from_user.id, \"Я тебя не понимаю. Напиши /help.\")"
   ]
  },
  {
   "cell_type": "code",
   "execution_count": null,
   "id": "creative-column",
   "metadata": {},
   "outputs": [],
   "source": [
    "Данный участок кода не требует комментариев, как мне кажется. Теперь нужно добавить в наш код только одну строчку (вне всех методов).\n"
   ]
  },
  {
   "cell_type": "code",
   "execution_count": null,
   "id": "celtic-discussion",
   "metadata": {},
   "outputs": [],
   "source": [
    "bot.polling(none_stop=True, interval=0)\n"
   ]
  },
  {
   "cell_type": "code",
   "execution_count": null,
   "id": "fatty-laptop",
   "metadata": {},
   "outputs": [],
   "source": [
    "Теперь наш бот будет постоянно спрашивать у сервера Телеграмма «Мне кто-нибудь написал?», и если мы напишем нашему боту, то Телеграмм передаст ему наше сообщение. Сохраняем весь файл, и пишем в консоли\n"
   ]
  },
  {
   "cell_type": "code",
   "execution_count": null,
   "id": "hungarian-first",
   "metadata": {},
   "outputs": [],
   "source": [
    "python bot.py\n"
   ]
  },
  {
   "cell_type": "code",
   "execution_count": null,
   "id": "rising-detective",
   "metadata": {},
   "outputs": [],
   "source": [
    "Отправлять сообщения это несомненно весело, но ещё веселее вести с пользователем диалог: задавать ему вопросы и получать на них ответы. Допустим, теперь наш бот будет спрашивать у пользователя по очереди его имя, фамилию и возраст. Для этого мы будем использовать метод register_next_step_handler бота:\n"
   ]
  },
  {
   "cell_type": "code",
   "execution_count": null,
   "id": "refined-congo",
   "metadata": {},
   "outputs": [],
   "source": [
    "name = '';\n",
    "surname = '';\n",
    "age = 0;\n",
    "@bot.message_handler(content_types=['text'])\n",
    "def start(message):\n",
    "    if message.text == '/reg':\n",
    "        bot.send_message(message.from_user.id, \"Как тебя зовут?\");\n",
    "        bot.register_next_step_handler(message, get_name); #следующий шаг – функция get_name\n",
    "    else:\n",
    "        bot.send_message(message.from_user.id, 'Напиши /reg');"
   ]
  },
  {
   "cell_type": "code",
   "execution_count": null,
   "id": "permanent-ratio",
   "metadata": {},
   "outputs": [],
   "source": [
    "def get_name(message): #получаем фамилию\n",
    "    global name;\n",
    "    name = message.text;\n",
    "    bot.send_message(message.from_user.id, 'Какая у тебя фамилия?');\n",
    "    bot.register_next_step_handler(message, get_surnme);"
   ]
  },
  {
   "cell_type": "code",
   "execution_count": null,
   "id": "norwegian-absorption",
   "metadata": {},
   "outputs": [],
   "source": [
    "def get_surname(message):\n",
    "    global surname;\n",
    "    surname = message.text;\n",
    "    bot.send_message('Сколько тебе лет?');\n",
    "    bot.register_next_step_handler(message, get_age);"
   ]
  },
  {
   "cell_type": "code",
   "execution_count": null,
   "id": "official-physiology",
   "metadata": {},
   "outputs": [],
   "source": [
    "def get_age(message):\n",
    "    global age;\n",
    "    while age == 0: #проверяем что возраст изменился\n",
    "        try:\n",
    "             age = int(message.text) #проверяем, что возраст введен корректно\n",
    "        except Exception:\n",
    "             bot.send_message(message.from_user.id, 'Цифрами, пожалуйста');\n",
    "      bot.send_message(message.from_user.id, 'Тебе '+str(age)+' лет, тебя зовут '+name+' '+surname+'?')"
   ]
  },
  {
   "cell_type": "code",
   "execution_count": null,
   "id": "stuffed-discrimination",
   "metadata": {},
   "outputs": [],
   "source": [
    "И так, данные пользователя мы записали. В этом примере показан очень упрощённый пример, по хорошему, хранить промежуточные данные и состояния пользователя нужно в БД, но мы сегодня работаем с ботом, а не с базами данных. Последний штрих – запросим у пользователей подтверждение того, что все введено верно, да не просто так, а с кнопками! Для этого немного отредактируем код метода get_age\n"
   ]
  },
  {
   "cell_type": "code",
   "execution_count": null,
   "id": "vanilla-consumption",
   "metadata": {},
   "outputs": [],
   "source": [
    "def get_age(message):\n",
    "    global age;\n",
    "    while age == 0: #проверяем что возраст изменился\n",
    "        try:\n",
    "             age = int(message.text) #проверяем, что возраст введен корректно\n",
    "        except Exception:\n",
    "             bot.send_message(message.from_user.id, 'Цифрами, пожалуйста');\n",
    "      keyboard = types.InlineKeyboardMarkup(); #наша клавиатура\n",
    "      key_yes = types.InlineKeyboardButton(text='Да', callback_data='yes'); #кнопка «Да»\n",
    "      keyboard.add(key_yes); #добавляем кнопку в клавиатуру\n",
    "      key_no= types.InlineKeyboardButton(text='Нет', callback_data='no');\n",
    "      keyboard.add(key_no);\n",
    "      question = 'Тебе '+str(age)+' лет, тебя зовут '+name+' '+surname+'?';\n",
    "      bot.send_message(message.from_user.id, text=question, reply_markup=keyboard)"
   ]
  },
  {
   "cell_type": "code",
   "execution_count": null,
   "id": "stretch-explosion",
   "metadata": {},
   "outputs": [],
   "source": [
    "И теперь наш бот отправляет клавиатуру, но если на нее нажать, то ничего не произойдёт. Потому что мы не написали метод-обработчик. Давайте напишем:\n"
   ]
  },
  {
   "cell_type": "code",
   "execution_count": null,
   "id": "collectible-dimension",
   "metadata": {},
   "outputs": [],
   "source": [
    "@bot.callback_query_handler(func=lambda call: True)\n",
    "def callback_worker(call):\n",
    "    if call.data == \"yes\": #call.data это callback_data, которую мы указали при объявлении кнопки\n",
    "        .... #код сохранения данных, или их обработки\n",
    "        bot.send_message(call.message.chat.id, 'Запомню : )');\n",
    "    elif call.data == \"no\":\n",
    "         ... #переспрашиваем"
   ]
  },
  {
   "cell_type": "code",
   "execution_count": null,
   "id": "comfortable-street",
   "metadata": {},
   "outputs": [],
   "source": [
    "from telebot import types\n"
   ]
  },
  {
   "cell_type": "code",
   "execution_count": null,
   "id": "multiple-sailing",
   "metadata": {},
   "outputs": [],
   "source": []
  },
  {
   "cell_type": "code",
   "execution_count": null,
   "id": "creative-header",
   "metadata": {},
   "outputs": [],
   "source": []
  },
  {
   "cell_type": "code",
   "execution_count": null,
   "id": "published-genome",
   "metadata": {},
   "outputs": [],
   "source": []
  },
  {
   "cell_type": "code",
   "execution_count": null,
   "id": "regulated-failure",
   "metadata": {},
   "outputs": [],
   "source": []
  },
  {
   "cell_type": "code",
   "execution_count": null,
   "id": "extended-terrorism",
   "metadata": {},
   "outputs": [],
   "source": [
    "ЭХО-БОТ\n"
   ]
  },
  {
   "cell_type": "code",
   "execution_count": null,
   "id": "early-salad",
   "metadata": {},
   "outputs": [],
   "source": [
    "Для начала реализуем так называемого эхо‑бота. Он будет получать от пользователя текстовое сообщение и возвращать его.\n",
    "\n"
   ]
  },
  {
   "cell_type": "code",
   "execution_count": 48,
   "id": "negative-evening",
   "metadata": {
    "scrolled": true
   },
   "outputs": [
    {
     "name": "stdout",
     "output_type": "stream",
     "text": [
      "Collecting pytelegrambotapi\n",
      "  Using cached pyTelegramBotAPI-4.2.1-py3-none-any.whl\n",
      "Requirement already satisfied: requests in /mnt/c/ds/env/lib/python3.8/site-packages (from pytelegrambotapi) (2.26.0)\n",
      "Requirement already satisfied: urllib3<1.27,>=1.21.1 in /mnt/c/ds/env/lib/python3.8/site-packages (from requests->pytelegrambotapi) (1.26.7)\n",
      "Requirement already satisfied: charset-normalizer~=2.0.0 in /mnt/c/ds/env/lib/python3.8/site-packages (from requests->pytelegrambotapi) (2.0.8)\n",
      "Requirement already satisfied: certifi>=2017.4.17 in /mnt/c/ds/env/lib/python3.8/site-packages (from requests->pytelegrambotapi) (2021.10.8)\n",
      "Requirement already satisfied: idna<4,>=2.5 in /mnt/c/ds/env/lib/python3.8/site-packages (from requests->pytelegrambotapi) (3.3)\n",
      "Installing collected packages: pytelegrambotapi\n",
      "Successfully installed pytelegrambotapi-4.2.1\n",
      "\u001b[33mWARNING: You are using pip version 21.0.1; however, version 21.3.1 is available.\n",
      "You should consider upgrading via the '/mnt/c/ds/env/bin/python -m pip install --upgrade pip' command.\u001b[0m\n",
      "Note: you may need to restart the kernel to use updated packages.\n"
     ]
    }
   ],
   "source": [
    "pip install pytelegrambotapi"
   ]
  },
  {
   "cell_type": "code",
   "execution_count": 47,
   "id": "coral-documentary",
   "metadata": {
    "scrolled": true
   },
   "outputs": [
    {
     "ename": "ModuleNotFoundError",
     "evalue": "No module named 'telebot'",
     "output_type": "error",
     "traceback": [
      "\u001b[0;31m---------------------------------------------------------------------------\u001b[0m",
      "\u001b[0;31mModuleNotFoundError\u001b[0m                       Traceback (most recent call last)",
      "\u001b[0;32m<ipython-input-47-f831f1bed597>\u001b[0m in \u001b[0;36m<module>\u001b[0;34m\u001b[0m\n\u001b[0;32m----> 1\u001b[0;31m \u001b[0;32mimport\u001b[0m \u001b[0mtelebot\u001b[0m\u001b[0;34m\u001b[0m\u001b[0;34m\u001b[0m\u001b[0m\n\u001b[0m\u001b[1;32m      2\u001b[0m \u001b[0;31m# Создаем экземпляр бота\u001b[0m\u001b[0;34m\u001b[0m\u001b[0;34m\u001b[0m\u001b[0;34m\u001b[0m\u001b[0m\n\u001b[1;32m      3\u001b[0m \u001b[0mbot\u001b[0m \u001b[0;34m=\u001b[0m \u001b[0mtelebot\u001b[0m\u001b[0;34m.\u001b[0m\u001b[0mTeleBot\u001b[0m\u001b[0;34m(\u001b[0m\u001b[0;34m'Здесь впиши токен, полученный от @botfather'\u001b[0m\u001b[0;34m)\u001b[0m\u001b[0;34m\u001b[0m\u001b[0;34m\u001b[0m\u001b[0m\n\u001b[1;32m      4\u001b[0m \u001b[0;31m# Функция, обрабатывающая команду /start\u001b[0m\u001b[0;34m\u001b[0m\u001b[0;34m\u001b[0m\u001b[0;34m\u001b[0m\u001b[0m\n\u001b[1;32m      5\u001b[0m \u001b[0;34m@\u001b[0m\u001b[0mbot\u001b[0m\u001b[0;34m.\u001b[0m\u001b[0mmessage_handler\u001b[0m\u001b[0;34m(\u001b[0m\u001b[0mcommands\u001b[0m\u001b[0;34m=\u001b[0m\u001b[0;34m[\u001b[0m\u001b[0;34m\"start\"\u001b[0m\u001b[0;34m]\u001b[0m\u001b[0;34m)\u001b[0m\u001b[0;34m\u001b[0m\u001b[0;34m\u001b[0m\u001b[0m\n",
      "\u001b[0;31mModuleNotFoundError\u001b[0m: No module named 'telebot'"
     ]
    }
   ],
   "source": [
    "import telebot\n",
    "# Создаем экземпляр бота\n",
    "bot = telebot.TeleBot('Здесь впиши токен, полученный от @botfather')\n",
    "# Функция, обрабатывающая команду /start\n",
    "@bot.message_handler(commands=[\"start\"])\n",
    "def start(m, res=False):\n",
    "    bot.send_message(m.chat.id, 'Я на связи. Напиши мне что-нибудь )')\n",
    "# Получение сообщений от юзера\n",
    "@bot.message_handler(content_types=[\"text\"])\n",
    "def handle_text(message):\n",
    "    bot.send_message(message.chat.id, 'Вы написали: ' + message.text)\n",
    "# Запускаем бота\n",
    "bot.polling(none_stop=True, interval=0)"
   ]
  },
  {
   "cell_type": "code",
   "execution_count": null,
   "id": "further-folks",
   "metadata": {},
   "outputs": [],
   "source": []
  },
  {
   "cell_type": "code",
   "execution_count": null,
   "id": "logical-demographic",
   "metadata": {},
   "outputs": [],
   "source": []
  },
  {
   "cell_type": "code",
   "execution_count": null,
   "id": "dynamic-listing",
   "metadata": {},
   "outputs": [],
   "source": [
    "import telebot\n",
    "# Создаем экземпляр бота\n",
    "bot = telebot.TeleBot('Здесь впиши токен, полученный от @botfather')\n",
    "# Функция, обрабатывающая команду /start\n",
    "@bot.message_handler(commands=[\"start\"])\n",
    "def start(m, res=False):\n",
    "    bot.send_message(m.chat.id, 'Я на связи. Напиши мне что-нибудь )')\n",
    "# Получение сообщений от юзера\n",
    "@bot.message_handler(content_types=[\"text\"])\n",
    "def handle_text(message):\n",
    "    bot.send_message(message.chat.id, 'Вы написали: ' + message.text)\n",
    "    print('*********')\n",
    "\tprint(message)\n",
    "\tprint('########')\n",
    "\tprint(message.chat.id)\n",
    "\tprint('########')\n",
    "\tprint(message.text)\n",
    "\tprint('$$$$$$$$$')\n",
    "# Запускаем бота\n",
    "bot.polling(none_stop=True, interval=0)"
   ]
  },
  {
   "cell_type": "code",
   "execution_count": null,
   "id": "regular-belarus",
   "metadata": {},
   "outputs": [],
   "source": []
  },
  {
   "cell_type": "code",
   "execution_count": null,
   "id": "employed-bennett",
   "metadata": {},
   "outputs": [],
   "source": []
  },
  {
   "cell_type": "code",
   "execution_count": null,
   "id": "unlikely-collector",
   "metadata": {},
   "outputs": [],
   "source": [
    "Обработчик (handler) -- это функция, которая вызывается какой-либо программной системой в ответ на наступление какого-либо события"
   ]
  },
  {
   "cell_type": "markdown",
   "id": "established-prototype",
   "metadata": {},
   "source": [
    "Запускай скрипт и ищи в поиске Telegram своего бота по адресу, который ты придумал ранее. Запускаем бота кнопкой «Запустить» (Start) или командой /start и можем убедиться в том, что он работает и возвращает сообщения.\n",
    "\n"
   ]
  },
  {
   "cell_type": "code",
   "execution_count": null,
   "id": "offensive-transmission",
   "metadata": {},
   "outputs": [],
   "source": [
    "@bot.message_handler(commands=[\"start\"])\n",
    "def start(m, res=False):\n",
    "    bot.send_message(m.chat.id, 'Я на связи. Напиши мне что-нибудь. Либо напиши /help.\"')\n",
    "# Получение сообщений от юзера\n",
    "@bot.message_handler(content_types=[\"text\"])\n",
    "def handle_text(message):\n",
    "\tif message.text == \"Дурак\":\n",
    "\t\tbot.send_message(message.from_user.id,'Сам дурак')\n",
    "\t\tkeyboard = types.InlineKeyboardMarkup()\n",
    "\t\tkey_durak = types.InlineKeyboardButton(text='Нажми если дурак', callback_data='durak')\n",
    "\t\tkeyboard.add(key_durak)\n",
    "\t\tbot.send_message(message.from_user.id, text='А у меня еще есть Бесполезная кнопка', reply_markup=keyboard)\n",
    "\n",
    "\telif message.text == \"/help\":\n",
    "\t\tbot.send_message(message.from_user.id, \"Напиши что-то, или слово Дурак\")\n",
    "\n",
    "\telse:\n",
    "\t\tbot.send_message(message.chat.id, 'Вы написали: ' + message.text)\n",
    "\t\tkeyboard = types.InlineKeyboardMarkup()\n",
    "\t\tkey_telec = types.InlineKeyboardButton(text='Бесполезная кнопка', callback_data='zodiac')\n",
    "\t\tkeyboard.add(key_telec)\n",
    "\t\tbot.send_message(message.from_user.id, text='А у меня еще есть кнопка', reply_markup=keyboard)\n",
    "\t\tprint('*********')\n",
    "\t\tprint(message)\n",
    "\t\tprint('########')\n",
    "\t\tprint(message.chat.id)\n",
    "\t\tprint('########')\n",
    "\t\tprint(message.text)\n",
    "\t\tprint('$$$$$$$$$')\n",
    "\n",
    "@bot.callback_query_handler(func=lambda call: True)\n",
    "def callback_worker(call):\n",
    "     if call.data == \"durak\": \n",
    "        msg = 'Ну точно дурак, сказали же - Кнопка для дураков'\n",
    "        # Отправляем текст в Телеграм\n",
    "        bot.send_message(call.message.chat.id, msg)\n"
   ]
  },
  {
   "cell_type": "code",
   "execution_count": null,
   "id": "black-moldova",
   "metadata": {},
   "outputs": [],
   "source": []
  },
  {
   "cell_type": "code",
   "execution_count": null,
   "id": "endless-alfred",
   "metadata": {},
   "outputs": [],
   "source": []
  },
  {
   "cell_type": "code",
   "execution_count": null,
   "id": "controlling-edmonton",
   "metadata": {},
   "outputs": [],
   "source": []
  },
  {
   "cell_type": "code",
   "execution_count": 49,
   "id": "round-circus",
   "metadata": {},
   "outputs": [],
   "source": [
    "##  Функциональные возможности Пайтона"
   ]
  },
  {
   "cell_type": "code",
   "execution_count": null,
   "id": "annoying-cooper",
   "metadata": {},
   "outputs": [],
   "source": [
    "### Как создаются списки в Python: for, list comprehension, map"
   ]
  },
  {
   "cell_type": "code",
   "execution_count": null,
   "id": "waiting-cosmetic",
   "metadata": {},
   "outputs": [],
   "source": [
    "#### 1)Использование цикла for"
   ]
  },
  {
   "cell_type": "code",
   "execution_count": null,
   "id": "standard-liabilities",
   "metadata": {},
   "outputs": [],
   "source": [
    "squares = []\n",
    "for i in range(10):\n",
    "     squares.append(i * i)"
   ]
  },
  {
   "cell_type": "code",
   "execution_count": null,
   "id": "thrown-country",
   "metadata": {},
   "outputs": [],
   "source": [
    "squares"
   ]
  },
  {
   "cell_type": "code",
   "execution_count": null,
   "id": "welsh-sending",
   "metadata": {},
   "outputs": [],
   "source": [
    "#### 2) Использование List Comprehensions"
   ]
  },
  {
   "cell_type": "code",
   "execution_count": null,
   "id": "treated-portuguese",
   "metadata": {},
   "outputs": [],
   "source": [
    "List comprehension трудно перевести правильно на русский, потому, раз он генерирует новый список, будем называть его просто генератором списков. "
   ]
  },
  {
   "cell_type": "code",
   "execution_count": null,
   "id": "ongoing-knitting",
   "metadata": {},
   "outputs": [],
   "source": [
    "squares = [x ** 2 for x in range(10)]"
   ]
  },
  {
   "cell_type": "code",
   "execution_count": null,
   "id": "cellular-attribute",
   "metadata": {},
   "outputs": [],
   "source": [
    "squares = []\n",
    "for x in range(10):\n",
    "  squares.append(x ** 2)"
   ]
  },
  {
   "cell_type": "code",
   "execution_count": null,
   "id": "accessory-reset",
   "metadata": {},
   "outputs": [],
   "source": [
    "[x ** 2 if x % 2 == 0 else x ** 3 for x in range(10)]"
   ]
  },
  {
   "cell_type": "code",
   "execution_count": null,
   "id": "amateur-elimination",
   "metadata": {},
   "outputs": [],
   "source": [
    "squares"
   ]
  },
  {
   "attachments": {
    "image.png": {
     "image/png": "[encoded data removed]"
    }
   },
   "cell_type": "markdown",
   "id": "abandoned-nightmare",
   "metadata": {},
   "source": [
    "![image.png](attachment:image.png)"
   ]
  },
  {
   "cell_type": "code",
   "execution_count": null,
   "id": "hindu-proportion",
   "metadata": {},
   "outputs": [],
   "source": [
    "matrix = [[col for col in range(5)] for row in range(5)]\n",
    "\n",
    "for row in matrix:\n",
    "    print(row)"
   ]
  },
  {
   "cell_type": "code",
   "execution_count": null,
   "id": "unnecessary-politics",
   "metadata": {},
   "outputs": [],
   "source": [
    "txns = [1.09, 23.56, 57.84, 4.56, 6.78]\n",
    "TAX_RATE = .08\n",
    "def get_price_with_tax(txn):\n",
    "    return txn * (1 + TAX_RATE)\n",
    "final_prices = [get_price_with_tax(i) for i in txns]\n",
    "final_prices"
   ]
  },
  {
   "cell_type": "code",
   "execution_count": null,
   "id": "amateur-picture",
   "metadata": {},
   "outputs": [],
   "source": [
    "#### 3) Использование  map"
   ]
  },
  {
   "cell_type": "code",
   "execution_count": null,
   "id": "finnish-tennessee",
   "metadata": {},
   "outputs": [],
   "source": [
    "map() предоставляет альтернативный подход, основанный на функциональном программировании. Мы передаем функцию и итерируемый объект (iterable), а map() создаст объект. Этот объект содержит выходные данные, которые мы получаем при запуске каждого итерируемого элемента через предоставленную функцию."
   ]
  },
  {
   "cell_type": "code",
   "execution_count": null,
   "id": "flush-counter",
   "metadata": {},
   "outputs": [],
   "source": [
    "txns = [1.09, 23.56, 57.84, 4.56, 6.78]\n",
    "TAX_RATE = .08\n",
    "def get_price_with_tax(txn):\n",
    "     return txn * (1 + TAX_RATE)\n",
    "final_prices = map(get_price_with_tax, txns)\n",
    "list(final_prices)"
   ]
  },
  {
   "cell_type": "code",
   "execution_count": null,
   "id": "secret-horizontal",
   "metadata": {},
   "outputs": [],
   "source": [
    " Мы можем легко преобразовать  объект map в список, используя list()"
   ]
  },
  {
   "cell_type": "code",
   "execution_count": null,
   "id": "affected-nation",
   "metadata": {},
   "outputs": [],
   "source": [
    "#### P.S. Key у Map, filter ...."
   ]
  },
  {
   "cell_type": "code",
   "execution_count": 50,
   "id": "israeli-compensation",
   "metadata": {},
   "outputs": [
    {
     "data": {
      "text/plain": [
       "['a', 'Daniel', 'from', 'is', 'string', 'test', 'This']"
      ]
     },
     "execution_count": 50,
     "metadata": {},
     "output_type": "execute_result"
    }
   ],
   "source": [
    "sorted(\"This is a test string from Daniel\".split(), key=str.lower)\n"
   ]
  },
  {
   "cell_type": "code",
   "execution_count": null,
   "id": "instructional-celtic",
   "metadata": {},
   "outputs": [],
   "source": [
    "### Когда что использовать?"
   ]
  },
  {
   "cell_type": "code",
   "execution_count": null,
   "id": "therapeutic-region",
   "metadata": {},
   "outputs": [],
   "source": [
    "list comprehension часто описываются как более Pythonic, чем циклы или map(). Но вместо того, чтобы слепо принимать эту оценку, стоит понять преимущества использования list comprehension по сравнению с альтернативами. "
   ]
  },
  {
   "cell_type": "code",
   "execution_count": null,
   "id": "standing-tennessee",
   "metadata": {},
   "outputs": [],
   "source": [
    "list comprehension это единственный инструмент, который вы можете использовать в самых разных ситуациях. В дополнение к созданию стандартного списка, списки могут также использоваться для отображения и фильтрации. Вам не нужно использовать разные подходы для каждого сценария."
   ]
  },
  {
   "cell_type": "code",
   "execution_count": null,
   "id": "dominant-michigan",
   "metadata": {},
   "outputs": [],
   "source": [
    "в отличие от map() нам не нужно запоминать порядок вызова"
   ]
  },
  {
   "cell_type": "code",
   "execution_count": null,
   "id": "infinite-jerusalem",
   "metadata": {},
   "outputs": [],
   "source": [
    "Представления списков полезны и могут помочь нам написать элегантный код, который легко читать и отлаживать, но он не всегда является правильным выбором. Он может заставить ваш код работать медленнее или использовать больше памяти. Если наш код станет менее производительным или сложным для понимания, то, вероятно, лучше выбрать альтернативу."
   ]
  },
  {
   "cell_type": "code",
   "execution_count": null,
   "id": "seeing-convertible",
   "metadata": {},
   "outputs": [],
   "source": [
    "matrix = [\n",
    "     [0, 0, 0],\n",
    "     [1, 1, 1],\n",
    "     [2, 2, 2],\n",
    " ]\n",
    "flat = [num for row in matrix for num in row]\n",
    "flat\n"
   ]
  },
  {
   "cell_type": "code",
   "execution_count": null,
   "id": "productive-orchestra",
   "metadata": {},
   "outputs": [],
   "source": [
    "flat = []\n",
    "for row in matrix:\n",
    "     for num in row:\n",
    "         flat.append(num)\n",
    "flat"
   ]
  },
  {
   "cell_type": "code",
   "execution_count": null,
   "id": "appropriate-omega",
   "metadata": {},
   "outputs": [],
   "source": []
  },
  {
   "cell_type": "code",
   "execution_count": null,
   "id": "fresh-private",
   "metadata": {},
   "outputs": [],
   "source": []
  },
  {
   "cell_type": "code",
   "execution_count": null,
   "id": "mature-placement",
   "metadata": {},
   "outputs": [],
   "source": []
  },
  {
   "cell_type": "code",
   "execution_count": null,
   "id": "given-function",
   "metadata": {},
   "outputs": [],
   "source": []
  },
  {
   "cell_type": "code",
   "execution_count": null,
   "id": "chinese-lotus",
   "metadata": {},
   "outputs": [],
   "source": []
  },
  {
   "cell_type": "code",
   "execution_count": null,
   "id": "entire-right",
   "metadata": {},
   "outputs": [],
   "source": []
  },
  {
   "cell_type": "code",
   "execution_count": null,
   "id": "coastal-cross",
   "metadata": {},
   "outputs": [],
   "source": [
    "https://xakep.ru/2021/11/28/python-telegram-bots/"
   ]
  },
  {
   "cell_type": "code",
   "execution_count": null,
   "id": "tested-queue",
   "metadata": {},
   "outputs": [],
   "source": [
    "ДЗ"
   ]
  },
  {
   "cell_type": "code",
   "execution_count": null,
   "id": "secret-karaoke",
   "metadata": {},
   "outputs": [],
   "source": [
    "1. Написать бота который будет проверять доступность сайта"
   ]
  },
  {
   "cell_type": "code",
   "execution_count": null,
   "id": "legitimate-toronto",
   "metadata": {},
   "outputs": [],
   "source": [
    "2. Написать бота который будет анализировать текст - (Статистика, количество уникальных слов, самые популярные слова, кроме союзов и предлогов, количество предложений)"
   ]
  },
  {
   "cell_type": "code",
   "execution_count": null,
   "id": "seven-cambridge",
   "metadata": {},
   "outputs": [],
   "source": [
    "3. Бот калькулятор\n",
    "*с кнопками"
   ]
  }
 ],
 "metadata": {
  "kernelspec": {
   "display_name": "Python 3",
   "language": "python",
   "name": "python3"
  },
  "language_info": {
   "codemirror_mode": {
    "name": "ipython",
    "version": 3
   },
   "file_extension": ".py",
   "mimetype": "text/x-python",
   "name": "python",
   "nbconvert_exporter": "python",
   "pygments_lexer": "ipython3",
   "version": "3.8.10"
  }
 },
 "nbformat": 4,
 "nbformat_minor": 5
}
