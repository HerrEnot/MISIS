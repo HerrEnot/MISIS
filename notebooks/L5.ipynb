{
 "cells": [
  {
   "cell_type": "markdown",
   "id": "private-geology",
   "metadata": {},
   "source": [
    "# Урок 5"
   ]
  },
  {
   "cell_type": "markdown",
   "id": "banner-matrix",
   "metadata": {},
   "source": [
    "### 1 Обсужадем ДЗ\"1\"\n",
    "### 2 Файловый ввод/вывод\n",
    "### 3 Модули\n",
    "### 4 Работа с датой и временем"
   ]
  },
  {
   "cell_type": "code",
   "execution_count": null,
   "id": "composed-theology",
   "metadata": {},
   "outputs": [],
   "source": []
  },
  {
   "cell_type": "code",
   "execution_count": null,
   "id": "executed-butterfly",
   "metadata": {},
   "outputs": [],
   "source": [
    "MINUTE_LEN = 60\n",
    "HOUR_LEN = 60 * MINUTE_LEN\n",
    "DAY_LEN = 24 * HOUR_LEN\n",
    "\n",
    "def main():\n",
    "    try:\n",
    "        time = int(input(\"Seconds: \"))\n",
    "        if time < 0:\n",
    "            print(\"Entered number is negative\")\n",
    "        else:\n",
    "            days = time // DAY_LEN\n",
    "            hours = (time % DAY_LEN) // HOUR_LEN\n",
    "            minutes = (time % HOUR_LEN) // MINUTE_LEN\n",
    "            seconds = time % MINUTE_LEN\n",
    "            print(f'{days}d:{hours}h:{minutes}m:{seconds}s')\n",
    "    except ValueError:\n",
    "        print(\"Entered not an int number\")\n",
    "\n",
    "if __name__ == \"__main__\":\n",
    "    main()"
   ]
  },
  {
   "cell_type": "code",
   "execution_count": 1,
   "id": "surface-rebate",
   "metadata": {},
   "outputs": [
    {
     "name": "stdout",
     "output_type": "stream",
     "text": [
      "Введите количество секунд:10000\n",
      "0 дней 2 часов 46 минут 40 секунд\n"
     ]
    }
   ],
   "source": [
    "num = int(input('Введите количество секунд:'))\n",
    "day, hour, minute = 0, 0, 0\n",
    "if num < 60:\n",
    "    print(day, 'дней', hour, 'часов', minute, 'минут', num, 'секунд')\n",
    "elif 3600 > num >= 60:\n",
    "    minute = num // 60\n",
    "    num = num % 60\n",
    "    print(day, 'дней', hour, 'часов', minute, 'минут', num, 'секунд')\n",
    "elif 86400 > num >= 3600:\n",
    "    hour = num // 3600\n",
    "    minute = (num % 3600) // 60\n",
    "    num = (num % 3600) % 60\n",
    "    print(day, 'дней', hour, 'часов', minute, 'минут', num, 'секунд')\n",
    "else:\n",
    "    day = num // 86400\n",
    "    hour = (num % 86400) // 3600\n",
    "    minute = ((num % 86400) % 3600) // 60\n",
    "    num = ((num % 86400) % 3600) % 60\n",
    "    print(day, 'дней', hour, 'часов', minute, 'минут', num, 'секунд') "
   ]
  },
  {
   "cell_type": "code",
   "execution_count": null,
   "id": "generic-andrew",
   "metadata": {},
   "outputs": [],
   "source": [
    "seconds=10000\n",
    "\n",
    "dd = seconds//(60*60*24)\n",
    "hh = (seconds%(60*60*24))//(60*60)\n",
    "mm = ((seconds%(60*60*24))%(60*60))//60\n",
    "sec = ((seconds%(60*60*24))%(60*60)) % 60\n",
    "\n",
    "print(dd, hh, mm, sec, sep=':')"
   ]
  },
  {
   "cell_type": "code",
   "execution_count": null,
   "id": "naval-geology",
   "metadata": {},
   "outputs": [],
   "source": [
    "seconds = int(1000000)\n",
    "minutes = seconds // 60\n",
    "hours = minutes // 60\n",
    "days = hours // 24\n",
    "print(f\"{days} дней, {hours % 24} часов, {minutes % 60} минут, {seconds % 60} секунд\")"
   ]
  },
  {
   "cell_type": "code",
   "execution_count": null,
   "id": "frank-venezuela",
   "metadata": {},
   "outputs": [],
   "source": [
    "print('sd')"
   ]
  },
  {
   "cell_type": "code",
   "execution_count": null,
   "id": "excited-partnership",
   "metadata": {},
   "outputs": [],
   "source": [
    "number = 100000\n",
    "days = number//86400\n",
    "hours = (number%86400)//3600\n",
    "minutes = ((number%86400)%3600)//60\n",
    "seconds = ((number%86400)%3600)%60\n",
    "\n",
    "print(days, hours, minutes, seconds, sep=':')"
   ]
  },
  {
   "cell_type": "code",
   "execution_count": 78,
   "id": "bibliographic-emission",
   "metadata": {},
   "outputs": [
    {
     "name": "stdout",
     "output_type": "stream",
     "text": [
      "2 часов \n",
      "46 минут \n",
      "40 секунд\n"
     ]
    }
   ],
   "source": [
    "seconds=10000\n",
    "if seconds >= 60:\n",
    "    min=seconds//60\n",
    "    seconds = seconds - min*60\n",
    "    if min >= 60:\n",
    "        hours = min//60\n",
    "        min = min - hours*60\n",
    "        if hours >=24:\n",
    "            days = hours//24\n",
    "            hours = hours - days*24\n",
    "            print(f'{days} дней ')\n",
    "        print(f'{hours} часов ')\n",
    "    print(f'{min} минут ')\n",
    "print(f'{seconds} секунд')"
   ]
  },
  {
   "cell_type": "code",
   "execution_count": 79,
   "id": "pleasant-treasury",
   "metadata": {},
   "outputs": [
    {
     "name": "stdout",
     "output_type": "stream",
     "text": [
      "07:10:46\n"
     ]
    }
   ],
   "source": [
    "def converter(sec):\n",
    "    sec = sec % (24 * 3600)\n",
    "    hour = sec // 3600\n",
    "    sec %= 3600\n",
    "    min = sec // 60\n",
    "    sec %= 60\n",
    "    return \"%02d:%02d:%02d\" % (hour, min, sec)\n",
    "print(converter(69987654646))"
   ]
  },
  {
   "cell_type": "code",
   "execution_count": 80,
   "id": "sound-outside",
   "metadata": {},
   "outputs": [
    {
     "name": "stdout",
     "output_type": "stream",
     "text": [
      "0:2:46:40\n"
     ]
    }
   ],
   "source": [
    "seconds = 10000\n",
    "print(seconds//86400, (seconds%86400)//3600, ((seconds%86400)%3600)//60, ((seconds%86400)%3600)%60, sep = ':')"
   ]
  },
  {
   "cell_type": "code",
   "execution_count": null,
   "id": "swedish-flexibility",
   "metadata": {},
   "outputs": [],
   "source": [
    "from datetime import timedelta\n",
    "\n",
    "sec = int(input(\"Кол-во секунд: \"))\n",
    "print(f'\\n{timedelta(seconds=sec)} [h]:[m]:[s]')"
   ]
  },
  {
   "cell_type": "code",
   "execution_count": null,
   "id": "engaged-corrections",
   "metadata": {},
   "outputs": [],
   "source": []
  },
  {
   "cell_type": "code",
   "execution_count": null,
   "id": "accepting-deviation",
   "metadata": {},
   "outputs": [],
   "source": []
  },
  {
   "cell_type": "code",
   "execution_count": null,
   "id": "welcome-martial",
   "metadata": {},
   "outputs": [],
   "source": [
    "t1 = int(input('Введите первое число '))\n",
    "t2 = int(input('Введите второе число '))\n",
    "symbol = input('Введите знак ')\n",
    "if symbol == '+':\n",
    "    print(t1+t2)\n",
    "elif symbol == '-':\n",
    "    print(t1-t2)\n",
    "elif symbol == '*':\n",
    "    print(t1*t2)\n",
    "elif symbol == '/':\n",
    "    print(t1/t2)"
   ]
  },
  {
   "cell_type": "code",
   "execution_count": null,
   "id": "responsible-arrest",
   "metadata": {},
   "outputs": [],
   "source": [
    "print(\"Введите два числа подряд и знак операции:\")\n",
    "variable_a=float(input())\n",
    "variable_b=float(input())\n",
    "sign=input()\n",
    "\n",
    "if sign==\"+\":\n",
    "    print(variable_a+variable_b)\n",
    "elif sign==\"-\":\n",
    "    print(variable_a-variable_b)\n",
    "elif sign==\"*\":\n",
    "    print(variable_a*variable_b)\n",
    "elif sign==\"/\":\n",
    "    print(variable_a/variable_b)"
   ]
  },
  {
   "cell_type": "code",
   "execution_count": null,
   "id": "becoming-fisher",
   "metadata": {},
   "outputs": [],
   "source": [
    "calc = input(\"Введите числа через пробел \")\n",
    "print(calc.count(\" \"))\n",
    "while calc.count(\" \") == 2:\n",
    "    x, operand, y = calc.split(\" \")\n",
    "    x = int(x)\n",
    "    y = int(y)\n",
    "    if operand == \"+\":\n",
    "        print(\"Ответ: \" + str(x + y))\n",
    "    elif operand == \"-\":\n",
    "        print(\"Ответ: \" + str(x - y))\n",
    "    elif operand == \"*\":\n",
    "        print(\"Ответ: \" + str(x * y))\n",
    "    elif operand == \"/\":\n",
    "        print(\"Ответ: \" + str(x / y))\n",
    "    else:\n",
    "        print(\"Введена неизвестная операция\")\n",
    "    calc = input()"
   ]
  },
  {
   "cell_type": "code",
   "execution_count": null,
   "id": "vanilla-maker",
   "metadata": {},
   "outputs": [],
   "source": [
    "a, b, oper = float(input('First variable: ')), float(input('Second variable: ')), input('Operator: ')\n"
   ]
  },
  {
   "cell_type": "code",
   "execution_count": null,
   "id": "numerous-blackberry",
   "metadata": {},
   "outputs": [],
   "source": [
    "a=float(input('Введите первую переменную '))\n",
    "b=float(input('Введите вторую перменную '))\n",
    "s=(input('Введите знак ( + - * / )'))\n",
    "if s=='*':\n",
    "    print('Результат вычисления: ',a,s,b,'=',a*b)\n",
    "elif  s=='/':\n",
    "    print('Результат вычисления: ',a,s,b,'=',a/b)\n",
    "elif  s=='+':\n",
    "    print('Результат вычисления: ',a,s,b,'=',a+b)\n",
    "elif  s=='-':\n",
    "    print('Результат вычисления: ',a,s,b,'=',a-b)"
   ]
  },
  {
   "cell_type": "code",
   "execution_count": null,
   "id": "statutory-casino",
   "metadata": {},
   "outputs": [],
   "source": [
    "try:\n",
    "    a1=int(input('Введите первую переменную\\n'))\n",
    "    simvol=input('Введите символ\\n')\n",
    "    a2=int(input('Введите вторую переменную\\n'))\n",
    "    \n",
    "    if len(simvol)>1 or len(simvol)==0:\n",
    "    \n",
    "        print(\"Вы ввели не операцию!\")\n",
    "    \n",
    "    elif simvol[0]!='*' and simvol[0]!='/' and simvol[0]!='+' and simvol[0]!='-':\n",
    "    \n",
    "        print(\"Вы ввели не операцию!\")\n",
    "    \n",
    "    else:\n",
    "    \n",
    "        slovar = {\n",
    "            '*': a1*a2,\n",
    "            '+': a1+a2,\n",
    "            '-': a1-a2,\n",
    "            '/': a1/a2\n",
    "        }\n",
    "        print(slovar[simvol[0]])\n",
    "    \n",
    "except ValueError:\n",
    "    print(\"Вы ввели не число!\")"
   ]
  },
  {
   "cell_type": "code",
   "execution_count": null,
   "id": "increased-sweet",
   "metadata": {},
   "outputs": [],
   "source": [
    "try:\n",
    "    seconds=int(input('Введите число секунд\\n'))\n",
    "    # Делим секунды на кол-во секунд в сутках, отбрасывая остаток.\n",
    "    days=seconds//int(60*60*24)\n",
    "    # Остаток от деления - секунды без дней. Делим на кол-во секунд в часу, отбрасывая остаток.\n",
    "    hours=(seconds%int(60*60*24))//int(60*60)\n",
    "    # Остаток от деления - секунды без часов. Делим на кол-во секунд в минуте.\n",
    "    minuts=((seconds%int(60*60*24))%int(60*60))//int(60)\n",
    "    # Остаток от деления - секунды.\n",
    "    seconds=((seconds%int(60*60*24))%int(60*60))%int(60)\n",
    "\n",
    "    print('Дни ',days,'; Часы ',hours,'; Минуты ',minuts,'; Секунды ',seconds,'\\n')\n",
    "except ValueError:\n",
    "    print(\"Вы ввели не число!\")"
   ]
  },
  {
   "cell_type": "code",
   "execution_count": null,
   "id": "retired-suspect",
   "metadata": {},
   "outputs": [],
   "source": [
    "\n",
    "def main():\n",
    "    try:\n",
    "        x = float(input(\"Enter first number: \"))\n",
    "        y = float(input(\"Enter second number: \"))\n",
    "        operation = input(\"Enter operation(+ - * /):\")\n",
    "        if operation == \"+\":\n",
    "            print(x + y)\n",
    "        elif operation == \"-\":\n",
    "            print(x - y)\n",
    "        elif operation == \"/\":\n",
    "            if y == 0:\n",
    "                print(\"Cannot divide by zero\")\n",
    "            else:\n",
    "                print(x / y)\n",
    "        elif operation == \"*\":\n",
    "            print(x * y)\n",
    "        else:\n",
    "            print(\"Entered operation is not valid (supported + - / *)\")\n",
    "    except ValueError:\n",
    "        print(\"Entered value is not a number\")\n",
    "\n",
    "if __name__ == \"__main__\":\n",
    "    main()"
   ]
  },
  {
   "cell_type": "code",
   "execution_count": null,
   "id": "sublime-jumping",
   "metadata": {},
   "outputs": [],
   "source": [
    "def calculator(exp):\n",
    "    '''\n",
    "    Калькулятор, который принимает арифметическое выражение в str и выводит\n",
    "    результат вычислений, соответственно арифметическому знаку.\n",
    "    '''\n",
    "    exp = exp.replace(',', '.') # убираем возможную ошибку пользователя\n",
    "    sign = [i for i in '+-*/' if i in exp] # поиск арифметического знака\n",
    "    if len(sign) == 0: # проверка на адекватность 1\n",
    "        return 'Нет арифметического знака!'\n",
    "    else:\n",
    "        sign_num = exp.find(sign[0]) # нахождение индекса арифм. знака\n",
    "    try: # проверка на адекватность 2\n",
    "        if exp[:sign_num] == '' or exp[sign_num+1:] == '':\n",
    "            return 'Неполное выражение!'\n",
    "        p_1 = float(exp[:sign_num])\n",
    "        p_2 = float(exp[sign_num+1:])\n",
    "    except:\n",
    "        return 'Присутствуют посторонние знаки!'\n",
    "    try: # проверка на адекватность 3\n",
    "        if sign[0] == '+':\n",
    "            answer = p_1 + p_2\n",
    "        elif sign[0] == '-':\n",
    "            answer = p_1 - p_2\n",
    "        elif sign[0] == '*':\n",
    "            answer = p_1 * p_2\n",
    "        elif sign[0] == '/':\n",
    "            answer = p_1 / p_2\n",
    "    except:\n",
    "        return 'Зачем делишь на ноль?!'\n",
    "    if answer % 1 == 0: # форматирование  \n",
    "        return int(answer)\n",
    "    else: \n",
    "        return answer\n",
    "    \n",
    "    \n",
    "exp = input('\"Калькулятор\"\\n\\tВведите выражение: ') # арифметическое выражение\n",
    "print(f'\\tОтвет: {calculator(exp)}')"
   ]
  },
  {
   "cell_type": "markdown",
   "id": "dramatic-maker",
   "metadata": {},
   "source": [
    "### 2 Файловый ввод/вывод\n"
   ]
  },
  {
   "cell_type": "markdown",
   "id": "average-index",
   "metadata": {},
   "source": [
    "Python позволяет работать как с текстовыми (txt, csv, xml, json и т.п. данные), так и с бинарными (изображения, музыка и т.п.) файлами.\n",
    "\n"
   ]
  },
  {
   "cell_type": "markdown",
   "id": "flexible-stream",
   "metadata": {},
   "source": [
    "Прежде чем начать работать с файлом его необходимо открыть.\n",
    "\n"
   ]
  },
  {
   "cell_type": "code",
   "execution_count": null,
   "id": "cardiac-average",
   "metadata": {},
   "outputs": [],
   "source": [
    "f = open('text.txt', 'r') #Открываем файл с именем text.txt для последующего чтения\n"
   ]
  },
  {
   "cell_type": "markdown",
   "id": "therapeutic-australian",
   "metadata": {},
   "source": [
    "Для того, чтобы открыть файл, используется оператор open, первым аргументом указывается путь к файлу, а вторым — то что мы хотим с ним сделать. Основных вариантов два:\n",
    "\n",
    "    'w' — записать в файл, затерев всё что было в нём при открытии\n",
    "    'r' — прочитать файл, не меняя содержание\n",
    "Если не указывать режим чтения. то будет подразумеваться режим чтения. Об остальных режимах (например как дописать в файл) смотрите в документации."
   ]
  },
  {
   "cell_type": "markdown",
   "id": "expanded-tsunami",
   "metadata": {},
   "source": [
    "1й параметр - имя файла\n",
    "2й параметр - режим открытия файла\n",
    "Файл можно открыть на чтение, запись, изменение и т.п."
   ]
  },
  {
   "cell_type": "markdown",
   "id": "pediatric-attraction",
   "metadata": {},
   "source": [
    "####    Режим       \tОбозначение\n",
    "    'r'\tоткрытие на чтение (является значением по умолчанию).\n",
    "    'w'\tоткрытие на запись, содержимое файла удаляется, если файла не существует, создается новый.\n",
    "    'x'\tоткрытие на запись, если файла не существует, иначе исключение.\n",
    "    'a'\tоткрытие на дозапись, информация добавляется в конец файла.\n",
    "    'b'\tоткрытие в двоичном режиме.\n",
    "    't'\tоткрытие в текстовом режиме (является значением по умолчанию).\n",
    "    '+'\tоткрытие на чтение и запись"
   ]
  },
  {
   "cell_type": "markdown",
   "id": "balanced-effect",
   "metadata": {},
   "source": [
    "Обратите внимание, что в переменную f в примере выше не попадает содержимое файла!\n",
    "\n"
   ]
  },
  {
   "cell_type": "markdown",
   "id": "invalid-trout",
   "metadata": {},
   "source": [
    "Фактически это \"ссылка\" на файл, ещё иногда её называют \"файл хэндлер\" или дескриптор.\n",
    "\n"
   ]
  },
  {
   "cell_type": "markdown",
   "id": "automatic-viewer",
   "metadata": {},
   "source": [
    "##### Кодировка\n"
   ]
  },
  {
   "cell_type": "markdown",
   "id": "looking-pursuit",
   "metadata": {},
   "source": [
    "Если вы открываете файл, содержащий только латиницу и цифры, то вам может хватить и просто открытия файла.\n",
    "\n",
    "Если же вы работаете с текстом на русском, то скорее всего придётся указать кодировку, для этого служит атрибут encoding."
   ]
  },
  {
   "cell_type": "code",
   "execution_count": null,
   "id": "private-australia",
   "metadata": {},
   "outputs": [],
   "source": [
    "f = open('text.txt', 'r', encoding=\"utf-8\") #Открываем файл с именем text.txt, имеющего кодировку UTF-8 и кириллические символы в содержимом для последующего чтения\n"
   ]
  },
  {
   "cell_type": "markdown",
   "id": "advanced-football",
   "metadata": {},
   "source": [
    "#### Закрытие файлов\n"
   ]
  },
  {
   "cell_type": "markdown",
   "id": "celtic-skill",
   "metadata": {},
   "source": [
    "После окончания работы с файлом его необходимо закрыть. Для этого есть несколько причин:\n",
    "\n",
    "если файл изменялся, то это позволит корректно его сохранить\n",
    "файл может потребоваться другим программам, но ваше приложение может его блокировать, что вызовет ошибку\n",
    "не стоит держать в памяти лишние данные, которые вам уже не нужны\n",
    "удалить открытый кем-то файл проблематично\n",
    "\n",
    "\n"
   ]
  },
  {
   "cell_type": "code",
   "execution_count": null,
   "id": "wired-candy",
   "metadata": {},
   "outputs": [],
   "source": [
    "f = open('text.txt', 'r') #Открываем файл с именем text.txt для последующего чтения\n",
    "\n",
    "#Тут мог быть ваш код\n",
    "\n",
    "f.close() #Закрываем файл после окончания работы"
   ]
  },
  {
   "cell_type": "code",
   "execution_count": null,
   "id": "julian-bulgaria",
   "metadata": {},
   "outputs": [],
   "source": []
  },
  {
   "cell_type": "code",
   "execution_count": 2,
   "id": "coordinated-semester",
   "metadata": {},
   "outputs": [],
   "source": [
    "f = open(\"some_file.txt\", \"w\")\n",
    "f.write(\"some string\\n\\n\\n\")\n",
    "f.write(\"more strings\")\n",
    "f.close()"
   ]
  },
  {
   "cell_type": "code",
   "execution_count": 3,
   "id": "entertaining-blues",
   "metadata": {},
   "outputs": [
    {
     "name": "stdout",
     "output_type": "stream",
     "text": [
      "some string\r\n",
      "\r\n",
      "\r\n",
      "more strings"
     ]
    }
   ],
   "source": [
    "!cat \"some_file.txt\"\n"
   ]
  },
  {
   "cell_type": "markdown",
   "id": "solid-civilian",
   "metadata": {},
   "source": [
    "Файл надо закрывать прежде чем буфер из памяти перетечёт в него. Чтобы не забывать этого делать руками (по вызову метода close() для соответствующего дескриптора), можно использовать оператор контекста:\n"
   ]
  },
  {
   "cell_type": "code",
   "execution_count": null,
   "id": "comparative-mercury",
   "metadata": {},
   "outputs": [],
   "source": [
    "with open(\"some_file.txt\", \"w\") as fp:\n",
    "    fp.write(\"да неее\\n\")\n",
    "    fp.write(\"да дааа!\")\n",
    "    print(\"эта строка без переноса\", file=fp)"
   ]
  },
  {
   "cell_type": "code",
   "execution_count": null,
   "id": "rolled-monitor",
   "metadata": {},
   "outputs": [],
   "source": [
    "with open(\"some_file.txt\") as f:\n",
    "    print(f)\n",
    "    print(\"-----\")\n",
    "    for line in f:   # так мы перебираем строки\n",
    "        print(\"1:\", line.strip())\n",
    "        print(\"2:\", line.split())\n",
    "        print(\"3:\", list(line))\n",
    "        print(\"---\")"
   ]
  },
  {
   "cell_type": "markdown",
   "id": "sufficient-specification",
   "metadata": {},
   "source": [
    "### With - менеджер контекста\n",
    "Схема превращения обычной записи в контекст:\n",
    "\n"
   ]
  },
  {
   "attachments": {
    "image.png": {
     "image/png": "[encoded data removed]"
    }
   },
   "cell_type": "markdown",
   "id": "religious-science",
   "metadata": {},
   "source": [
    "![image.png](attachment:image.png)"
   ]
  },
  {
   "cell_type": "markdown",
   "id": "accurate-lesbian",
   "metadata": {},
   "source": [
    "Как только закончится код, оформленный с отступами в with (аналогичные отступы в циклах или функциях), это означает, что контекст закончился, и python автоматически закроет файл.\n",
    "\n",
    "with закроет файл, даже если в коде была ошибка и мы получили какой то Error в интерпретаторе.\n",
    "\n"
   ]
  },
  {
   "cell_type": "code",
   "execution_count": null,
   "id": "comprehensive-fancy",
   "metadata": {},
   "outputs": [],
   "source": []
  },
  {
   "cell_type": "code",
   "execution_count": null,
   "id": "commercial-influence",
   "metadata": {},
   "outputs": [],
   "source": []
  },
  {
   "cell_type": "markdown",
   "id": "historic-intelligence",
   "metadata": {},
   "source": [
    "#### Чтение из файла\n"
   ]
  },
  {
   "cell_type": "markdown",
   "id": "emerging-dallas",
   "metadata": {},
   "source": [
    "После того как вы открыли файл на чтение (например, с флагом \"r\") вы можете использовать одну из 3 функций для чтения текстовой информации из файла:\n",
    "\n",
    "read() - читает весь текст\n",
    "readline() - читает 1 строку\n",
    "readlines() - читает весь текст и возвращает список строк\n",
    "Примечание. Любой текстовый файл, имеющий более 1 строки имеет служебные символы переноса строк \\n.\n",
    "\n",
    "Все выше перечисленные методы возвращают строки, которые содержат текст, включая символы переноса строк (\\n)"
   ]
  },
  {
   "cell_type": "code",
   "execution_count": null,
   "id": "devoted-appointment",
   "metadata": {},
   "outputs": [],
   "source": []
  },
  {
   "cell_type": "markdown",
   "id": "virtual-majority",
   "metadata": {},
   "source": [
    "#### Чтение файла целиком (read())\n",
    "\n"
   ]
  },
  {
   "cell_type": "code",
   "execution_count": null,
   "id": "powerful-capacity",
   "metadata": {},
   "outputs": [],
   "source": [
    "f = open('export_file_48603.csv', 'r', encoding=\"utf-8\")\n",
    "text = f.read()"
   ]
  },
  {
   "cell_type": "code",
   "execution_count": null,
   "id": "committed-transition",
   "metadata": {},
   "outputs": [],
   "source": []
  },
  {
   "cell_type": "markdown",
   "id": "adjusted-productivity",
   "metadata": {},
   "source": [
    "строка text содержит всё содержимое файла, включая переносы строк:\n",
    "\n"
   ]
  },
  {
   "cell_type": "markdown",
   "id": "brazilian-korea",
   "metadata": {},
   "source": [
    "#### Чтение файла по одной строке (readline())\n",
    "\n"
   ]
  },
  {
   "cell_type": "code",
   "execution_count": null,
   "id": "fitted-failing",
   "metadata": {},
   "outputs": [],
   "source": [
    "f = open('export_file_48603.csv', 'r', encoding=\"utf-8\")\n",
    "text = f.readline()"
   ]
  },
  {
   "cell_type": "markdown",
   "id": "medieval-guard",
   "metadata": {},
   "source": [
    "Каждый следующий вызов readline() прочитает следующую строку (и так до тех пор пока не кончится весь файл):\n",
    "\n"
   ]
  },
  {
   "cell_type": "markdown",
   "id": "elect-demographic",
   "metadata": {},
   "source": [
    "#### Чтение файла построчно в список (readlines())\n",
    "\n"
   ]
  },
  {
   "cell_type": "code",
   "execution_count": null,
   "id": "royal-penny",
   "metadata": {},
   "outputs": [],
   "source": [
    "f = open('export_file_48603.csv', 'r', encoding=\"utf-8\")\n",
    "text = f.readlines()"
   ]
  },
  {
   "cell_type": "markdown",
   "id": "adopted-visiting",
   "metadata": {},
   "source": [
    "Каждая строка в списке так же заканчивается символом переноса строки!\n",
    "\n"
   ]
  },
  {
   "cell_type": "markdown",
   "id": "magnetic-times",
   "metadata": {},
   "source": [
    "#### Построчное чтение файла в цикле for\n"
   ]
  },
  {
   "cell_type": "markdown",
   "id": "alien-nightmare",
   "metadata": {},
   "source": [
    "Python позволяет сразу перебрать все строки файла, обращаясь к дескриптору в цикле for, не создавая списка:\n",
    "\n"
   ]
  },
  {
   "cell_type": "code",
   "execution_count": null,
   "id": "productive-hamilton",
   "metadata": {},
   "outputs": [],
   "source": [
    "f = open('export_file_48603.csv', 'r', encoding=\"utf-8\")\n"
   ]
  },
  {
   "cell_type": "code",
   "execution_count": null,
   "id": "turkish-missile",
   "metadata": {},
   "outputs": [],
   "source": [
    "for string in f:\n",
    "    #string содержит по 1 строке файла, включая символ переноса строки"
   ]
  },
  {
   "cell_type": "markdown",
   "id": "union-easter",
   "metadata": {},
   "source": [
    "Чтобы не морочить голову с символами переноса строки, имхо, удобнее использовать read + split (если файл содержит что-то типа списка ссылок и т.п. \"без пробелов\", то можно без параметра '\\n') - на выходе получаем список строк без '\\n' (в отличие от readlines()):\n",
    "\n"
   ]
  },
  {
   "cell_type": "code",
   "execution_count": null,
   "id": "accepted-alert",
   "metadata": {},
   "outputs": [],
   "source": [
    "with open(urls_file, 'r', encoding='utf-8') as file:\n",
    "    lines = file.read().split('\\n')"
   ]
  },
  {
   "cell_type": "markdown",
   "id": "selective-kuwait",
   "metadata": {},
   "source": [
    "И, да, сейчас, по идее, лучше открывать файлы через \"with open\", т.к. файл затем сам закрывается автоматически сборщиком мусора.\n",
    "\n"
   ]
  },
  {
   "cell_type": "markdown",
   "id": "unique-remedy",
   "metadata": {},
   "source": [
    "### Путь к файлу\n"
   ]
  },
  {
   "cell_type": "markdown",
   "id": "attended-timeline",
   "metadata": {},
   "source": [
    "Если вы укажете только имя файла, то Python будет искать этот файл в том же каталоге, что и сам скрипт.\n",
    "\n",
    "Однако, часто данные лежат не там, где код. Тогда необходимо указать путь.\n",
    "\n"
   ]
  },
  {
   "cell_type": "markdown",
   "id": "rural-honolulu",
   "metadata": {},
   "source": [
    "#### Относительный путь\n"
   ]
  },
  {
   "attachments": {
    "image.png": {
     "image/png": "[encoded data removed]"
    }
   },
   "cell_type": "markdown",
   "id": "everyday-belly",
   "metadata": {},
   "source": [
    "![image.png](attachment:image.png)"
   ]
  },
  {
   "cell_type": "markdown",
   "id": "personal-stopping",
   "metadata": {},
   "source": [
    "Если наш скрипт находится в каталоге myProject, то перейти в соседний каталог можно, вернувшись на 1 уровень выше\n",
    "\n"
   ]
  },
  {
   "cell_type": "code",
   "execution_count": null,
   "id": "junior-uzbekistan",
   "metadata": {},
   "outputs": [],
   "source": [
    "open('../myData/data2.txt', 'r')\n"
   ]
  },
  {
   "cell_type": "markdown",
   "id": "stock-melissa",
   "metadata": {},
   "source": [
    "Если в каталоге с нашим скриптом есть другой каталог, уже в котором находятся данные, то можно использовать одну из записей:\n",
    "\n"
   ]
  },
  {
   "cell_type": "code",
   "execution_count": null,
   "id": "molecular-mirror",
   "metadata": {},
   "outputs": [],
   "source": [
    "f = open('./dir/1.txt', 'r', encoding=\"utf-8\")\n",
    "# или\n",
    "f = open('dir/1.txt', 'r', encoding=\"utf-8\")"
   ]
  },
  {
   "cell_type": "markdown",
   "id": "deadly-botswana",
   "metadata": {},
   "source": [
    "#### Абсолютный путь\n"
   ]
  },
  {
   "cell_type": "markdown",
   "id": "innovative-israeli",
   "metadata": {},
   "source": [
    "Не рекомендуется использовать абсолютные пути, т.к. есть риск, что запускать скрипт придётся в другой среде, где пути будут иными. Например, вы разрабатываете на Windows, а запускаете под Linux.\n",
    "\n"
   ]
  },
  {
   "cell_type": "markdown",
   "id": "inclusive-cheat",
   "metadata": {},
   "source": [
    "В Linux для написания абсолютного пути (от корневого каталога) просто используйте символ \"/\":\n",
    "\n"
   ]
  },
  {
   "cell_type": "code",
   "execution_count": null,
   "id": "critical-bleeding",
   "metadata": {},
   "outputs": [],
   "source": [
    "open('/Users/joebob01/myFiles/allProjects/myData/data2.txt', 'r')\n"
   ]
  },
  {
   "cell_type": "markdown",
   "id": "funky-potential",
   "metadata": {},
   "source": [
    "В Windows вам потребуется указать диск и использовать обратные слэши \"\\\", чтобы не испытывать с ними проблем можно поставить перед кавычками символ \"r\", что сделает строку \"сырой\", либо использовать двойной \"\\\" (для экранирования):\n",
    "\n"
   ]
  },
  {
   "cell_type": "code",
   "execution_count": null,
   "id": "instant-concept",
   "metadata": {},
   "outputs": [],
   "source": [
    "f = open(r'C:\\git\\gittest\\4.php', 'r', encoding=\"utf-8\")\n",
    "# или \n",
    "f = open('C:\\\\git\\\\gittest\\\\4.php', 'r', encoding=\"utf-8\")"
   ]
  },
  {
   "cell_type": "code",
   "execution_count": null,
   "id": "recreational-woman",
   "metadata": {},
   "outputs": [],
   "source": [
    "https://ru.wikipedia.org/wiki/%D0%9F%D1%83%D1%82%D1%8C_%D0%BA_%D1%84%D0%B0%D0%B9%D0%BB%D1%83"
   ]
  },
  {
   "cell_type": "code",
   "execution_count": null,
   "id": "absolute-beads",
   "metadata": {},
   "outputs": [],
   "source": []
  },
  {
   "cell_type": "markdown",
   "id": "innocent-lebanon",
   "metadata": {},
   "source": [
    "Если файл не существует, то попытка открыть его для чтения приведёт к неприятной ошибке:\n",
    "\n"
   ]
  },
  {
   "cell_type": "markdown",
   "id": "average-philosophy",
   "metadata": {},
   "source": [
    "Безусловно, можно попытаться использовать исключения (try/except), однако такая конструкция довольно ресурсоёмкая в случае наступления исключительной ситуации (по этой же причине, например, лучше при делении проверить знаменатель на равенство нулю с помощью If, чем ловить исключение).\n",
    "\n"
   ]
  },
  {
   "cell_type": "code",
   "execution_count": 5,
   "id": "remarkable-alliance",
   "metadata": {},
   "outputs": [
    {
     "data": {
      "text/plain": [
       "True"
      ]
     },
     "execution_count": 5,
     "metadata": {},
     "output_type": "execute_result"
    }
   ],
   "source": [
    "import os.path\n",
    "os.path.isfile('some_file.txt')"
   ]
  },
  {
   "cell_type": "markdown",
   "id": "fifteen-medline",
   "metadata": {},
   "source": [
    "os.path.isfile возвращает:\n",
    "\n",
    "True, если по указанному пути есть файл\n",
    "False, если по указанному пути ничего нет, либо путь указывает на каталог, а не на файл"
   ]
  },
  {
   "cell_type": "markdown",
   "id": "innocent-identifier",
   "metadata": {},
   "source": [
    "Так же, если ваш файл лежит в каком-то каталоге, то иногда полезно проверить весь путь по частям (т.е. каждый каталог и подкаталог на существование):\n",
    "\n"
   ]
  },
  {
   "cell_type": "code",
   "execution_count": null,
   "id": "charitable-straight",
   "metadata": {},
   "outputs": [],
   "source": [
    "import os.path\n",
    "os.path.exists('dir/')"
   ]
  },
  {
   "cell_type": "code",
   "execution_count": null,
   "id": "verified-surname",
   "metadata": {},
   "outputs": [],
   "source": [
    "import os.path\n",
    "os.path.exists('dir/')"
   ]
  },
  {
   "cell_type": "code",
   "execution_count": null,
   "id": "refined-campbell",
   "metadata": {},
   "outputs": [],
   "source": []
  },
  {
   "cell_type": "markdown",
   "id": "quick-prize",
   "metadata": {},
   "source": [
    "### Запись в файл\n"
   ]
  },
  {
   "cell_type": "markdown",
   "id": "private-formation",
   "metadata": {},
   "source": [
    "Для того чтобы писать что-то в файл сперва его необходимо открыть на запись или изменение, т.к. со флагом \"w\", \"x\", \"+\" или \"a\". Ранее мы всегда открывали файл только на чтение со флагом \"r\".\n",
    "\n"
   ]
  },
  {
   "cell_type": "code",
   "execution_count": null,
   "id": "fluid-distance",
   "metadata": {},
   "outputs": [],
   "source": [
    "write()\n"
   ]
  },
  {
   "cell_type": "markdown",
   "id": "cathedral-cleaners",
   "metadata": {},
   "source": [
    "Самый простой способ записать что-то в файл - передать строку в функцию write, применяемую к файловому дескриптору:\n",
    "\n"
   ]
  },
  {
   "cell_type": "code",
   "execution_count": 33,
   "id": "employed-baseball",
   "metadata": {},
   "outputs": [],
   "source": [
    "with open('text.txt', 'w', encoding='utf-8') as f:\n",
    "    text = '''Привет, Мир!'''\n",
    "    f.write(text)"
   ]
  },
  {
   "cell_type": "code",
   "execution_count": 34,
   "id": "noticed-scenario",
   "metadata": {},
   "outputs": [],
   "source": [
    "f = open('text.txt', 'r', encoding=\"utf-8\")\n",
    "textff = f.read()"
   ]
  },
  {
   "cell_type": "code",
   "execution_count": 35,
   "id": "fantastic-specific",
   "metadata": {},
   "outputs": [
    {
     "data": {
      "text/plain": [
       "'Привет, Мир!Привет, Мир!Привет, Мир!Привет, Мир!Привет, Мир!Привет, Мир!Привет, Мир!Привет, Мир!Привет, Мир!Привет, Мир!Привет, Мир!Привет, Мир!Привет, Мир!Привет, Мир!Привет, Мир!'"
      ]
     },
     "execution_count": 35,
     "metadata": {},
     "output_type": "execute_result"
    }
   ],
   "source": [
    "textff"
   ]
  },
  {
   "cell_type": "markdown",
   "id": "qualified-society",
   "metadata": {},
   "source": [
    "Функцию write можно применять несколько раз. Каждую новую переданную строку она будет записывать в файл сразу после предыдущей, склеивая их.\n",
    "\n"
   ]
  },
  {
   "attachments": {
    "image.png": {
     "image/png": "[encoded data removed]"
    }
   },
   "cell_type": "markdown",
   "id": "surprising-aberdeen",
   "metadata": {},
   "source": [
    "![image.png](attachment:image.png)"
   ]
  },
  {
   "cell_type": "markdown",
   "id": "sporting-european",
   "metadata": {},
   "source": [
    "### writelines()\n"
   ]
  },
  {
   "cell_type": "markdown",
   "id": "executive-geneva",
   "metadata": {},
   "source": [
    "Функция writelines позволяет записать в файл последовательно все строки из переданного в неё списка. По сути это эквивалент вызова write() в цикле, т.к. переносы строк необходимо добавлять самостоятельно!\n",
    "\n"
   ]
  },
  {
   "cell_type": "code",
   "execution_count": null,
   "id": "duplicate-packaging",
   "metadata": {},
   "outputs": [],
   "source": [
    "with open('text.txt', 'w', encoding='utf-8') as f:\n",
    "    text1 = '''Привет, Мир!'''\n",
    "    text2 = '''Я - вторая строка'''\n",
    "    f.writelines([text1, text2])"
   ]
  },
  {
   "cell_type": "markdown",
   "id": "handy-wings",
   "metadata": {},
   "source": [
    "Разница между флагами \"w\" и \"a\"\n"
   ]
  },
  {
   "cell_type": "markdown",
   "id": "center-hollywood",
   "metadata": {},
   "source": [
    "Если файл уже существует, то открытие его с флагом \"w\" приведёт к полному уничтожению содержимого при новой записи. Открытие с флагом \"a\" позволяет дописывать новые строки в конец файла.\n",
    "\n",
    "При этом вам не удастся переместить курсор с помощью seek() для записи в начало:\n",
    "\n"
   ]
  },
  {
   "cell_type": "markdown",
   "id": "injured-secondary",
   "metadata": {},
   "source": [
    "А если файла нет?\n",
    "Открытие файла на запись создаст файл."
   ]
  },
  {
   "cell_type": "markdown",
   "id": "coordinated-niagara",
   "metadata": {},
   "source": [
    "### МОДУЛИ"
   ]
  },
  {
   "cell_type": "markdown",
   "id": "continued-duration",
   "metadata": {},
   "source": [
    "Система модулей позволяет вам логически организовать ваш код на Python. Группирование кода в модули значительно облегчает процесс написания и понимания программы. Говоря простым языком, модуль в Python это  просто файл, содержащий код на Python. Каждый модуль в Python может содержать переменные, объявления классов и функций. Кроме того, в модуле может находиться исполняемый код.\n",
    "\n"
   ]
  },
  {
   "cell_type": "markdown",
   "id": "native-administration",
   "metadata": {},
   "source": [
    "Вы можете использовать любой питоновский файл как модуль в другом файле, выполнив в нем команду import. Команда import в Python обладает следующим синтаксисом:\n",
    "\n"
   ]
  },
  {
   "cell_type": "code",
   "execution_count": null,
   "id": "orange-litigation",
   "metadata": {},
   "outputs": [],
   "source": [
    "import module_1[, module_2[,... module_N]"
   ]
  },
  {
   "cell_type": "markdown",
   "id": "collaborative-wilderness",
   "metadata": {},
   "source": [
    "Когда интерпретатор Python встречает команду import, он импортирует (дает доступ) этот модуль, если он присутствует в пути поиска Python. Путь поиска Python это список директорий, в которых интерпретатор производит поиск перед попыткой загрузить модуль. Например, чтобы использовать модуль math следует написать:\n",
    "\n"
   ]
  },
  {
   "cell_type": "code",
   "execution_count": 28,
   "id": "acoustic-keeping",
   "metadata": {},
   "outputs": [
    {
     "name": "stdout",
     "output_type": "stream",
     "text": [
      "3.0\n",
      "3.141592653589793\n"
     ]
    }
   ],
   "source": [
    "import math\n",
    "# Используем функцию sqrt из модуля math\n",
    "print (math.sqrt(9))\n",
    "# Печатаем значение переменной pi, определенной в math\n",
    "print (math.pi)"
   ]
  },
  {
   "cell_type": "markdown",
   "id": "working-atmosphere",
   "metadata": {},
   "source": [
    "#### Команда from ... import в Python\n"
   ]
  },
  {
   "cell_type": "markdown",
   "id": "narrow-transport",
   "metadata": {},
   "source": [
    "Команда from ... import позволяет вам импортировать не весь модуль целиком, а только определенное его содержимое. Например:\n",
    "\n"
   ]
  },
  {
   "cell_type": "code",
   "execution_count": 32,
   "id": "peripheral-independence",
   "metadata": {},
   "outputs": [
    {
     "data": {
      "text/plain": [
       "12.0"
      ]
     },
     "execution_count": 32,
     "metadata": {},
     "output_type": "execute_result"
    }
   ],
   "source": [
    "# Импортируем из модуля math функцию sqrt\n",
    "from math import sqrt\n",
    "# Выводим результат выполнения функции sqrt.\n",
    "# Обратите внимание, что нам больше незачем указывать имя модуля\n",
    "sqrt(144)\n",
    "# Но мы уже не можем получить из модуля то, что не импортировали\n",
    "# print (pi) # Выдаст ошибку"
   ]
  },
  {
   "cell_type": "markdown",
   "id": "lovely-antigua",
   "metadata": {},
   "source": [
    "##### Команда from ... import * в Python:\n"
   ]
  },
  {
   "cell_type": "code",
   "execution_count": null,
   "id": "explicit-skill",
   "metadata": {},
   "outputs": [],
   "source": [
    "В Python так же возможно импортировать всё (переменные, функции, классы) за раз из модуля, для этого используется конструкция from ... import *. Например:\n",
    "\n"
   ]
  },
  {
   "cell_type": "markdown",
   "id": "assigned-chick",
   "metadata": {},
   "source": []
  },
  {
   "cell_type": "code",
   "execution_count": null,
   "id": "surrounded-mapping",
   "metadata": {},
   "outputs": [],
   "source": [
    "from math import *\n",
    " \n",
    "# Теперь у нас есть доступ ко всем функция и переменным, определенным в модуле math\n",
    " \n",
    "print (sqrt(121))\n",
    "print (pi)\n",
    "print (e)"
   ]
  },
  {
   "cell_type": "markdown",
   "id": "alternate-growing",
   "metadata": {},
   "source": [
    "Местонахождение модулей в Python:\n"
   ]
  },
  {
   "cell_type": "markdown",
   "id": "particular-kitchen",
   "metadata": {},
   "source": [
    "Когда вы импортируете модуль, интерпретатор Python ищет этот модуль в следующих местах:\n",
    "\n",
    "Директория, в которой находится файл, в котором вызывается команда импорта\n",
    "\n",
    "Если модуль не найден, Python ищет в каждой директории, определенной в консольной переменной PYTHONPATH.\n",
    "\n",
    "Если и там модуль не найден, Python проверяет путь заданный по умолчанию\n",
    "\n",
    "Путь поиска модулей сохранен в системном модуле sys в переменной path. Переменная sys.path содержит все три вышеописанных места поиска модулей."
   ]
  },
  {
   "cell_type": "code",
   "execution_count": null,
   "id": "covered-marina",
   "metadata": {},
   "outputs": [],
   "source": []
  },
  {
   "cell_type": "markdown",
   "id": "scheduled-behalf",
   "metadata": {},
   "source": [
    "Однако это конструкцию следует использовать с осторожностью, поскольку при импортировании нескольких модулей можно запутаться в своем собственном коде.\n",
    "\n"
   ]
  },
  {
   "cell_type": "markdown",
   "id": "third-gibson",
   "metadata": {},
   "source": [
    "Есть несколько способов добавить модуль в Anaconda.\n",
    "\n",
    "conda install <package>\n",
    "\n",
    "\n",
    "pip install <package>\n",
    "\n",
    "python setup.py install (если вы находитесь в исходном каталоге, sudo не требуется, если anaconda находится в вашем домашнем каталоге)"
   ]
  },
  {
   "cell_type": "markdown",
   "id": "ranking-eligibility",
   "metadata": {},
   "source": [
    "#### Получение списка всех модулей Python установленных на компьютере:\n"
   ]
  },
  {
   "cell_type": "markdown",
   "id": "offensive-building",
   "metadata": {},
   "source": [
    "Для того, чтобы получить список всех модулей, установленных на вашем компьютере достаточно выполнить команду:\n",
    "\n"
   ]
  },
  {
   "cell_type": "code",
   "execution_count": 33,
   "id": "subtle-typing",
   "metadata": {},
   "outputs": [
    {
     "name": "stdout",
     "output_type": "stream",
     "text": [
      "\n",
      "Please wait a moment while I gather a list of all available modules...\n",
      "\n"
     ]
    },
    {
     "name": "stderr",
     "output_type": "stream",
     "text": [
      "/mnt/c/ds/env/lib/python3.8/site-packages/IPython/kernel/__init__.py:12: ShimWarning: The `IPython.kernel` package has been deprecated since IPython 4.0.You should import from ipykernel or jupyter_client instead.\n",
      "  warn(\"The `IPython.kernel` package has been deprecated since IPython 4.0.\"\n",
      "/usr/lib/python3.8/pkgutil.py:92: MatplotlibDeprecationWarning: \n",
      "The matplotlib.compat module was deprecated in Matplotlib 3.3 and will be removed two minor releases later.\n",
      "  __import__(info.name)\n",
      "/usr/lib/python3.8/pkgutil.py:107: VisibleDeprecationWarning:\n",
      "\n",
      "zmq.eventloop.minitornado is deprecated in pyzmq 14.0 and will be removed.\n",
      "    Install tornado itself to use zmq with the tornado IOLoop.\n",
      "    \n",
      "\n"
     ]
    },
    {
     "name": "stdout",
     "output_type": "stream",
     "text": [
      "IPython             argparse            itertools           rlcompleter\n",
      "PIL                 array               jedi                rmagic\n",
      "__future__          ast                 jinja2              runpy\n",
      "_abc                async_generator     joblib              sched\n",
      "_ast                asynchat            json                scipy\n",
      "_asyncio            asyncio             jsonschema          seaborn\n",
      "_bisect             asyncore            jupyter             secrets\n",
      "_blake2             atexit              jupyter_client      select\n",
      "_bootlocale         attr                jupyter_console     selectors\n",
      "_bz2                audioop             jupyter_core        send2trash\n",
      "_cffi_backend       autoreload          jupyterlab_plotly   setuptools\n",
      "_codecs             backcall            jupyterlab_pygments shelve\n",
      "_codecs_cn          base64              jupyterlab_widgets  shlex\n",
      "_codecs_hk          bdb                 keyword             shutil\n",
      "_codecs_iso2022     binascii            kiwisolver          signal\n",
      "_codecs_jp          binhex              lib2to3             site\n",
      "_codecs_kr          bisect              linecache           sitecustomize\n",
      "_codecs_tw          bleach              locale              six\n",
      "_collections        builtins            logging             sklearn\n",
      "_collections_abc    bz2                 lzma                smtpd\n",
      "_compat_pickle      cProfile            mailbox             smtplib\n",
      "_compression        calendar            mailcap             sndhdr\n",
      "_contextvars        cffi                markupsafe          socket\n",
      "_crypt              cgi                 marshal             socketserver\n",
      "_csv                cgitb               math                spwd\n",
      "_ctypes             chunk               matplotlib          sqlite3\n",
      "_ctypes_test        cmath               mimetypes           sre_compile\n",
      "_curses             cmd                 mistune             sre_constants\n",
      "_curses_panel       code                mmap                sre_parse\n",
      "_datetime           codecs              modulefinder        ssl\n",
      "_dbm                codeop              multiprocessing     stat\n",
      "_decimal            collections         nbclient            statistics\n",
      "_distutils_hack     colorsys            nbconvert           storemagic\n",
      "_dummy_thread       compileall          nbformat            string\n",
      "_elementtree        concurrent          nest_asyncio        stringprep\n",
      "_functools          configparser        netrc               struct\n",
      "_gdbm               contextlib          nis                 subprocess\n",
      "_hashlib            contextvars         nntplib             sunau\n",
      "_heapq              copy                notebook            symbol\n",
      "_imp                copyreg             ntpath              sympyprinting\n",
      "_io                 crypt               nturl2path          symtable\n",
      "_json               csv                 numbers             sys\n",
      "_locale             ctypes              numpy               sysconfig\n",
      "_lsprof             curses              opcode              syslog\n",
      "_lzma               cycler              openpyxl            tabnanny\n",
      "_markupbase         cythonmagic         operator            tabulate\n",
      "_md5                dataclasses         optparse            tarfile\n",
      "_multibytecodec     datetime            os                  telnetlib\n",
      "_multiprocessing    dateutil            ossaudiodev         tempfile\n",
      "_opcode             dbm                 packaging           tenacity\n",
      "_operator           decimal             pandas              terminado\n",
      "_osx_support        decorator           pandocfilters       termios\n",
      "_pickle             defusedxml          parser              test\n",
      "_plotly_future_     difflib             parso               testpath\n",
      "_plotly_utils       dis                 pathlib             tests\n",
      "_posixshmem         distutils           pdb                 textwrap\n",
      "_posixsubprocess    doctest             pexpect             this\n",
      "_py_abc             dummy_threading     pickle              threading\n",
      "_pydecimal          eli5                pickleshare         threadpoolctl\n",
      "_pyio               email               pickletools         time\n",
      "_pyrsistent_version encodings           pip                 timeit\n",
      "_queue              entrypoints         pipes               token\n",
      "_random             enum                pkg_resources       tokenize\n",
      "_sha1               errno               pkgutil             tornado\n",
      "_sha256             et_xmlfile          platform            tqdm\n",
      "_sha3               faulthandler        plistlib            trace\n",
      "_sha512             fcntl               plotly              traceback\n",
      "_signal             filecmp             plotlywidget        tracemalloc\n",
      "_sitebuiltins       fileinput           poplib              traitlets\n",
      "_socket             findspark           posix               tty\n",
      "_sqlite3            fnmatch             posixpath           turtle\n",
      "_sre                formatter           pprint              types\n",
      "_ssl                fractions           profile             typing\n",
      "_stat               ftplib              prometheus_client   unicodedata\n",
      "_statistics         functools           prompt_toolkit      unittest\n",
      "_string             gc                  pstats              urllib\n",
      "_strptime           genericpath         pty                 uu\n",
      "_struct             getopt              ptyprocess          uuid\n",
      "_symtable           getpass             pvectorc            venv\n",
      "_sysconfigdata__linux_x86_64-linux-gnu gettext             pwd                 warnings\n",
      "_sysconfigdata__x86_64-linux-gnu glob                py_compile          waterfall_chart\n",
      "_testbuffer         graphviz            pyclbr              wave\n",
      "_testcapi           grp                 pycparser           wcwidth\n",
      "_testimportmultiple gzip                pydoc               weakref\n",
      "_testinternalcapi   hashlib             pydoc_data          webbrowser\n",
      "_testmultiphase     heapq               pyexpat             webencodings\n",
      "_thread             hmac                pygments            wheel\n",
      "_threading_local    html                pylab               widgetsnbextension\n",
      "_tracemalloc        http                pyparsing           wsgiref\n",
      "_uuid               imaplib             pyrsistent          xdrlib\n",
      "_virtualenv         imghdr              pytz                xlrd\n",
      "_warnings           imp                 qtconsole           xml\n",
      "_weakref            importlib           qtpy                xmlrpc\n",
      "_weakrefset         inspect             queue               xxlimited\n",
      "_xxsubinterpreters  io                  quopri              xxsubtype\n",
      "_xxtestfuzz         ipaddress           random              zipapp\n",
      "abc                 ipykernel           re                  zipfile\n",
      "aifc                ipykernel_launcher  readline            zipimport\n",
      "antigravity         ipython_genutils    reprlib             zlib\n",
      "argon2              ipywidgets          resource            zmq\n",
      "\n",
      "Enter any module name to get more help.  Or, type \"modules spam\" to search\n",
      "for modules whose name or summary contain the string \"spam\".\n",
      "\n"
     ]
    }
   ],
   "source": [
    "help(\"modules\")"
   ]
  },
  {
   "cell_type": "code",
   "execution_count": null,
   "id": "martial-statistics",
   "metadata": {},
   "outputs": [],
   "source": []
  },
  {
   "cell_type": "markdown",
   "id": "presidential-acrobat",
   "metadata": {},
   "source": [
    "#### Создание своего модуля в Python:\n"
   ]
  },
  {
   "cell_type": "markdown",
   "id": "arbitrary-duncan",
   "metadata": {},
   "source": [
    "Чтобы создать свой модуль в Python достаточно сохранить ваш скрипт с расширением .py Теперь он доступен в любом другом файле. Например, создадим два файла: module_1.py и module_2.py и сохраним их в одной директории. В первом запишем:\n",
    "\n"
   ]
  },
  {
   "cell_type": "code",
   "execution_count": null,
   "id": "external-preserve",
   "metadata": {},
   "outputs": [],
   "source": [
    "def hello():\n",
    "    print (\"Hello from module_1\")"
   ]
  },
  {
   "cell_type": "code",
   "execution_count": 37,
   "id": "vocal-february",
   "metadata": {},
   "outputs": [
    {
     "ename": "SyntaxError",
     "evalue": "invalid syntax (<ipython-input-37-d60377c660c4>, line 3)",
     "output_type": "error",
     "traceback": [
      "\u001b[0;36m  File \u001b[0;32m\"<ipython-input-37-d60377c660c4>\"\u001b[0;36m, line \u001b[0;32m3\u001b[0m\n\u001b[0;31m    hello()from module_1 import hello\u001b[0m\n\u001b[0m           ^\u001b[0m\n\u001b[0;31mSyntaxError\u001b[0m\u001b[0;31m:\u001b[0m invalid syntax\n"
     ]
    }
   ],
   "source": [
    "from module_1 import hello\n",
    " \n",
    "hello()from module_1 import hello\n",
    " \n",
    "hello()"
   ]
  },
  {
   "cell_type": "code",
   "execution_count": null,
   "id": "plastic-science",
   "metadata": {},
   "outputs": [],
   "source": [
    "pip install emoji"
   ]
  },
  {
   "cell_type": "code",
   "execution_count": null,
   "id": "catholic-brand",
   "metadata": {},
   "outputs": [],
   "source": [
    "import emoji\n",
    "result = emoji.emojize('Python is :thumbs_up:')\n",
    "print(result)\n",
    "# 'Python is ?'\n",
    "\n",
    "# Можно написать то же самое наоборот:\n",
    "result = emoji.demojize('Python is ?')\n",
    "print(result)\n",
    "# 'Python is :thumbs_up:'"
   ]
  },
  {
   "cell_type": "code",
   "execution_count": null,
   "id": "derived-throw",
   "metadata": {},
   "outputs": [],
   "source": []
  },
  {
   "cell_type": "code",
   "execution_count": null,
   "id": "conscious-happiness",
   "metadata": {},
   "outputs": [],
   "source": []
  },
  {
   "cell_type": "code",
   "execution_count": 37,
   "id": "normal-forth",
   "metadata": {},
   "outputs": [
    {
     "name": "stdout",
     "output_type": "stream",
     "text": [
      "Collecting emoji\n",
      "  Downloading emoji-1.6.1.tar.gz (170 kB)\n",
      "\u001b[K     |████████████████████████████████| 170 kB 1.6 MB/s eta 0:00:01\n",
      "\u001b[?25hBuilding wheels for collected packages: emoji\n",
      "  Building wheel for emoji (setup.py) ... \u001b[?25ldone\n",
      "\u001b[?25h  Created wheel for emoji: filename=emoji-1.6.1-py3-none-any.whl size=169294 sha256=570fed168392cc8f1cf497ab62992402b0e835a1615d9d25d3fe17b0495a9109\n",
      "  Stored in directory: /home/herrenot/.cache/pip/wheels/04/29/50/1e7189f03d2cf139e469863d54a1d3eabeb10c92c84e51f8a1\n",
      "Successfully built emoji\n",
      "Installing collected packages: emoji\n",
      "Successfully installed emoji-1.6.1\n",
      "\u001b[33mWARNING: You are using pip version 21.0.1; however, version 21.3.1 is available.\n",
      "You should consider upgrading via the '/mnt/c/ds/env/bin/python -m pip install --upgrade pip' command.\u001b[0m\n",
      "Note: you may need to restart the kernel to use updated packages.\n"
     ]
    }
   ],
   "source": []
  },
  {
   "cell_type": "code",
   "execution_count": null,
   "id": "small-dairy",
   "metadata": {},
   "outputs": [],
   "source": []
  },
  {
   "cell_type": "markdown",
   "id": "postal-python",
   "metadata": {},
   "source": [
    "### Модуль datetime\n"
   ]
  },
  {
   "cell_type": "markdown",
   "id": "violent-korea",
   "metadata": {},
   "source": [
    "Модуль datetime предоставляет классы для обработки времени и даты разными способами. Поддерживается и стандартный способ представления времени, однако больший упор сделан на простоту манипулирования датой, временем и их частями.\n",
    "\n"
   ]
  },
  {
   "cell_type": "markdown",
   "id": "blank-thinking",
   "metadata": {},
   "source": [
    "Класс datetime.date(year, month, day) - стандартная дата. Атрибуты: year, month, day. Неизменяемый объект.\n",
    "\n",
    "Класс datetime.time(hour=0, minute=0, second=0, microsecond=0, tzinfo=None) - стандартное время, не зависит от даты. Атрибуты: hour, minute, second, microsecond, tzinfo.\n",
    "\n",
    "Класс datetime.timedelta - разница между двумя моментами времени, с точностью до микросекунд.\n",
    "\n",
    "Класс datetime.tzinfo - абстрактный базовый класс для информации о временной зоне (например, для учета часового пояса и / или летнего времени).\n",
    "\n",
    "Класс datetime.datetime(year, month, day, hour=0, minute=0, second=0, microsecond=0, tzinfo=None) - комбинация даты и времени."
   ]
  },
  {
   "cell_type": "markdown",
   "id": "trying-bargain",
   "metadata": {},
   "source": [
    "Обязательные аргументы:\n",
    "\n",
    "    datetime.MINYEAR (1) ≤ year ≤ datetime.MAXYEAR (9999)\n",
    "    1 ≤ month ≤ 12\n",
    "    1 ≤ day ≤ количество дней в данном месяце и году"
   ]
  },
  {
   "cell_type": "markdown",
   "id": "julian-technician",
   "metadata": {},
   "source": [
    "Необязательные:\n",
    "\n",
    "    0 ≤ minute < 60\n",
    "    0 ≤ second < 60\n",
    "    0 ≤ microsecond < 1000000"
   ]
  },
  {
   "cell_type": "markdown",
   "id": "balanced-madagascar",
   "metadata": {},
   "source": [
    "#### Методы класса datetime:\n",
    "\n"
   ]
  },
  {
   "cell_type": "code",
   "execution_count": null,
   "id": "patent-projection",
   "metadata": {},
   "outputs": [],
   "source": [
    "datetime.today() - объект datetime из текущей даты и времени. Работает также, как и datetime.now() со значением tz=None.\n",
    "\n",
    "datetime.fromtimestamp(timestamp) - дата из стандартного представления времени.\n",
    "\n",
    "datetime.fromordinal(ordinal) - дата из числа, представляющего собой количество дней, прошедших с 01.01.1970.\n",
    "\n",
    "datetime.now(tz=None) - объект datetime из текущей даты и времени.\n",
    "\n",
    "datetime.combine(date, time) - объект datetime из комбинации объектов date и time.\n",
    "\n",
    "datetime.strptime(date_string, format) - преобразует строку в datetime (так же, как и функция strptime из модуля time).\n",
    "\n",
    "datetime.strftime(format) - см. функцию strftime из модуля time.\n",
    "\n",
    "datetime.date() - объект даты (с отсечением времени).\n",
    "\n",
    "datetime.time() - объект времени (с отсечением даты).\n",
    "\n",
    "datetime.replace([year[, month[, day[, hour[, minute[, second[, microsecond[, tzinfo]]]]]]]]) - возвращает новый объект datetime с изменёнными атрибутами.\n",
    "\n",
    "datetime.timetuple() - возвращает struct_time из datetime.\n",
    "\n",
    "datetime.toordinal() - количество дней, прошедших с 01.01.1970.\n",
    "\n",
    "datetime.timestamp() - возвращает время в секундах с начала эпохи.\n",
    "\n",
    "datetime.weekday() - день недели в виде числа, понедельник - 0, воскресенье - 6.\n",
    "\n",
    "datetime.isoweekday() - день недели в виде числа, понедельник - 1, воскресенье - 7.\n",
    "\n",
    "datetime.isocalendar() - кортеж (год в формате ISO, ISO номер недели, ISO день недели).\n",
    "\n",
    "datetime.isoformat(sep='T') - красивая строка вида \"YYYY-MM-DDTHH:MM:SS.mmmmmm\" или, если microsecond == 0, \"YYYY-MM-DDTHH:MM:SS\""
   ]
  },
  {
   "cell_type": "code",
   "execution_count": 58,
   "id": "exceptional-arkansas",
   "metadata": {},
   "outputs": [],
   "source": [
    "from datetime import datetime, date, time"
   ]
  },
  {
   "cell_type": "code",
   "execution_count": 55,
   "id": "packed-oakland",
   "metadata": {},
   "outputs": [],
   "source": [
    "import datetime"
   ]
  },
  {
   "cell_type": "code",
   "execution_count": null,
   "id": "decimal-circus",
   "metadata": {},
   "outputs": [],
   "source": []
  },
  {
   "cell_type": "code",
   "execution_count": 47,
   "id": "moving-constitutional",
   "metadata": {},
   "outputs": [
    {
     "data": {
      "text/plain": [
       "datetime.datetime(2021, 11, 28, 19, 14, 59, 220193)"
      ]
     },
     "execution_count": 47,
     "metadata": {},
     "output_type": "execute_result"
    }
   ],
   "source": [
    "datetime.now()"
   ]
  },
  {
   "cell_type": "code",
   "execution_count": 56,
   "id": "threatened-laptop",
   "metadata": {},
   "outputs": [
    {
     "data": {
      "text/plain": [
       "'28/11/2021'"
      ]
     },
     "execution_count": 56,
     "metadata": {},
     "output_type": "execute_result"
    }
   ],
   "source": [
    "datetime.datetime.today().strftime('%d/%m/%Y')"
   ]
  },
  {
   "cell_type": "code",
   "execution_count": 59,
   "id": "emotional-fitness",
   "metadata": {},
   "outputs": [
    {
     "data": {
      "text/plain": [
       "'28/11/2021'"
      ]
     },
     "execution_count": 59,
     "metadata": {},
     "output_type": "execute_result"
    }
   ],
   "source": [
    "datetime.strftime(datetime.now(), '%d/%m/%Y')"
   ]
  },
  {
   "cell_type": "code",
   "execution_count": 60,
   "id": "checked-myanmar",
   "metadata": {},
   "outputs": [
    {
     "name": "stdout",
     "output_type": "stream",
     "text": [
      "2021-11-28\n"
     ]
    }
   ],
   "source": [
    "\n",
    "import datetime\n",
    "\n",
    "date_object = datetime.date.today()\n",
    "print(date_object)"
   ]
  },
  {
   "cell_type": "code",
   "execution_count": 61,
   "id": "blond-dominican",
   "metadata": {},
   "outputs": [
    {
     "name": "stdout",
     "output_type": "stream",
     "text": [
      "['MAXYEAR', 'MINYEAR', '__builtins__', '__cached__', '__doc__', '__file__', '__loader__', '__name__', '__package__', '__spec__', 'date', 'datetime', 'datetime_CAPI', 'sys', 'time', 'timedelta', 'timezone', 'tzinfo']\n"
     ]
    }
   ],
   "source": [
    "print(dir(datetime))"
   ]
  },
  {
   "cell_type": "code",
   "execution_count": 62,
   "id": "political-astrology",
   "metadata": {
    "scrolled": true
   },
   "outputs": [
    {
     "name": "stdout",
     "output_type": "stream",
     "text": [
      "2019-04-13\n"
     ]
    }
   ],
   "source": [
    "import datetime\n",
    "\n",
    "d = datetime.date(2019, 4, 13)\n",
    "print(d)"
   ]
  },
  {
   "cell_type": "code",
   "execution_count": null,
   "id": "fresh-receptor",
   "metadata": {},
   "outputs": [],
   "source": [
    "какой тип у д?"
   ]
  },
  {
   "cell_type": "code",
   "execution_count": null,
   "id": "horizontal-knock",
   "metadata": {},
   "outputs": [],
   "source": []
  },
  {
   "cell_type": "code",
   "execution_count": null,
   "id": "orange-closer",
   "metadata": {},
   "outputs": [],
   "source": []
  },
  {
   "cell_type": "code",
   "execution_count": 63,
   "id": "colored-naples",
   "metadata": {},
   "outputs": [
    {
     "data": {
      "text/plain": [
       "datetime.date"
      ]
     },
     "execution_count": 63,
     "metadata": {},
     "output_type": "execute_result"
    }
   ],
   "source": [
    "type(d)"
   ]
  },
  {
   "cell_type": "code",
   "execution_count": 64,
   "id": "behind-cooper",
   "metadata": {},
   "outputs": [
    {
     "name": "stdout",
     "output_type": "stream",
     "text": [
      "Current date = 2021-11-28\n"
     ]
    }
   ],
   "source": [
    "\n",
    "from datetime import date\n",
    "\n",
    "today = date.today()\n",
    "\n",
    "print(\"Current date =\", today)"
   ]
  },
  {
   "cell_type": "code",
   "execution_count": 65,
   "id": "surface-dialogue",
   "metadata": {},
   "outputs": [
    {
     "name": "stdout",
     "output_type": "stream",
     "text": [
      "Date = 2012-01-11\n"
     ]
    }
   ],
   "source": [
    "\n",
    "from datetime import date\n",
    "\n",
    "timestamp = date.fromtimestamp(1326244364)\n",
    "print(\"Date =\", timestamp)"
   ]
  },
  {
   "cell_type": "code",
   "execution_count": 66,
   "id": "joined-ancient",
   "metadata": {},
   "outputs": [
    {
     "name": "stdout",
     "output_type": "stream",
     "text": [
      "Current year: 2021\n",
      "Current month: 11\n",
      "Current day: 28\n"
     ]
    }
   ],
   "source": [
    "from datetime import date\n",
    "\n",
    "# date object of today's date\n",
    "today = date.today() \n",
    "\n",
    "print(\"Current year:\", today.year)\n",
    "print(\"Current month:\", today.month)\n",
    "print(\"Current day:\", today.day)"
   ]
  },
  {
   "cell_type": "code",
   "execution_count": 67,
   "id": "metropolitan-shipping",
   "metadata": {},
   "outputs": [
    {
     "name": "stdout",
     "output_type": "stream",
     "text": [
      "a = 00:00:00\n",
      "b = 11:34:56\n",
      "c = 11:34:56\n",
      "d = 11:34:56.234566\n"
     ]
    }
   ],
   "source": [
    "# time(hour = 0, minute = 0, second = 0)\n",
    "a = time()\n",
    "print(\"a =\", a)\n",
    "\n",
    "# time(hour, minute and second)\n",
    "b = time(11, 34, 56)\n",
    "print(\"b =\", b)\n",
    "\n",
    "# time(hour, minute and second)\n",
    "c = time(hour = 11, minute = 34, second = 56)\n",
    "print(\"c =\", c)\n",
    "\n",
    "# time(hour, minute, second, microsecond)\n",
    "d = time(11, 34, 56, 234566)\n",
    "print(\"d =\", d)"
   ]
  },
  {
   "cell_type": "code",
   "execution_count": 68,
   "id": "communist-fighter",
   "metadata": {},
   "outputs": [
    {
     "name": "stdout",
     "output_type": "stream",
     "text": [
      "hour = 11\n",
      "minute = 34\n",
      "second = 56\n",
      "microsecond = 0\n"
     ]
    }
   ],
   "source": [
    "from datetime import time\n",
    "\n",
    "a = time(11, 34, 56)\n",
    "\n",
    "print(\"hour =\", a.hour)\n",
    "print(\"minute =\", a.minute)\n",
    "print(\"second =\", a.second)\n",
    "print(\"microsecond =\", a.microsecond)"
   ]
  },
  {
   "cell_type": "code",
   "execution_count": 69,
   "id": "cooked-christian",
   "metadata": {},
   "outputs": [
    {
     "name": "stdout",
     "output_type": "stream",
     "text": [
      "t3 = 201 days, 0:00:00\n",
      "t6 = -333 days, 1:14:20\n",
      "type of t3 = <class 'datetime.timedelta'>\n",
      "type of t6 = <class 'datetime.timedelta'>\n"
     ]
    }
   ],
   "source": [
    "from datetime import datetime, date\n",
    "\n",
    "t1 = date(year = 2018, month = 7, day = 12)\n",
    "t2 = date(year = 2017, month = 12, day = 23)\n",
    "t3 = t1 - t2\n",
    "print(\"t3 =\", t3)\n",
    "\n",
    "t4 = datetime(year = 2018, month = 7, day = 12, hour = 7, minute = 9, second = 33)\n",
    "t5 = datetime(year = 2019, month = 6, day = 10, hour = 5, minute = 55, second = 13)\n",
    "t6 = t4 - t5\n",
    "print(\"t6 =\", t6)\n",
    "\n",
    "print(\"type of t3 =\", type(t3)) \n",
    "print(\"type of t6 =\", type(t6))  "
   ]
  },
  {
   "cell_type": "code",
   "execution_count": null,
   "id": "floating-amazon",
   "metadata": {},
   "outputs": [],
   "source": []
  },
  {
   "cell_type": "code",
   "execution_count": 70,
   "id": "equal-incidence",
   "metadata": {},
   "outputs": [
    {
     "name": "stdout",
     "output_type": "stream",
     "text": [
      "t3 = 14 days, 13:55:39\n"
     ]
    }
   ],
   "source": [
    "\n",
    "from datetime import timedelta\n",
    "\n",
    "t1 = timedelta(weeks = 2, days = 5, hours = 1, seconds = 33)\n",
    "t2 = timedelta(days = 4, hours = 11, minutes = 4, seconds = 54)\n",
    "t3 = t1 - t2\n",
    "\n",
    "print(\"t3 =\", t3)"
   ]
  },
  {
   "cell_type": "code",
   "execution_count": 71,
   "id": "extreme-gregory",
   "metadata": {},
   "outputs": [
    {
     "name": "stdout",
     "output_type": "stream",
     "text": [
      "t3 = -1 day, 23:59:39\n",
      "t3 = 0:00:21\n"
     ]
    }
   ],
   "source": [
    "\n",
    "from datetime import timedelta\n",
    "\n",
    "t1 = timedelta(seconds = 33)\n",
    "t2 = timedelta(seconds = 54)\n",
    "t3 = t1 - t2\n",
    "\n",
    "print(\"t3 =\", t3)\n",
    "print(\"t3 =\", abs(t3))"
   ]
  },
  {
   "cell_type": "code",
   "execution_count": 72,
   "id": "arctic-circumstances",
   "metadata": {},
   "outputs": [
    {
     "name": "stdout",
     "output_type": "stream",
     "text": [
      "total seconds = 435633.233423\n"
     ]
    }
   ],
   "source": [
    "\n",
    "from datetime import timedelta\n",
    "\n",
    "t = timedelta(days = 5, hours = 1, seconds = 33, microseconds = 233423)\n",
    "print(\"total seconds =\", t.total_seconds())"
   ]
  },
  {
   "cell_type": "code",
   "execution_count": 73,
   "id": "systematic-edwards",
   "metadata": {},
   "outputs": [
    {
     "name": "stdout",
     "output_type": "stream",
     "text": [
      "time: 19:21:39\n",
      "s1: 11/28/2021, 19:21:39\n",
      "s2: 28/11/2021, 19:21:39\n"
     ]
    }
   ],
   "source": [
    "from datetime import datetime\n",
    "\n",
    "# current date and time\n",
    "now = datetime.now()\n",
    "\n",
    "t = now.strftime(\"%H:%M:%S\")\n",
    "print(\"time:\", t)\n",
    "\n",
    "s1 = now.strftime(\"%m/%d/%Y, %H:%M:%S\")\n",
    "# mm/dd/YY H:M:S format\n",
    "print(\"s1:\", s1)\n",
    "\n",
    "s2 = now.strftime(\"%d/%m/%Y, %H:%M:%S\")\n",
    "# dd/mm/YY H:M:S format\n",
    "print(\"s2:\", s2)"
   ]
  },
  {
   "cell_type": "code",
   "execution_count": null,
   "id": "danish-microwave",
   "metadata": {},
   "outputs": [],
   "source": [
    "Here, %Y, %m, %d, %H etc. are format codes. The strftime() method takes one or more format codes and returns a formatted string based on it.\n",
    "\n",
    "In the above program, t, s1 and s2 are strings.\n",
    "\n",
    "%Y - year [0001,..., 2018, 2019,..., 9999]\n",
    "%m - month [01, 02, ..., 11, 12]\n",
    "%d - day [01, 02, ..., 30, 31]\n",
    "%H - hour [00, 01, ..., 22, 23\n",
    "%M - minute [00, 01, ..., 58, 59]\n",
    "%S - second [00, 01, ..., 58, 59]"
   ]
  },
  {
   "cell_type": "code",
   "execution_count": 74,
   "id": "minute-exhaust",
   "metadata": {},
   "outputs": [
    {
     "name": "stdout",
     "output_type": "stream",
     "text": [
      "date_string = 21 June, 2018\n",
      "date_object = 2018-06-21 00:00:00\n"
     ]
    }
   ],
   "source": [
    "from datetime import datetime\n",
    "\n",
    "date_string = \"21 June, 2018\"\n",
    "print(\"date_string =\", date_string)\n",
    "\n",
    "date_object = datetime.strptime(date_string, \"%d %B, %Y\")\n",
    "print(\"date_object =\", date_object)"
   ]
  },
  {
   "cell_type": "code",
   "execution_count": null,
   "id": "induced-ghana",
   "metadata": {},
   "outputs": [],
   "source": [
    "The strptime() method takes two arguments:\n",
    "\n",
    "a string representing date and time\n",
    "format code equivalent to the first argument"
   ]
  },
  {
   "cell_type": "code",
   "execution_count": null,
   "id": "voluntary-pierce",
   "metadata": {},
   "outputs": [],
   "source": []
  },
  {
   "cell_type": "code",
   "execution_count": null,
   "id": "weekly-buying",
   "metadata": {},
   "outputs": [],
   "source": []
  },
  {
   "cell_type": "markdown",
   "id": "horizontal-logic",
   "metadata": {},
   "source": [
    "## ДЗ"
   ]
  },
  {
   "cell_type": "markdown",
   "id": "large-distribution",
   "metadata": {},
   "source": [
    "1) Средний бал и список отстающих учеников"
   ]
  },
  {
   "cell_type": "code",
   "execution_count": null,
   "id": "korean-hungarian",
   "metadata": {},
   "outputs": [],
   "source": [
    "Иванов О. 4\n",
    "Петров И. 3\n",
    "Дмитриев Н. 2\n",
    "Смирнова О. 4\n",
    "Керченских В. 5\n",
    "Котов Д. 2\n",
    "Бирюкова Н. 1\n",
    "Данилов П. 3\n",
    "Аранских В. 5\n",
    "Лемонов Ю. 2\n",
    "Олегова К. 4"
   ]
  },
  {
   "cell_type": "code",
   "execution_count": null,
   "id": "constant-violence",
   "metadata": {},
   "outputs": [],
   "source": []
  },
  {
   "cell_type": "markdown",
   "id": "mature-guide",
   "metadata": {},
   "source": [
    "2) Посчитать количество определенных слов в файле"
   ]
  },
  {
   "cell_type": "code",
   "execution_count": null,
   "id": "casual-board",
   "metadata": {},
   "outputs": [],
   "source": [
    "Понедельник\n",
    "\tФизика (лекц.)\n",
    "\tФизика (лаб.)\n",
    "\tАлгебра (практ.)\n",
    " \n",
    "Вторник\n",
    "\tГеометрия (лекц.)\n",
    "\tФизика (практ.)\n",
    "\tФизика (лаб.)\n",
    "\tФизкультура (практ.)\n",
    "..."
   ]
  },
  {
   "cell_type": "code",
   "execution_count": null,
   "id": "written-matthew",
   "metadata": {},
   "outputs": [],
   "source": [
    "print('Лекций:', lec)\n",
    "print('Практических:', pract)\n",
    "print('Лабораторных:', lab)"
   ]
  },
  {
   "cell_type": "markdown",
   "id": "young-prince",
   "metadata": {},
   "source": [
    "3) Откройте Telegram, найдите @BotFather и начните беседу. Отправьте команду /newbot и следуйте инструкциям."
   ]
  },
  {
   "cell_type": "markdown",
   "id": "infrared-hamilton",
   "metadata": {},
   "source": [
    "свой токен;\n",
    "адрес Telegram API (https://api.telegram.org/bot);\n",
    "ссылку на документацию.\n",
    "Обязательно сохраните токен, так как это ключ для взаимодействия с ботом."
   ]
  },
  {
   "cell_type": "markdown",
   "id": "vocational-bikini",
   "metadata": {},
   "source": [
    "Хранение токена должно быть локальным: ни в коем случае не выгружайте его в общий доступ, например в GitHub-репозиторий ."
   ]
  },
  {
   "cell_type": "markdown",
   "id": "banned-substance",
   "metadata": {},
   "source": [
    "4) Выведите список файлов в указанной директории. например где у вас лежат ваши тетради\n",
    "\n"
   ]
  },
  {
   "cell_type": "markdown",
   "id": "actual-shakespeare",
   "metadata": {},
   "source": [
    "5) Напишите программу, которая принимает текст и выводит два слова: наиболее часто встречающееся и самое длинное."
   ]
  },
  {
   "cell_type": "markdown",
   "id": "neural-cricket",
   "metadata": {},
   "source": [
    "Варкалось. Хливкие шорьки\n",
    "Пырялись по наве,\n",
    "И хрюкотали зелюки,\n",
    "Как мюмзики в мове.\n",
    "\n",
    "О, бойся Бармаглота, сын!\n",
    "Он так свирлеп и дик!\n",
    "А в глу́ше ры́мит исполин —\n",
    "Злопастный Брандашмыг!\n",
    "\n",
    "Но взял он меч, и взял он щит,\n",
    "Высоких полон дум.\n",
    "В глущобу путь его лежит\n",
    "Под дерево Тумтум.\n",
    "\n",
    "Он стал под дерево и ждёт.\n",
    "И вдруг граахнул гром —\n",
    "Летит ужасный Бармаглот\n",
    "И пылкает огнём!\n",
    "\n",
    "Раз-два, раз-два! Горит трава,\n",
    "Взы-взы — стрижает меч,\n",
    "Ува! Ува! И голова\n",
    "Барабардает с плеч!\n",
    "\n",
    "О светозарный мальчик мой!\n",
    "Ты победил в бою!\n",
    "О храброславленный герой,\n",
    "Хвалу тебе пою!\n",
    "\n",
    "Варкалось. Хливкие шорьки\n",
    "Пырялись по наве.\n",
    "И хрюкотали зелюки,\n",
    "Как мюмзики в мове."
   ]
  },
  {
   "cell_type": "code",
   "execution_count": null,
   "id": "happy-locking",
   "metadata": {},
   "outputs": [],
   "source": [
    "collections Counter"
   ]
  },
  {
   "cell_type": "raw",
   "id": "cloudy-welding",
   "metadata": {},
   "source": [
    "Тексты сохраните в файл"
   ]
  },
  {
   "cell_type": "code",
   "execution_count": null,
   "id": "024f16bf",
   "metadata": {},
   "outputs": [],
   "source": []
  },
  {
   "cell_type": "code",
   "execution_count": null,
   "id": "774f631b",
   "metadata": {},
   "outputs": [],
   "source": [
    "Сервер на питоне - классы, дектораторы"
   ]
  },
  {
   "cell_type": "code",
   "execution_count": null,
   "id": "01ca2a3e",
   "metadata": {},
   "outputs": [],
   "source": [
    "Телеграм бот - желательно классы"
   ]
  },
  {
   "cell_type": "code",
   "execution_count": null,
   "id": "c4a5224f",
   "metadata": {},
   "outputs": [],
   "source": [
    "Визуализация - pandas,  np"
   ]
  },
  {
   "cell_type": "code",
   "execution_count": null,
   "id": "93a4fd37",
   "metadata": {},
   "outputs": [],
   "source": [
    "IoT"
   ]
  },
  {
   "cell_type": "code",
   "execution_count": null,
   "id": "8f92d383",
   "metadata": {},
   "outputs": [],
   "source": [
    "Бот по взаимодействию с API"
   ]
  },
  {
   "cell_type": "code",
   "execution_count": null,
   "id": "faae905c",
   "metadata": {},
   "outputs": [],
   "source": []
  }
 ],
 "metadata": {
  "kernelspec": {
   "display_name": "Python 3 (ipykernel)",
   "language": "python",
   "name": "python3"
  },
  "language_info": {
   "codemirror_mode": {
    "name": "ipython",
    "version": 3
   },
   "file_extension": ".py",
   "mimetype": "text/x-python",
   "name": "python",
   "nbconvert_exporter": "python",
   "pygments_lexer": "ipython3",
   "version": "3.8.10"
  }
 },
 "nbformat": 4,
 "nbformat_minor": 5
}
